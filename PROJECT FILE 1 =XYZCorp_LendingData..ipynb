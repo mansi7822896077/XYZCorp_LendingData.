{
 "cells": [
  {
   "cell_type": "markdown",
   "id": "0bb61dff",
   "metadata": {},
   "source": [
    "# Problem statement = \" Predict Default Index  i.e whether to give Loan or Not .\""
   ]
  },
  {
   "cell_type": "code",
   "execution_count": 1,
   "id": "626b932b",
   "metadata": {},
   "outputs": [],
   "source": [
    "#   Libraries Used\n",
    "import numpy as np\n",
    "import pandas as pd\n",
    "import matplotlib.pyplot as plt\n",
    "import seaborn as sns\n",
    "from sklearn.preprocessing import LabelEncoder\n",
    "le=LabelEncoder()\n",
    "from sklearn.model_selection import train_test_split\n",
    "from sklearn.linear_model import LogisticRegression\n",
    "lg=LogisticRegression()\n",
    "from sklearn.tree import DecisionTreeClassifier\n",
    "dt=DecisionTreeClassifier()\n",
    "from sklearn.svm import SVC  \n",
    "svc=SVC()\n",
    "from sklearn.naive_bayes import MultinomialNB \n",
    "nb=MultinomialNB()\n",
    "from sklearn.ensemble import RandomForestClassifier\n",
    "rf=RandomForestClassifier()\n",
    "from xgboost import XGBClassifier\n",
    "xg=XGBClassifier()\n",
    "from imblearn.under_sampling import RandomUnderSampler\n",
    "from imblearn.over_sampling import RandomOverSampler\n",
    "from imblearn.over_sampling import SMOTE\n",
    "smote=SMOTE()\n",
    "from imblearn.under_sampling import NearMiss\n",
    "nm=NearMiss()\n",
    "from sklearn.feature_selection import RFE\n",
    "from sklearn.metrics import confusion_matrix\n",
    "from sklearn.metrics import classification_report\n",
    "from sklearn.model_selection import train_test_split\n",
    "#from sklearn.metrics import precision_recall_curve\n",
    "#from sklearn.metrics import roc_curve\n",
    "import warnings\n",
    "warnings.filterwarnings('ignore')"
   ]
  },
  {
   "cell_type": "code",
   "execution_count": 2,
   "id": "572c49c5",
   "metadata": {},
   "outputs": [],
   "source": [
    "#  CONTENT\n",
    "# divide data into 2 churns i.e train-data and test-data\n",
    "#1. cleaning on both train and test data\n",
    "#2. All models on data Except KNN\n",
    "#3. class imbalance treatment -Random unersampling,Randomoversampling , , imblearn oversampling ,SMOTE , Near miss\n",
    "#4. Feature Selection Techniques -Recursive feature elimination,Chi-Square,Boruta\n",
    "#5. All Model using class imbalanced technique ( Random Undersampling ) + EDA\n",
    "#6. EDA on Train data"
   ]
  },
  {
   "cell_type": "code",
   "execution_count": 3,
   "id": "1ec4254d",
   "metadata": {},
   "outputs": [],
   "source": [
    "dataset=pd.read_table(r\"C:\\Users\\Mansi\\Downloads\\XYZCorp_LendingData11111.txt\",low_memory=False,delimiter=\"\\t\",header =0)\n",
    "#dataset"
   ]
  },
  {
   "cell_type": "code",
   "execution_count": 4,
   "id": "b251e5e3",
   "metadata": {},
   "outputs": [],
   "source": [
    "#divide the data into 2 churns i.e train and test part"
   ]
  },
  {
   "cell_type": "code",
   "execution_count": 5,
   "id": "879e84cc",
   "metadata": {},
   "outputs": [
    {
     "name": "stdout",
     "output_type": "stream",
     "text": [
      "<class 'pandas.core.frame.DataFrame'>\n",
      "RangeIndex: 855969 entries, 0 to 855968\n",
      "Data columns (total 73 columns):\n",
      " #   Column                       Non-Null Count   Dtype  \n",
      "---  ------                       --------------   -----  \n",
      " 0   id                           855969 non-null  int64  \n",
      " 1   member_id                    855969 non-null  int64  \n",
      " 2   loan_amnt                    855969 non-null  float64\n",
      " 3   funded_amnt                  855969 non-null  float64\n",
      " 4   funded_amnt_inv              855969 non-null  float64\n",
      " 5   term                         855969 non-null  object \n",
      " 6   int_rate                     855969 non-null  float64\n",
      " 7   installment                  855969 non-null  float64\n",
      " 8   grade                        855969 non-null  object \n",
      " 9   sub_grade                    855969 non-null  object \n",
      " 10  emp_title                    806526 non-null  object \n",
      " 11  emp_length                   812908 non-null  object \n",
      " 12  home_ownership               855969 non-null  object \n",
      " 13  annual_inc                   855969 non-null  float64\n",
      " 14  verification_status          855969 non-null  object \n",
      " 15  issue_d                      855969 non-null  object \n",
      " 16  pymnt_plan                   855969 non-null  object \n",
      " 17  desc                         121812 non-null  object \n",
      " 18  purpose                      855969 non-null  object \n",
      " 19  title                        855936 non-null  object \n",
      " 20  zip_code                     855969 non-null  object \n",
      " 21  addr_state                   855969 non-null  object \n",
      " 22  dti                          855969 non-null  float64\n",
      " 23  delinq_2yrs                  855969 non-null  float64\n",
      " 24  earliest_cr_line             855969 non-null  object \n",
      " 25  inq_last_6mths               855969 non-null  float64\n",
      " 26  mths_since_last_delinq       416157 non-null  float64\n",
      " 27  mths_since_last_record       131184 non-null  float64\n",
      " 28  open_acc                     855969 non-null  float64\n",
      " 29  pub_rec                      855969 non-null  float64\n",
      " 30  revol_bal                    855969 non-null  float64\n",
      " 31  revol_util                   855523 non-null  float64\n",
      " 32  total_acc                    855969 non-null  float64\n",
      " 33  initial_list_status          855969 non-null  object \n",
      " 34  out_prncp                    855969 non-null  float64\n",
      " 35  out_prncp_inv                855969 non-null  float64\n",
      " 36  total_pymnt                  855969 non-null  float64\n",
      " 37  total_pymnt_inv              855969 non-null  float64\n",
      " 38  total_rec_prncp              855969 non-null  float64\n",
      " 39  total_rec_int                855969 non-null  float64\n",
      " 40  total_rec_late_fee           855969 non-null  float64\n",
      " 41  recoveries                   855969 non-null  float64\n",
      " 42  collection_recovery_fee      855969 non-null  float64\n",
      " 43  last_pymnt_d                 847107 non-null  object \n",
      " 44  last_pymnt_amnt              855969 non-null  float64\n",
      " 45  next_pymnt_d                 602998 non-null  object \n",
      " 46  last_credit_pull_d           855919 non-null  object \n",
      " 47  collections_12_mths_ex_med   855913 non-null  float64\n",
      " 48  mths_since_last_major_derog  213139 non-null  float64\n",
      " 49  policy_code                  855969 non-null  float64\n",
      " 50  application_type             855969 non-null  object \n",
      " 51  annual_inc_joint             442 non-null     float64\n",
      " 52  dti_joint                    440 non-null     float64\n",
      " 53  verification_status_joint    442 non-null     object \n",
      " 54  acc_now_delinq               855969 non-null  float64\n",
      " 55  tot_coll_amt                 788656 non-null  float64\n",
      " 56  tot_cur_bal                  788656 non-null  float64\n",
      " 57  open_acc_6m                  13288 non-null   float64\n",
      " 58  open_il_6m                   13288 non-null   float64\n",
      " 59  open_il_12m                  13288 non-null   float64\n",
      " 60  open_il_24m                  13288 non-null   float64\n",
      " 61  mths_since_rcnt_il           12934 non-null   float64\n",
      " 62  total_bal_il                 13288 non-null   float64\n",
      " 63  il_util                      11609 non-null   float64\n",
      " 64  open_rv_12m                  13288 non-null   float64\n",
      " 65  open_rv_24m                  13288 non-null   float64\n",
      " 66  max_bal_bc                   13288 non-null   float64\n",
      " 67  all_util                     13288 non-null   float64\n",
      " 68  total_rev_hi_lim             788656 non-null  float64\n",
      " 69  inq_fi                       13288 non-null   float64\n",
      " 70  total_cu_tl                  13288 non-null   float64\n",
      " 71  inq_last_12m                 13288 non-null   float64\n",
      " 72  default_ind                  855969 non-null  int64  \n",
      "dtypes: float64(49), int64(3), object(21)\n",
      "memory usage: 476.7+ MB\n"
     ]
    }
   ],
   "source": [
    "dataset.info()"
   ]
  },
  {
   "cell_type": "code",
   "execution_count": 4,
   "id": "981d57d7",
   "metadata": {},
   "outputs": [],
   "source": [
    "#train dataset\n",
    "data_tr=dataset.iloc[0:455968,0:]"
   ]
  },
  {
   "cell_type": "code",
   "execution_count": 7,
   "id": "2e51d8c2",
   "metadata": {},
   "outputs": [],
   "source": [
    "#data_tr"
   ]
  },
  {
   "cell_type": "code",
   "execution_count": 8,
   "id": "f5dd254d",
   "metadata": {},
   "outputs": [
    {
     "data": {
      "text/plain": [
       "n    455964\n",
       "y         4\n",
       "Name: pymnt_plan, dtype: int64"
      ]
     },
     "execution_count": 8,
     "metadata": {},
     "output_type": "execute_result"
    }
   ],
   "source": [
    "data_tr.pymnt_plan.value_counts()"
   ]
  },
  {
   "cell_type": "code",
   "execution_count": 9,
   "id": "17ff98d6",
   "metadata": {},
   "outputs": [
    {
     "data": {
      "text/plain": [
       "(455968, 73)"
      ]
     },
     "execution_count": 9,
     "metadata": {},
     "output_type": "execute_result"
    }
   ],
   "source": [
    "data_tr.shape\n"
   ]
  },
  {
   "cell_type": "code",
   "execution_count": 10,
   "id": "2dcba869",
   "metadata": {},
   "outputs": [],
   "source": [
    "#data.head()"
   ]
  },
  {
   "cell_type": "code",
   "execution_count": 11,
   "id": "d3b3184c",
   "metadata": {},
   "outputs": [
    {
     "data": {
      "text/plain": [
       "Index(['id', 'member_id', 'loan_amnt', 'funded_amnt', 'funded_amnt_inv',\n",
       "       'term', 'int_rate', 'installment', 'grade', 'sub_grade', 'emp_title',\n",
       "       'emp_length', 'home_ownership', 'annual_inc', 'verification_status',\n",
       "       'issue_d', 'pymnt_plan', 'desc', 'purpose', 'title', 'zip_code',\n",
       "       'addr_state', 'dti', 'delinq_2yrs', 'earliest_cr_line',\n",
       "       'inq_last_6mths', 'mths_since_last_delinq', 'mths_since_last_record',\n",
       "       'open_acc', 'pub_rec', 'revol_bal', 'revol_util', 'total_acc',\n",
       "       'initial_list_status', 'out_prncp', 'out_prncp_inv', 'total_pymnt',\n",
       "       'total_pymnt_inv', 'total_rec_prncp', 'total_rec_int',\n",
       "       'total_rec_late_fee', 'recoveries', 'collection_recovery_fee',\n",
       "       'last_pymnt_d', 'last_pymnt_amnt', 'next_pymnt_d', 'last_credit_pull_d',\n",
       "       'collections_12_mths_ex_med', 'mths_since_last_major_derog',\n",
       "       'policy_code', 'application_type', 'annual_inc_joint', 'dti_joint',\n",
       "       'verification_status_joint', 'acc_now_delinq', 'tot_coll_amt',\n",
       "       'tot_cur_bal', 'open_acc_6m', 'open_il_6m', 'open_il_12m',\n",
       "       'open_il_24m', 'mths_since_rcnt_il', 'total_bal_il', 'il_util',\n",
       "       'open_rv_12m', 'open_rv_24m', 'max_bal_bc', 'all_util',\n",
       "       'total_rev_hi_lim', 'inq_fi', 'total_cu_tl', 'inq_last_12m',\n",
       "       'default_ind'],\n",
       "      dtype='object')"
      ]
     },
     "execution_count": 11,
     "metadata": {},
     "output_type": "execute_result"
    }
   ],
   "source": [
    "data_tr.columns"
   ]
  },
  {
   "cell_type": "code",
   "execution_count": 12,
   "id": "87ff2089",
   "metadata": {},
   "outputs": [
    {
     "data": {
      "text/html": [
       "<div>\n",
       "<style scoped>\n",
       "    .dataframe tbody tr th:only-of-type {\n",
       "        vertical-align: middle;\n",
       "    }\n",
       "\n",
       "    .dataframe tbody tr th {\n",
       "        vertical-align: top;\n",
       "    }\n",
       "\n",
       "    .dataframe thead th {\n",
       "        text-align: right;\n",
       "    }\n",
       "</style>\n",
       "<table border=\"1\" class=\"dataframe\">\n",
       "  <thead>\n",
       "    <tr style=\"text-align: right;\">\n",
       "      <th></th>\n",
       "      <th>id</th>\n",
       "      <th>member_id</th>\n",
       "      <th>loan_amnt</th>\n",
       "      <th>funded_amnt</th>\n",
       "      <th>funded_amnt_inv</th>\n",
       "      <th>term</th>\n",
       "      <th>int_rate</th>\n",
       "      <th>installment</th>\n",
       "      <th>grade</th>\n",
       "      <th>sub_grade</th>\n",
       "      <th>...</th>\n",
       "      <th>il_util</th>\n",
       "      <th>open_rv_12m</th>\n",
       "      <th>open_rv_24m</th>\n",
       "      <th>max_bal_bc</th>\n",
       "      <th>all_util</th>\n",
       "      <th>total_rev_hi_lim</th>\n",
       "      <th>inq_fi</th>\n",
       "      <th>total_cu_tl</th>\n",
       "      <th>inq_last_12m</th>\n",
       "      <th>default_ind</th>\n",
       "    </tr>\n",
       "  </thead>\n",
       "  <tbody>\n",
       "  </tbody>\n",
       "</table>\n",
       "<p>0 rows × 73 columns</p>\n",
       "</div>"
      ],
      "text/plain": [
       "Empty DataFrame\n",
       "Columns: [id, member_id, loan_amnt, funded_amnt, funded_amnt_inv, term, int_rate, installment, grade, sub_grade, emp_title, emp_length, home_ownership, annual_inc, verification_status, issue_d, pymnt_plan, desc, purpose, title, zip_code, addr_state, dti, delinq_2yrs, earliest_cr_line, inq_last_6mths, mths_since_last_delinq, mths_since_last_record, open_acc, pub_rec, revol_bal, revol_util, total_acc, initial_list_status, out_prncp, out_prncp_inv, total_pymnt, total_pymnt_inv, total_rec_prncp, total_rec_int, total_rec_late_fee, recoveries, collection_recovery_fee, last_pymnt_d, last_pymnt_amnt, next_pymnt_d, last_credit_pull_d, collections_12_mths_ex_med, mths_since_last_major_derog, policy_code, application_type, annual_inc_joint, dti_joint, verification_status_joint, acc_now_delinq, tot_coll_amt, tot_cur_bal, open_acc_6m, open_il_6m, open_il_12m, open_il_24m, mths_since_rcnt_il, total_bal_il, il_util, open_rv_12m, open_rv_24m, max_bal_bc, all_util, total_rev_hi_lim, inq_fi, total_cu_tl, inq_last_12m, default_ind]\n",
       "Index: []\n",
       "\n",
       "[0 rows x 73 columns]"
      ]
     },
     "execution_count": 12,
     "metadata": {},
     "output_type": "execute_result"
    }
   ],
   "source": [
    "data_tr[data_tr.duplicated()]"
   ]
  },
  {
   "cell_type": "code",
   "execution_count": 13,
   "id": "d4c66ac0",
   "metadata": {},
   "outputs": [
    {
     "data": {
      "text/plain": [
       "(0, 73)"
      ]
     },
     "execution_count": 13,
     "metadata": {},
     "output_type": "execute_result"
    }
   ],
   "source": [
    "data_tr[data_tr.duplicated()].shape"
   ]
  },
  {
   "cell_type": "code",
   "execution_count": 14,
   "id": "c8f20997",
   "metadata": {},
   "outputs": [
    {
     "data": {
      "text/plain": [
       "0         False\n",
       "1         False\n",
       "2         False\n",
       "3         False\n",
       "4         False\n",
       "          ...  \n",
       "455963    False\n",
       "455964    False\n",
       "455965    False\n",
       "455966    False\n",
       "455967    False\n",
       "Length: 455968, dtype: bool"
      ]
     },
     "execution_count": 14,
     "metadata": {},
     "output_type": "execute_result"
    }
   ],
   "source": [
    "data_tr.duplicated()"
   ]
  },
  {
   "cell_type": "code",
   "execution_count": 15,
   "id": "8fbf8513",
   "metadata": {},
   "outputs": [],
   "source": [
    "#data_tr.drop_duplicates(inplace=True)"
   ]
  },
  {
   "cell_type": "code",
   "execution_count": 16,
   "id": "1b39e5ed",
   "metadata": {},
   "outputs": [
    {
     "data": {
      "text/plain": [
       "(455968, 73)"
      ]
     },
     "execution_count": 16,
     "metadata": {},
     "output_type": "execute_result"
    }
   ],
   "source": [
    "data_tr.shape"
   ]
  },
  {
   "cell_type": "code",
   "execution_count": 17,
   "id": "d25e6d30",
   "metadata": {},
   "outputs": [],
   "source": [
    "#data_tr.tail()"
   ]
  },
  {
   "cell_type": "code",
   "execution_count": 18,
   "id": "914846c1",
   "metadata": {},
   "outputs": [
    {
     "data": {
      "text/plain": [
       "0         0\n",
       "1         1\n",
       "2         0\n",
       "3         0\n",
       "4         0\n",
       "         ..\n",
       "455963    0\n",
       "455964    0\n",
       "455965    0\n",
       "455966    0\n",
       "455967    0\n",
       "Name: default_ind, Length: 455968, dtype: int64"
      ]
     },
     "execution_count": 18,
     "metadata": {},
     "output_type": "execute_result"
    }
   ],
   "source": [
    "#Target column =  default_ind \n",
    "target_column=data_tr[\"default_ind\"]\n",
    "target_column"
   ]
  },
  {
   "cell_type": "code",
   "execution_count": 19,
   "id": "6208672d",
   "metadata": {},
   "outputs": [
    {
     "data": {
      "text/plain": [
       "0    412661\n",
       "1     43307\n",
       "Name: default_ind, dtype: int64"
      ]
     },
     "execution_count": 19,
     "metadata": {},
     "output_type": "execute_result"
    }
   ],
   "source": [
    "data_tr.default_ind.value_counts()"
   ]
  },
  {
   "cell_type": "code",
   "execution_count": 20,
   "id": "2229e0ef",
   "metadata": {},
   "outputs": [],
   "source": [
    "# Target column is Categorical in nature so we go with classification model"
   ]
  },
  {
   "cell_type": "code",
   "execution_count": 21,
   "id": "35d31c72",
   "metadata": {},
   "outputs": [
    {
     "data": {
      "text/plain": [
       "id                    int64\n",
       "member_id             int64\n",
       "loan_amnt           float64\n",
       "funded_amnt         float64\n",
       "funded_amnt_inv     float64\n",
       "                     ...   \n",
       "total_rev_hi_lim    float64\n",
       "inq_fi              float64\n",
       "total_cu_tl         float64\n",
       "inq_last_12m        float64\n",
       "default_ind           int64\n",
       "Length: 73, dtype: object"
      ]
     },
     "execution_count": 21,
     "metadata": {},
     "output_type": "execute_result"
    }
   ],
   "source": [
    "data_tr.dtypes"
   ]
  },
  {
   "cell_type": "markdown",
   "id": "de720a90",
   "metadata": {},
   "source": [
    "#Index(['loan_amnt', 'funded_amnt', 'funded_amnt_inv', 'term', 'int_rate',\n",
    "       'installment', 'emp_title', 'emp_length', 'home_ownership',\n",
    "       'annual_inc', 'verification_status', 'pymnt_plan', 'title', 'dti',\n",
    "       'delinq_2yrs', 'earliest_cr_line', 'inq_last_6mths', 'open_acc',\n",
    "       'pub_rec', 'revol_bal', 'revol_util', 'total_acc',\n",
    "       'initial_list_status', 'out_prncp', 'out_prncp_inv', 'total_pymnt',\n",
    "       'total_pymnt_inv', 'total_rec_prncp', 'total_rec_int',\n",
    "       'total_rec_late_fee', 'recoveries', 'collection_recovery_fee',\n",
    "       'last_pymnt_d', 'last_pymnt_amnt', 'next_pymnt_d', 'last_credit_pull_d',\n",
    "       'application_type', 'acc_now_delinq', 'tot_coll_amt', 'tot_cur_bal',\n",
    "       'total_rev_hi_lim', 'default_ind'],\n",
    "      dtype='object')"
   ]
  },
  {
   "cell_type": "code",
   "execution_count": 22,
   "id": "e3ce6587",
   "metadata": {},
   "outputs": [],
   "source": [
    "#data_tr.loan_amnt.value_counts()#numerical "
   ]
  },
  {
   "cell_type": "code",
   "execution_count": 23,
   "id": "fd31031f",
   "metadata": {},
   "outputs": [],
   "source": [
    "#data_tr.term.value_counts()#categorical"
   ]
  },
  {
   "cell_type": "code",
   "execution_count": 24,
   "id": "9ebb09a9",
   "metadata": {},
   "outputs": [],
   "source": [
    "#data_tr.funded_amnt.value_counts()#numerical"
   ]
  },
  {
   "cell_type": "code",
   "execution_count": 25,
   "id": "d90c2a4d",
   "metadata": {},
   "outputs": [],
   "source": [
    "#data_tr.funded_amnt_inv.value_counts()#numerical"
   ]
  },
  {
   "cell_type": "code",
   "execution_count": 26,
   "id": "2f30e436",
   "metadata": {},
   "outputs": [],
   "source": [
    "#data_tr.int_rate.value_counts()#numerical"
   ]
  },
  {
   "cell_type": "code",
   "execution_count": 27,
   "id": "8d8c5d4a",
   "metadata": {},
   "outputs": [],
   "source": [
    "#data_tr.installment.value_counts()#numrical"
   ]
  },
  {
   "cell_type": "code",
   "execution_count": 28,
   "id": "c443b65b",
   "metadata": {},
   "outputs": [],
   "source": [
    "#data_tr.emp_title.value_counts()#categorical"
   ]
  },
  {
   "cell_type": "code",
   "execution_count": 29,
   "id": "9f1346bd",
   "metadata": {},
   "outputs": [],
   "source": [
    "#data_tr[\"emp_title\"]"
   ]
  },
  {
   "cell_type": "code",
   "execution_count": 30,
   "id": "2c112809",
   "metadata": {},
   "outputs": [],
   "source": [
    "#data_tr.emp_length.value_counts()#categorical"
   ]
  },
  {
   "cell_type": "code",
   "execution_count": 31,
   "id": "13904fbd",
   "metadata": {},
   "outputs": [],
   "source": [
    "#data_tr.home_ownership.value_counts()#categorical"
   ]
  },
  {
   "cell_type": "code",
   "execution_count": 32,
   "id": "b32aaa76",
   "metadata": {},
   "outputs": [],
   "source": [
    "#data_tr.annual_inc.value_counts()#numrical"
   ]
  },
  {
   "cell_type": "code",
   "execution_count": 33,
   "id": "ded4af58",
   "metadata": {},
   "outputs": [],
   "source": [
    "#data_tr.verification_status.value_counts()#categorical"
   ]
  },
  {
   "cell_type": "code",
   "execution_count": 34,
   "id": "0edbb46a",
   "metadata": {},
   "outputs": [],
   "source": [
    "#data_tr.pymnt_plan.value_counts()#categorical"
   ]
  },
  {
   "cell_type": "code",
   "execution_count": 35,
   "id": "602f5428",
   "metadata": {},
   "outputs": [],
   "source": [
    "#data_tr.title.value_counts()#categorical"
   ]
  },
  {
   "cell_type": "code",
   "execution_count": 36,
   "id": "6a633484",
   "metadata": {},
   "outputs": [],
   "source": [
    "#data_tr.dti.value_counts()#numerical"
   ]
  },
  {
   "cell_type": "code",
   "execution_count": 37,
   "id": "cbf0fecc",
   "metadata": {},
   "outputs": [],
   "source": [
    "#data_tr.delinq_2yrs.value_counts()#numerical"
   ]
  },
  {
   "cell_type": "code",
   "execution_count": 38,
   "id": "c30d9e51",
   "metadata": {},
   "outputs": [],
   "source": [
    "#data_tr.earliest_cr_line.value_counts()#categorical"
   ]
  },
  {
   "cell_type": "code",
   "execution_count": 39,
   "id": "af7b5888",
   "metadata": {},
   "outputs": [],
   "source": [
    "#data_tr.inq_last_6mths.value_counts()#numerical"
   ]
  },
  {
   "cell_type": "code",
   "execution_count": 40,
   "id": "cc562df3",
   "metadata": {},
   "outputs": [],
   "source": [
    "#data_tr.open_acc.value_counts()#numerical"
   ]
  },
  {
   "cell_type": "code",
   "execution_count": 41,
   "id": "1fe4ec22",
   "metadata": {},
   "outputs": [],
   "source": [
    "#data_tr.pub_rec.value_counts()#numerical "
   ]
  },
  {
   "cell_type": "code",
   "execution_count": 42,
   "id": "bf0d8a5b",
   "metadata": {},
   "outputs": [],
   "source": [
    "#data_tr.revol_bal.value_counts()#numerical"
   ]
  },
  {
   "cell_type": "code",
   "execution_count": 43,
   "id": "74ff8ca0",
   "metadata": {},
   "outputs": [],
   "source": [
    "#data_tr.revol_util.value_counts()#num"
   ]
  },
  {
   "cell_type": "code",
   "execution_count": 44,
   "id": "dc694463",
   "metadata": {},
   "outputs": [],
   "source": [
    "#data_tr.total_acc.value_counts()#num"
   ]
  },
  {
   "cell_type": "code",
   "execution_count": 45,
   "id": "85ad528d",
   "metadata": {},
   "outputs": [],
   "source": [
    "#data_tr.initial_list_status.value_counts()#categorical"
   ]
  },
  {
   "cell_type": "code",
   "execution_count": 46,
   "id": "f407f3f2",
   "metadata": {},
   "outputs": [],
   "source": [
    "#data_tr.out_prncp.value_counts()#numerical"
   ]
  },
  {
   "cell_type": "code",
   "execution_count": 47,
   "id": "b0a988b7",
   "metadata": {},
   "outputs": [],
   "source": [
    "#data_tr.out_prncp_inv.value_counts()#num"
   ]
  },
  {
   "cell_type": "code",
   "execution_count": 48,
   "id": "562e9807",
   "metadata": {},
   "outputs": [],
   "source": [
    "#data_tr.total_pymnt.value_counts()#um"
   ]
  },
  {
   "cell_type": "code",
   "execution_count": 49,
   "id": "8e962ee6",
   "metadata": {},
   "outputs": [],
   "source": [
    "#data_tr.total_pymnt_inv.value_counts()#num"
   ]
  },
  {
   "cell_type": "code",
   "execution_count": 50,
   "id": "7d054741",
   "metadata": {},
   "outputs": [],
   "source": [
    "#data_tr.total_rec_prncp.value_counts()#num"
   ]
  },
  {
   "cell_type": "code",
   "execution_count": 51,
   "id": "fcee4558",
   "metadata": {},
   "outputs": [],
   "source": [
    "#data_tr.total_rec_int.value_counts()#num"
   ]
  },
  {
   "cell_type": "code",
   "execution_count": 52,
   "id": "5a96a4d3",
   "metadata": {},
   "outputs": [],
   "source": [
    "#data_tr.total_rec_late_fee.value_counts()#num"
   ]
  },
  {
   "cell_type": "code",
   "execution_count": 53,
   "id": "39023f0a",
   "metadata": {},
   "outputs": [],
   "source": [
    "#data_tr.recoveries.value_counts()#num"
   ]
  },
  {
   "cell_type": "code",
   "execution_count": 54,
   "id": "bf2ba000",
   "metadata": {},
   "outputs": [],
   "source": [
    "#data_tr.collection_recovery_fee.value_counts()#num"
   ]
  },
  {
   "cell_type": "code",
   "execution_count": 55,
   "id": "2387248e",
   "metadata": {},
   "outputs": [],
   "source": [
    "#data_tr.last_pymnt_d.value_counts()#catgorical"
   ]
  },
  {
   "cell_type": "code",
   "execution_count": 56,
   "id": "5dc2d8d9",
   "metadata": {},
   "outputs": [],
   "source": [
    "#data_tr.last_pymnt_amnt.value_counts()#num"
   ]
  },
  {
   "cell_type": "code",
   "execution_count": 57,
   "id": "186cb6ae",
   "metadata": {},
   "outputs": [],
   "source": [
    "#data_tr.next_pymnt_d.value_counts()#cat"
   ]
  },
  {
   "cell_type": "code",
   "execution_count": 58,
   "id": "bebaad8a",
   "metadata": {},
   "outputs": [],
   "source": [
    "#data_tr.last_credit_pull_d.value_counts()#catgorical"
   ]
  },
  {
   "cell_type": "code",
   "execution_count": 59,
   "id": "7d452749",
   "metadata": {},
   "outputs": [],
   "source": [
    "#data_tr.application_type.value_counts()#catgorical"
   ]
  },
  {
   "cell_type": "code",
   "execution_count": 60,
   "id": "d7924522",
   "metadata": {},
   "outputs": [],
   "source": [
    "#data_tr.acc_now_delinq.value_counts()#num"
   ]
  },
  {
   "cell_type": "code",
   "execution_count": 61,
   "id": "02a37003",
   "metadata": {},
   "outputs": [],
   "source": [
    "#data_tr.tot_coll_amt.value_counts()#num"
   ]
  },
  {
   "cell_type": "code",
   "execution_count": 62,
   "id": "7f84d1bb",
   "metadata": {},
   "outputs": [],
   "source": [
    "#data_tr.tot_cur_bal.value_counts()#num"
   ]
  },
  {
   "cell_type": "code",
   "execution_count": 63,
   "id": "ca275ad3",
   "metadata": {},
   "outputs": [],
   "source": [
    "#data_tr.total_rev_hi_lim.value_counts()#num"
   ]
  },
  {
   "cell_type": "code",
   "execution_count": 64,
   "id": "f20a4377",
   "metadata": {},
   "outputs": [],
   "source": [
    "#data_tr.total_rec_late_fee.value_counts()   #this column has only 1 unique value so drop this column."
   ]
  },
  {
   "cell_type": "code",
   "execution_count": 65,
   "id": "29538d16",
   "metadata": {},
   "outputs": [],
   "source": [
    "#data_tr.default_ind.value_counts()#categorical"
   ]
  },
  {
   "cell_type": "markdown",
   "id": "c3230092",
   "metadata": {},
   "source": [
    "# step 1 = Missing value treatment"
   ]
  },
  {
   "cell_type": "code",
   "execution_count": 66,
   "id": "57112c29",
   "metadata": {
    "scrolled": true
   },
   "outputs": [
    {
     "name": "stdout",
     "output_type": "stream",
     "text": [
      "<class 'pandas.core.frame.DataFrame'>\n",
      "RangeIndex: 455968 entries, 0 to 455967\n",
      "Data columns (total 73 columns):\n",
      " #   Column                       Non-Null Count   Dtype  \n",
      "---  ------                       --------------   -----  \n",
      " 0   id                           455968 non-null  int64  \n",
      " 1   member_id                    455968 non-null  int64  \n",
      " 2   loan_amnt                    455968 non-null  float64\n",
      " 3   funded_amnt                  455968 non-null  float64\n",
      " 4   funded_amnt_inv              455968 non-null  float64\n",
      " 5   term                         455968 non-null  object \n",
      " 6   int_rate                     455968 non-null  float64\n",
      " 7   installment                  455968 non-null  float64\n",
      " 8   grade                        455968 non-null  object \n",
      " 9   sub_grade                    455968 non-null  object \n",
      " 10  emp_title                    429067 non-null  object \n",
      " 11  emp_length                   435404 non-null  object \n",
      " 12  home_ownership               455968 non-null  object \n",
      " 13  annual_inc                   455968 non-null  float64\n",
      " 14  verification_status          455968 non-null  object \n",
      " 15  issue_d                      455968 non-null  object \n",
      " 16  pymnt_plan                   455968 non-null  object \n",
      " 17  desc                         121768 non-null  object \n",
      " 18  purpose                      455968 non-null  object \n",
      " 19  title                        455935 non-null  object \n",
      " 20  zip_code                     455968 non-null  object \n",
      " 21  addr_state                   455968 non-null  object \n",
      " 22  dti                          455968 non-null  float64\n",
      " 23  delinq_2yrs                  455968 non-null  float64\n",
      " 24  earliest_cr_line             455968 non-null  object \n",
      " 25  inq_last_6mths               455968 non-null  float64\n",
      " 26  mths_since_last_delinq       210314 non-null  float64\n",
      " 27  mths_since_last_record       60632 non-null   float64\n",
      " 28  open_acc                     455968 non-null  float64\n",
      " 29  pub_rec                      455968 non-null  float64\n",
      " 30  revol_bal                    455968 non-null  float64\n",
      " 31  revol_util                   455673 non-null  float64\n",
      " 32  total_acc                    455968 non-null  float64\n",
      " 33  initial_list_status          455968 non-null  object \n",
      " 34  out_prncp                    455968 non-null  float64\n",
      " 35  out_prncp_inv                455968 non-null  float64\n",
      " 36  total_pymnt                  455968 non-null  float64\n",
      " 37  total_pymnt_inv              455968 non-null  float64\n",
      " 38  total_rec_prncp              455968 non-null  float64\n",
      " 39  total_rec_int                455968 non-null  float64\n",
      " 40  total_rec_late_fee           455968 non-null  float64\n",
      " 41  recoveries                   455968 non-null  float64\n",
      " 42  collection_recovery_fee      455968 non-null  float64\n",
      " 43  last_pymnt_d                 452341 non-null  object \n",
      " 44  last_pymnt_amnt              455968 non-null  float64\n",
      " 45  next_pymnt_d                 228699 non-null  object \n",
      " 46  last_credit_pull_d           455928 non-null  object \n",
      " 47  collections_12_mths_ex_med   455912 non-null  float64\n",
      " 48  mths_since_last_major_derog  96831 non-null   float64\n",
      " 49  policy_code                  455968 non-null  float64\n",
      " 50  application_type             455968 non-null  object \n",
      " 51  annual_inc_joint             24 non-null      float64\n",
      " 52  dti_joint                    24 non-null      float64\n",
      " 53  verification_status_joint    24 non-null      object \n",
      " 54  acc_now_delinq               455968 non-null  float64\n",
      " 55  tot_coll_amt                 388655 non-null  float64\n",
      " 56  tot_cur_bal                  388655 non-null  float64\n",
      " 57  open_acc_6m                  3696 non-null    float64\n",
      " 58  open_il_6m                   3696 non-null    float64\n",
      " 59  open_il_12m                  3696 non-null    float64\n",
      " 60  open_il_24m                  3696 non-null    float64\n",
      " 61  mths_since_rcnt_il           3605 non-null    float64\n",
      " 62  total_bal_il                 3696 non-null    float64\n",
      " 63  il_util                      3259 non-null    float64\n",
      " 64  open_rv_12m                  3696 non-null    float64\n",
      " 65  open_rv_24m                  3696 non-null    float64\n",
      " 66  max_bal_bc                   3696 non-null    float64\n",
      " 67  all_util                     3696 non-null    float64\n",
      " 68  total_rev_hi_lim             388655 non-null  float64\n",
      " 69  inq_fi                       3696 non-null    float64\n",
      " 70  total_cu_tl                  3696 non-null    float64\n",
      " 71  inq_last_12m                 3696 non-null    float64\n",
      " 72  default_ind                  455968 non-null  int64  \n",
      "dtypes: float64(49), int64(3), object(21)\n",
      "memory usage: 253.9+ MB\n"
     ]
    }
   ],
   "source": [
    "data_tr.info()"
   ]
  },
  {
   "cell_type": "code",
   "execution_count": 67,
   "id": "3a240820",
   "metadata": {},
   "outputs": [],
   "source": [
    "#delete more than 50% null values+id columns "
   ]
  },
  {
   "cell_type": "code",
   "execution_count": 5,
   "id": "98907691",
   "metadata": {},
   "outputs": [],
   "source": [
    "data1=data_tr.drop([\"desc\",\"verification_status_joint\",\"verification_status_joint\",\"open_acc_6m\",\"open_il_6m\",\"open_il_12m\",\"open_il_24m\",\"mths_since_rcnt_il\",\"total_bal_il\",\"il_util\",\"open_rv_12m\",\"open_rv_24m\",\"max_bal_bc\",\"all_util\",\"inq_fi\",\"total_cu_tl\",\"inq_last_12m\",\"dti_joint\",\"policy_code\",\"collections_12_mths_ex_med\",\"issue_d\",\"purpose\",\"zip_code\",\"addr_state\",\"grade\",\"policy_code\",\"sub_grade\",\"mths_since_last_delinq\",\"mths_since_last_record\",\"mths_since_last_major_derog\",\"annual_inc_joint\",\"total_rec_late_fee\"],axis=1,inplace=True)"
   ]
  },
  {
   "cell_type": "code",
   "execution_count": 69,
   "id": "04621139",
   "metadata": {},
   "outputs": [
    {
     "data": {
      "text/plain": [
       "(455968, 43)"
      ]
     },
     "execution_count": 69,
     "metadata": {},
     "output_type": "execute_result"
    }
   ],
   "source": [
    "data_tr.shape"
   ]
  },
  {
   "cell_type": "code",
   "execution_count": 70,
   "id": "35d47343",
   "metadata": {},
   "outputs": [],
   "source": [
    "#data_tr"
   ]
  },
  {
   "cell_type": "code",
   "execution_count": 71,
   "id": "26c7c1fa",
   "metadata": {},
   "outputs": [
    {
     "name": "stdout",
     "output_type": "stream",
     "text": [
      "<class 'pandas.core.frame.DataFrame'>\n",
      "RangeIndex: 455968 entries, 0 to 455967\n",
      "Data columns (total 43 columns):\n",
      " #   Column                   Non-Null Count   Dtype  \n",
      "---  ------                   --------------   -----  \n",
      " 0   id                       455968 non-null  int64  \n",
      " 1   member_id                455968 non-null  int64  \n",
      " 2   loan_amnt                455968 non-null  float64\n",
      " 3   funded_amnt              455968 non-null  float64\n",
      " 4   funded_amnt_inv          455968 non-null  float64\n",
      " 5   term                     455968 non-null  object \n",
      " 6   int_rate                 455968 non-null  float64\n",
      " 7   installment              455968 non-null  float64\n",
      " 8   emp_title                429067 non-null  object \n",
      " 9   emp_length               435404 non-null  object \n",
      " 10  home_ownership           455968 non-null  object \n",
      " 11  annual_inc               455968 non-null  float64\n",
      " 12  verification_status      455968 non-null  object \n",
      " 13  pymnt_plan               455968 non-null  object \n",
      " 14  title                    455935 non-null  object \n",
      " 15  dti                      455968 non-null  float64\n",
      " 16  delinq_2yrs              455968 non-null  float64\n",
      " 17  earliest_cr_line         455968 non-null  object \n",
      " 18  inq_last_6mths           455968 non-null  float64\n",
      " 19  open_acc                 455968 non-null  float64\n",
      " 20  pub_rec                  455968 non-null  float64\n",
      " 21  revol_bal                455968 non-null  float64\n",
      " 22  revol_util               455673 non-null  float64\n",
      " 23  total_acc                455968 non-null  float64\n",
      " 24  initial_list_status      455968 non-null  object \n",
      " 25  out_prncp                455968 non-null  float64\n",
      " 26  out_prncp_inv            455968 non-null  float64\n",
      " 27  total_pymnt              455968 non-null  float64\n",
      " 28  total_pymnt_inv          455968 non-null  float64\n",
      " 29  total_rec_prncp          455968 non-null  float64\n",
      " 30  total_rec_int            455968 non-null  float64\n",
      " 31  recoveries               455968 non-null  float64\n",
      " 32  collection_recovery_fee  455968 non-null  float64\n",
      " 33  last_pymnt_d             452341 non-null  object \n",
      " 34  last_pymnt_amnt          455968 non-null  float64\n",
      " 35  next_pymnt_d             228699 non-null  object \n",
      " 36  last_credit_pull_d       455928 non-null  object \n",
      " 37  application_type         455968 non-null  object \n",
      " 38  acc_now_delinq           455968 non-null  float64\n",
      " 39  tot_coll_amt             388655 non-null  float64\n",
      " 40  tot_cur_bal              388655 non-null  float64\n",
      " 41  total_rev_hi_lim         388655 non-null  float64\n",
      " 42  default_ind              455968 non-null  int64  \n",
      "dtypes: float64(27), int64(3), object(13)\n",
      "memory usage: 149.6+ MB\n"
     ]
    }
   ],
   "source": [
    "data_tr.info()"
   ]
  },
  {
   "cell_type": "code",
   "execution_count": 72,
   "id": "50b3be41",
   "metadata": {},
   "outputs": [],
   "source": [
    "#data_tr.total_rev_hi_lim"
   ]
  },
  {
   "cell_type": "code",
   "execution_count": 73,
   "id": "3d3f7483",
   "metadata": {},
   "outputs": [],
   "source": [
    "#data_tr.total_rev_hi_lim.value_counts()#Numeical column"
   ]
  },
  {
   "cell_type": "code",
   "execution_count": 74,
   "id": "d82ab1f7",
   "metadata": {},
   "outputs": [],
   "source": [
    "#data_tr.total_rev_hi_lim.mode()"
   ]
  },
  {
   "cell_type": "code",
   "execution_count": 75,
   "id": "1e452504",
   "metadata": {},
   "outputs": [],
   "source": [
    "#data_tr[\"emp_title\"]"
   ]
  },
  {
   "cell_type": "code",
   "execution_count": 76,
   "id": "f2a2d51c",
   "metadata": {},
   "outputs": [],
   "source": [
    "#data_tr.emp_title.value_counts()#categorical\n"
   ]
  },
  {
   "cell_type": "code",
   "execution_count": 77,
   "id": "0ff3454d",
   "metadata": {},
   "outputs": [],
   "source": [
    "#data_tr.emp_title.mode()"
   ]
  },
  {
   "cell_type": "code",
   "execution_count": 78,
   "id": "6f2b9819",
   "metadata": {},
   "outputs": [],
   "source": [
    "#data_tr[\"emp_length\"]"
   ]
  },
  {
   "cell_type": "code",
   "execution_count": 79,
   "id": "0e1f9c31",
   "metadata": {},
   "outputs": [],
   "source": [
    "#data_tr.emp_length.value_counts()#categorical column"
   ]
  },
  {
   "cell_type": "code",
   "execution_count": 80,
   "id": "681c38d6",
   "metadata": {},
   "outputs": [],
   "source": [
    "#data_tr.emp_title.mode()"
   ]
  },
  {
   "cell_type": "code",
   "execution_count": 81,
   "id": "d27e3922",
   "metadata": {},
   "outputs": [],
   "source": [
    "#data_tr[\"title\"]"
   ]
  },
  {
   "cell_type": "code",
   "execution_count": 82,
   "id": "518e55db",
   "metadata": {},
   "outputs": [],
   "source": [
    "#data_tr.title.value_counts()#categorical"
   ]
  },
  {
   "cell_type": "code",
   "execution_count": 83,
   "id": "e610bf7c",
   "metadata": {},
   "outputs": [],
   "source": [
    "#data_tr.title.mode()"
   ]
  },
  {
   "cell_type": "code",
   "execution_count": 84,
   "id": "a323ede4",
   "metadata": {},
   "outputs": [],
   "source": [
    "#data_tr[\"last_pymnt_d\"]"
   ]
  },
  {
   "cell_type": "code",
   "execution_count": 85,
   "id": "1ca9ec62",
   "metadata": {},
   "outputs": [],
   "source": [
    "#data_tr.last_pymnt_d.value_counts()#categorical"
   ]
  },
  {
   "cell_type": "code",
   "execution_count": 86,
   "id": "5ddcbd95",
   "metadata": {},
   "outputs": [],
   "source": [
    "#data_tr.last_pymnt_d.mode()"
   ]
  },
  {
   "cell_type": "code",
   "execution_count": 87,
   "id": "d93681ff",
   "metadata": {},
   "outputs": [],
   "source": [
    "#data_tr[\"next_pymnt_d\"]"
   ]
  },
  {
   "cell_type": "code",
   "execution_count": 88,
   "id": "1fffa17d",
   "metadata": {},
   "outputs": [],
   "source": [
    "#data_tr.next_pymnt_d.value_counts()#categorical"
   ]
  },
  {
   "cell_type": "code",
   "execution_count": 89,
   "id": "8b90f9a2",
   "metadata": {},
   "outputs": [
    {
     "data": {
      "text/plain": [
       "0    Feb-2016\n",
       "dtype: object"
      ]
     },
     "execution_count": 89,
     "metadata": {},
     "output_type": "execute_result"
    }
   ],
   "source": [
    "data_tr.next_pymnt_d.mode()"
   ]
  },
  {
   "cell_type": "code",
   "execution_count": 90,
   "id": "89b6e7c2",
   "metadata": {},
   "outputs": [],
   "source": [
    "#data_tr[\"tot_coll_amt\"]#having all 0 content#"
   ]
  },
  {
   "cell_type": "code",
   "execution_count": 91,
   "id": "4449f455",
   "metadata": {},
   "outputs": [],
   "source": [
    "#data_tr.tot_coll_amt.value_counts()#Numerical"
   ]
  },
  {
   "cell_type": "code",
   "execution_count": 92,
   "id": "3639c83d",
   "metadata": {},
   "outputs": [
    {
     "data": {
      "text/plain": [
       "192.56839098943794"
      ]
     },
     "execution_count": 92,
     "metadata": {},
     "output_type": "execute_result"
    }
   ],
   "source": [
    "data_tr.tot_coll_amt.mean()"
   ]
  },
  {
   "cell_type": "code",
   "execution_count": 93,
   "id": "cd40a984",
   "metadata": {},
   "outputs": [],
   "source": [
    "#data_tr[\"tot_cur_bal\"]"
   ]
  },
  {
   "cell_type": "code",
   "execution_count": 94,
   "id": "21ac27b2",
   "metadata": {},
   "outputs": [],
   "source": [
    "#data_tr.tot_cur_bal.value_counts()#Numerical"
   ]
  },
  {
   "cell_type": "code",
   "execution_count": 95,
   "id": "59692930",
   "metadata": {},
   "outputs": [],
   "source": [
    "#data_tr[\"last_credit_pull_d\"]"
   ]
  },
  {
   "cell_type": "code",
   "execution_count": 96,
   "id": "d234caf4",
   "metadata": {},
   "outputs": [],
   "source": [
    "#data_tr.last_credit_pull_d.value_counts()#categorical"
   ]
  },
  {
   "cell_type": "code",
   "execution_count": 97,
   "id": "d3d4c901",
   "metadata": {},
   "outputs": [
    {
     "data": {
      "text/plain": [
       "0    Jan-2016\n",
       "dtype: object"
      ]
     },
     "execution_count": 97,
     "metadata": {},
     "output_type": "execute_result"
    }
   ],
   "source": [
    "data_tr.last_credit_pull_d.mode()"
   ]
  },
  {
   "cell_type": "code",
   "execution_count": 98,
   "id": "3dcb0b03",
   "metadata": {},
   "outputs": [],
   "source": [
    "#data_tr.loan_amnt.head(45)"
   ]
  },
  {
   "cell_type": "code",
   "execution_count": 99,
   "id": "66636c8a",
   "metadata": {},
   "outputs": [],
   "source": [
    "#categorical dcolumns for treat=emp_title,emp_lenght,last_pymnt_d,next_pymnt_d,tot_cur_bal,last_credit_pull_d,collections_12_mths_ex_med"
   ]
  },
  {
   "cell_type": "code",
   "execution_count": 100,
   "id": "6fe8151c",
   "metadata": {},
   "outputs": [],
   "source": [
    "#numerical columns for treat=total_rev_hi_lim,mths_since_last_delinq,revol_util,tot_coll_amt,"
   ]
  },
  {
   "cell_type": "code",
   "execution_count": 6,
   "id": "1c424842",
   "metadata": {},
   "outputs": [],
   "source": [
    "#missing value treatment for categorical columns\n",
    "data_tr.title=data_tr.title.fillna(\"Debt consolidation\")\n",
    "data_tr.emp_title=data_tr.emp_title.fillna(\"Ryder\")\n",
    "data_tr.emp_length=data_tr.emp_length.fillna(\"1 year\")\n",
    "data_tr.next_pymnt_d=data_tr.next_pymnt_d.fillna(\"Feb-2016\")\n",
    "data_tr.last_pymnt_d=data_tr.last_pymnt_d.fillna(\"Jan-2016\")\n",
    "data_tr.last_credit_pull_d=data_tr.last_credit_pull_d.fillna(\"Jan-2016\")"
   ]
  },
  {
   "cell_type": "code",
   "execution_count": 7,
   "id": "1924a303",
   "metadata": {},
   "outputs": [],
   "source": [
    "#missing value treatment for numerial columns\n",
    "data_tr.total_rev_hi_lim=data_tr.total_rev_hi_lim.fillna(data_tr.total_rev_hi_lim.mean())\n",
    "data_tr.revol_util=data_tr.revol_util.fillna(data_tr.revol_util.mean())\n",
    "data_tr.tot_coll_amt=data_tr.tot_coll_amt.fillna(data_tr.tot_coll_amt.mean())\n",
    "data_tr.tot_cur_bal=data_tr.tot_cur_bal.fillna(data_tr.tot_cur_bal.mean())"
   ]
  },
  {
   "cell_type": "code",
   "execution_count": 103,
   "id": "f23b8f79",
   "metadata": {},
   "outputs": [],
   "source": [
    "#data.isnull().sum()"
   ]
  },
  {
   "cell_type": "code",
   "execution_count": 104,
   "id": "7b4df354",
   "metadata": {},
   "outputs": [
    {
     "name": "stdout",
     "output_type": "stream",
     "text": [
      "<class 'pandas.core.frame.DataFrame'>\n",
      "RangeIndex: 455968 entries, 0 to 455967\n",
      "Data columns (total 43 columns):\n",
      " #   Column                   Non-Null Count   Dtype  \n",
      "---  ------                   --------------   -----  \n",
      " 0   id                       455968 non-null  int64  \n",
      " 1   member_id                455968 non-null  int64  \n",
      " 2   loan_amnt                455968 non-null  float64\n",
      " 3   funded_amnt              455968 non-null  float64\n",
      " 4   funded_amnt_inv          455968 non-null  float64\n",
      " 5   term                     455968 non-null  object \n",
      " 6   int_rate                 455968 non-null  float64\n",
      " 7   installment              455968 non-null  float64\n",
      " 8   emp_title                455968 non-null  object \n",
      " 9   emp_length               455968 non-null  object \n",
      " 10  home_ownership           455968 non-null  object \n",
      " 11  annual_inc               455968 non-null  float64\n",
      " 12  verification_status      455968 non-null  object \n",
      " 13  pymnt_plan               455968 non-null  object \n",
      " 14  title                    455968 non-null  object \n",
      " 15  dti                      455968 non-null  float64\n",
      " 16  delinq_2yrs              455968 non-null  float64\n",
      " 17  earliest_cr_line         455968 non-null  object \n",
      " 18  inq_last_6mths           455968 non-null  float64\n",
      " 19  open_acc                 455968 non-null  float64\n",
      " 20  pub_rec                  455968 non-null  float64\n",
      " 21  revol_bal                455968 non-null  float64\n",
      " 22  revol_util               455968 non-null  float64\n",
      " 23  total_acc                455968 non-null  float64\n",
      " 24  initial_list_status      455968 non-null  object \n",
      " 25  out_prncp                455968 non-null  float64\n",
      " 26  out_prncp_inv            455968 non-null  float64\n",
      " 27  total_pymnt              455968 non-null  float64\n",
      " 28  total_pymnt_inv          455968 non-null  float64\n",
      " 29  total_rec_prncp          455968 non-null  float64\n",
      " 30  total_rec_int            455968 non-null  float64\n",
      " 31  recoveries               455968 non-null  float64\n",
      " 32  collection_recovery_fee  455968 non-null  float64\n",
      " 33  last_pymnt_d             455968 non-null  object \n",
      " 34  last_pymnt_amnt          455968 non-null  float64\n",
      " 35  next_pymnt_d             455968 non-null  object \n",
      " 36  last_credit_pull_d       455968 non-null  object \n",
      " 37  application_type         455968 non-null  object \n",
      " 38  acc_now_delinq           455968 non-null  float64\n",
      " 39  tot_coll_amt             455968 non-null  float64\n",
      " 40  tot_cur_bal              455968 non-null  float64\n",
      " 41  total_rev_hi_lim         455968 non-null  float64\n",
      " 42  default_ind              455968 non-null  int64  \n",
      "dtypes: float64(27), int64(3), object(13)\n",
      "memory usage: 149.6+ MB\n"
     ]
    }
   ],
   "source": [
    "data_tr.info()"
   ]
  },
  {
   "cell_type": "code",
   "execution_count": 105,
   "id": "581e2868",
   "metadata": {},
   "outputs": [
    {
     "data": {
      "text/plain": [
       "(455968, 43)"
      ]
     },
     "execution_count": 105,
     "metadata": {},
     "output_type": "execute_result"
    }
   ],
   "source": [
    "data_tr.shape"
   ]
  },
  {
   "cell_type": "code",
   "execution_count": 106,
   "id": "a8be3570",
   "metadata": {},
   "outputs": [],
   "source": [
    "#Converting categorical values into numerical(using LableEncoder)"
   ]
  },
  {
   "cell_type": "code",
   "execution_count": 107,
   "id": "0c54abf4",
   "metadata": {},
   "outputs": [],
   "source": [
    "#data_tr.isnull().sum()"
   ]
  },
  {
   "cell_type": "code",
   "execution_count": 108,
   "id": "9ab12253",
   "metadata": {},
   "outputs": [],
   "source": [
    "#data_tr.info()"
   ]
  },
  {
   "cell_type": "markdown",
   "id": "b02531e7",
   "metadata": {},
   "source": [
    "# STEP 2 = Dtype conversion(convert categorical to numerical columns)"
   ]
  },
  {
   "cell_type": "code",
   "execution_count": 8,
   "id": "3f3f6d35",
   "metadata": {},
   "outputs": [],
   "source": [
    "\n",
    "data_tr.term=le.fit_transform(data_tr.term)\n",
    "data_tr.emp_title=le.fit_transform(data_tr.emp_title)\n",
    "data_tr.emp_length=le.fit_transform(data_tr.emp_length)\n",
    "data_tr.home_ownership=le.fit_transform(data_tr.home_ownership)\n",
    "data_tr.verification_status=le.fit_transform(data_tr.verification_status)\n",
    "data_tr.pymnt_plan=le.fit_transform(data_tr.pymnt_plan)\n",
    "data_tr.title=le.fit_transform(data_tr.title)\n",
    "data_tr.earliest_cr_line=le.fit_transform(data_tr.earliest_cr_line)\n",
    "data_tr.initial_list_status=le.fit_transform(data_tr.initial_list_status)\n",
    "data_tr.last_pymnt_d=le.fit_transform(data_tr.last_pymnt_d)\n",
    "data_tr.next_pymnt_d=le.fit_transform(data_tr.next_pymnt_d)\n",
    "data_tr.last_credit_pull_d=le.fit_transform(data_tr.last_credit_pull_d)\n",
    "data_tr.application_type=le.fit_transform(data_tr.application_type)\n",
    "data_tr.tot_coll_amt=le.fit_transform(data_tr.tot_coll_amt)\n",
    "data_tr.tot_cur_bal=le.fit_transform(data_tr.tot_cur_bal)\n",
    "data_tr.total_rev_hi_lim=le.fit_transform(data_tr.total_rev_hi_lim)"
   ]
  },
  {
   "cell_type": "code",
   "execution_count": 110,
   "id": "bc308317",
   "metadata": {},
   "outputs": [
    {
     "name": "stdout",
     "output_type": "stream",
     "text": [
      "<class 'pandas.core.frame.DataFrame'>\n",
      "RangeIndex: 455968 entries, 0 to 455967\n",
      "Data columns (total 43 columns):\n",
      " #   Column                   Non-Null Count   Dtype  \n",
      "---  ------                   --------------   -----  \n",
      " 0   id                       455968 non-null  int64  \n",
      " 1   member_id                455968 non-null  int64  \n",
      " 2   loan_amnt                455968 non-null  float64\n",
      " 3   funded_amnt              455968 non-null  float64\n",
      " 4   funded_amnt_inv          455968 non-null  float64\n",
      " 5   term                     455968 non-null  int32  \n",
      " 6   int_rate                 455968 non-null  float64\n",
      " 7   installment              455968 non-null  float64\n",
      " 8   emp_title                455968 non-null  int32  \n",
      " 9   emp_length               455968 non-null  int32  \n",
      " 10  home_ownership           455968 non-null  int32  \n",
      " 11  annual_inc               455968 non-null  float64\n",
      " 12  verification_status      455968 non-null  int32  \n",
      " 13  pymnt_plan               455968 non-null  int32  \n",
      " 14  title                    455968 non-null  int32  \n",
      " 15  dti                      455968 non-null  float64\n",
      " 16  delinq_2yrs              455968 non-null  float64\n",
      " 17  earliest_cr_line         455968 non-null  int32  \n",
      " 18  inq_last_6mths           455968 non-null  float64\n",
      " 19  open_acc                 455968 non-null  float64\n",
      " 20  pub_rec                  455968 non-null  float64\n",
      " 21  revol_bal                455968 non-null  float64\n",
      " 22  revol_util               455968 non-null  float64\n",
      " 23  total_acc                455968 non-null  float64\n",
      " 24  initial_list_status      455968 non-null  int32  \n",
      " 25  out_prncp                455968 non-null  float64\n",
      " 26  out_prncp_inv            455968 non-null  float64\n",
      " 27  total_pymnt              455968 non-null  float64\n",
      " 28  total_pymnt_inv          455968 non-null  float64\n",
      " 29  total_rec_prncp          455968 non-null  float64\n",
      " 30  total_rec_int            455968 non-null  float64\n",
      " 31  recoveries               455968 non-null  float64\n",
      " 32  collection_recovery_fee  455968 non-null  float64\n",
      " 33  last_pymnt_d             455968 non-null  int32  \n",
      " 34  last_pymnt_amnt          455968 non-null  float64\n",
      " 35  next_pymnt_d             455968 non-null  int32  \n",
      " 36  last_credit_pull_d       455968 non-null  int32  \n",
      " 37  application_type         455968 non-null  int32  \n",
      " 38  acc_now_delinq           455968 non-null  float64\n",
      " 39  tot_coll_amt             455968 non-null  int64  \n",
      " 40  tot_cur_bal              455968 non-null  int64  \n",
      " 41  total_rev_hi_lim         455968 non-null  int64  \n",
      " 42  default_ind              455968 non-null  int64  \n",
      "dtypes: float64(24), int32(13), int64(6)\n",
      "memory usage: 127.0 MB\n"
     ]
    }
   ],
   "source": [
    "data_tr.info()"
   ]
  },
  {
   "cell_type": "code",
   "execution_count": 111,
   "id": "bb89af57",
   "metadata": {},
   "outputs": [],
   "source": [
    "#at this stage data is cleaned and numeric in nature"
   ]
  },
  {
   "cell_type": "code",
   "execution_count": 112,
   "id": "d09e26b5",
   "metadata": {},
   "outputs": [
    {
     "data": {
      "text/plain": [
       "(455968, 43)"
      ]
     },
     "execution_count": 112,
     "metadata": {},
     "output_type": "execute_result"
    }
   ],
   "source": [
    "data_tr.shape"
   ]
  },
  {
   "cell_type": "markdown",
   "id": "033c14d2",
   "metadata": {},
   "source": [
    "# read test data"
   ]
  },
  {
   "cell_type": "code",
   "execution_count": 10,
   "id": "61959290",
   "metadata": {},
   "outputs": [],
   "source": [
    "data_te=dataset.iloc[455968:,:]\n",
    "#data_te"
   ]
  },
  {
   "cell_type": "code",
   "execution_count": 114,
   "id": "9f94c001",
   "metadata": {},
   "outputs": [
    {
     "data": {
      "text/plain": [
       "(400001, 73)"
      ]
     },
     "execution_count": 114,
     "metadata": {},
     "output_type": "execute_result"
    }
   ],
   "source": [
    "data_te.shape"
   ]
  },
  {
   "cell_type": "code",
   "execution_count": 115,
   "id": "b76ffb47",
   "metadata": {},
   "outputs": [],
   "source": [
    "#data_te.head()"
   ]
  },
  {
   "cell_type": "code",
   "execution_count": 116,
   "id": "1b8ce112",
   "metadata": {},
   "outputs": [
    {
     "data": {
      "text/plain": [
       "Index(['id', 'member_id', 'loan_amnt', 'funded_amnt', 'funded_amnt_inv',\n",
       "       'term', 'int_rate', 'installment', 'grade', 'sub_grade', 'emp_title',\n",
       "       'emp_length', 'home_ownership', 'annual_inc', 'verification_status',\n",
       "       'issue_d', 'pymnt_plan', 'desc', 'purpose', 'title', 'zip_code',\n",
       "       'addr_state', 'dti', 'delinq_2yrs', 'earliest_cr_line',\n",
       "       'inq_last_6mths', 'mths_since_last_delinq', 'mths_since_last_record',\n",
       "       'open_acc', 'pub_rec', 'revol_bal', 'revol_util', 'total_acc',\n",
       "       'initial_list_status', 'out_prncp', 'out_prncp_inv', 'total_pymnt',\n",
       "       'total_pymnt_inv', 'total_rec_prncp', 'total_rec_int',\n",
       "       'total_rec_late_fee', 'recoveries', 'collection_recovery_fee',\n",
       "       'last_pymnt_d', 'last_pymnt_amnt', 'next_pymnt_d', 'last_credit_pull_d',\n",
       "       'collections_12_mths_ex_med', 'mths_since_last_major_derog',\n",
       "       'policy_code', 'application_type', 'annual_inc_joint', 'dti_joint',\n",
       "       'verification_status_joint', 'acc_now_delinq', 'tot_coll_amt',\n",
       "       'tot_cur_bal', 'open_acc_6m', 'open_il_6m', 'open_il_12m',\n",
       "       'open_il_24m', 'mths_since_rcnt_il', 'total_bal_il', 'il_util',\n",
       "       'open_rv_12m', 'open_rv_24m', 'max_bal_bc', 'all_util',\n",
       "       'total_rev_hi_lim', 'inq_fi', 'total_cu_tl', 'inq_last_12m',\n",
       "       'default_ind'],\n",
       "      dtype='object')"
      ]
     },
     "execution_count": 116,
     "metadata": {},
     "output_type": "execute_result"
    }
   ],
   "source": [
    "data_te.columns"
   ]
  },
  {
   "cell_type": "code",
   "execution_count": 117,
   "id": "a16c3ea1",
   "metadata": {},
   "outputs": [
    {
     "data": {
      "text/html": [
       "<div>\n",
       "<style scoped>\n",
       "    .dataframe tbody tr th:only-of-type {\n",
       "        vertical-align: middle;\n",
       "    }\n",
       "\n",
       "    .dataframe tbody tr th {\n",
       "        vertical-align: top;\n",
       "    }\n",
       "\n",
       "    .dataframe thead th {\n",
       "        text-align: right;\n",
       "    }\n",
       "</style>\n",
       "<table border=\"1\" class=\"dataframe\">\n",
       "  <thead>\n",
       "    <tr style=\"text-align: right;\">\n",
       "      <th></th>\n",
       "      <th>id</th>\n",
       "      <th>member_id</th>\n",
       "      <th>loan_amnt</th>\n",
       "      <th>funded_amnt</th>\n",
       "      <th>funded_amnt_inv</th>\n",
       "      <th>term</th>\n",
       "      <th>int_rate</th>\n",
       "      <th>installment</th>\n",
       "      <th>grade</th>\n",
       "      <th>sub_grade</th>\n",
       "      <th>...</th>\n",
       "      <th>il_util</th>\n",
       "      <th>open_rv_12m</th>\n",
       "      <th>open_rv_24m</th>\n",
       "      <th>max_bal_bc</th>\n",
       "      <th>all_util</th>\n",
       "      <th>total_rev_hi_lim</th>\n",
       "      <th>inq_fi</th>\n",
       "      <th>total_cu_tl</th>\n",
       "      <th>inq_last_12m</th>\n",
       "      <th>default_ind</th>\n",
       "    </tr>\n",
       "  </thead>\n",
       "  <tbody>\n",
       "  </tbody>\n",
       "</table>\n",
       "<p>0 rows × 73 columns</p>\n",
       "</div>"
      ],
      "text/plain": [
       "Empty DataFrame\n",
       "Columns: [id, member_id, loan_amnt, funded_amnt, funded_amnt_inv, term, int_rate, installment, grade, sub_grade, emp_title, emp_length, home_ownership, annual_inc, verification_status, issue_d, pymnt_plan, desc, purpose, title, zip_code, addr_state, dti, delinq_2yrs, earliest_cr_line, inq_last_6mths, mths_since_last_delinq, mths_since_last_record, open_acc, pub_rec, revol_bal, revol_util, total_acc, initial_list_status, out_prncp, out_prncp_inv, total_pymnt, total_pymnt_inv, total_rec_prncp, total_rec_int, total_rec_late_fee, recoveries, collection_recovery_fee, last_pymnt_d, last_pymnt_amnt, next_pymnt_d, last_credit_pull_d, collections_12_mths_ex_med, mths_since_last_major_derog, policy_code, application_type, annual_inc_joint, dti_joint, verification_status_joint, acc_now_delinq, tot_coll_amt, tot_cur_bal, open_acc_6m, open_il_6m, open_il_12m, open_il_24m, mths_since_rcnt_il, total_bal_il, il_util, open_rv_12m, open_rv_24m, max_bal_bc, all_util, total_rev_hi_lim, inq_fi, total_cu_tl, inq_last_12m, default_ind]\n",
       "Index: []\n",
       "\n",
       "[0 rows x 73 columns]"
      ]
     },
     "execution_count": 117,
     "metadata": {},
     "output_type": "execute_result"
    }
   ],
   "source": [
    "data_te[data_te.duplicated()]#no duplicates"
   ]
  },
  {
   "cell_type": "code",
   "execution_count": 118,
   "id": "1f860331",
   "metadata": {},
   "outputs": [
    {
     "data": {
      "text/plain": [
       "(0, 73)"
      ]
     },
     "execution_count": 118,
     "metadata": {},
     "output_type": "execute_result"
    }
   ],
   "source": [
    "data_te[data_te.duplicated()].shape"
   ]
  },
  {
   "cell_type": "code",
   "execution_count": 119,
   "id": "80dfe0b9",
   "metadata": {},
   "outputs": [
    {
     "data": {
      "text/plain": [
       "455968    0\n",
       "455969    0\n",
       "455970    0\n",
       "455971    0\n",
       "455972    0\n",
       "         ..\n",
       "855964    0\n",
       "855965    0\n",
       "855966    0\n",
       "855967    0\n",
       "855968    0\n",
       "Name: default_ind, Length: 400001, dtype: int64"
      ]
     },
     "execution_count": 119,
     "metadata": {},
     "output_type": "execute_result"
    }
   ],
   "source": [
    "#Target column =  default_ind \n",
    "target_column=data_te[\"default_ind\"]\n",
    "target_column"
   ]
  },
  {
   "cell_type": "code",
   "execution_count": 120,
   "id": "4144eef2",
   "metadata": {},
   "outputs": [
    {
     "data": {
      "text/plain": [
       "0    396841\n",
       "1      3160\n",
       "Name: default_ind, dtype: int64"
      ]
     },
     "execution_count": 120,
     "metadata": {},
     "output_type": "execute_result"
    }
   ],
   "source": [
    "data_te.default_ind.value_counts()"
   ]
  },
  {
   "cell_type": "markdown",
   "id": "ac0ae839",
   "metadata": {},
   "source": [
    "# step 1 = Missing value treatment"
   ]
  },
  {
   "cell_type": "code",
   "execution_count": 121,
   "id": "3416fa01",
   "metadata": {
    "scrolled": true
   },
   "outputs": [
    {
     "name": "stdout",
     "output_type": "stream",
     "text": [
      "<class 'pandas.core.frame.DataFrame'>\n",
      "RangeIndex: 400001 entries, 455968 to 855968\n",
      "Data columns (total 73 columns):\n",
      " #   Column                       Non-Null Count   Dtype  \n",
      "---  ------                       --------------   -----  \n",
      " 0   id                           400001 non-null  int64  \n",
      " 1   member_id                    400001 non-null  int64  \n",
      " 2   loan_amnt                    400001 non-null  float64\n",
      " 3   funded_amnt                  400001 non-null  float64\n",
      " 4   funded_amnt_inv              400001 non-null  float64\n",
      " 5   term                         400001 non-null  object \n",
      " 6   int_rate                     400001 non-null  float64\n",
      " 7   installment                  400001 non-null  float64\n",
      " 8   grade                        400001 non-null  object \n",
      " 9   sub_grade                    400001 non-null  object \n",
      " 10  emp_title                    377459 non-null  object \n",
      " 11  emp_length                   377504 non-null  object \n",
      " 12  home_ownership               400001 non-null  object \n",
      " 13  annual_inc                   400001 non-null  float64\n",
      " 14  verification_status          400001 non-null  object \n",
      " 15  issue_d                      400001 non-null  object \n",
      " 16  pymnt_plan                   400001 non-null  object \n",
      " 17  desc                         44 non-null      object \n",
      " 18  purpose                      400001 non-null  object \n",
      " 19  title                        400001 non-null  object \n",
      " 20  zip_code                     400001 non-null  object \n",
      " 21  addr_state                   400001 non-null  object \n",
      " 22  dti                          400001 non-null  float64\n",
      " 23  delinq_2yrs                  400001 non-null  float64\n",
      " 24  earliest_cr_line             400001 non-null  object \n",
      " 25  inq_last_6mths               400001 non-null  float64\n",
      " 26  mths_since_last_delinq       205843 non-null  float64\n",
      " 27  mths_since_last_record       70552 non-null   float64\n",
      " 28  open_acc                     400001 non-null  float64\n",
      " 29  pub_rec                      400001 non-null  float64\n",
      " 30  revol_bal                    400001 non-null  float64\n",
      " 31  revol_util                   399850 non-null  float64\n",
      " 32  total_acc                    400001 non-null  float64\n",
      " 33  initial_list_status          400001 non-null  object \n",
      " 34  out_prncp                    400001 non-null  float64\n",
      " 35  out_prncp_inv                400001 non-null  float64\n",
      " 36  total_pymnt                  400001 non-null  float64\n",
      " 37  total_pymnt_inv              400001 non-null  float64\n",
      " 38  total_rec_prncp              400001 non-null  float64\n",
      " 39  total_rec_int                400001 non-null  float64\n",
      " 40  total_rec_late_fee           400001 non-null  float64\n",
      " 41  recoveries                   400001 non-null  float64\n",
      " 42  collection_recovery_fee      400001 non-null  float64\n",
      " 43  last_pymnt_d                 394766 non-null  object \n",
      " 44  last_pymnt_amnt              400001 non-null  float64\n",
      " 45  next_pymnt_d                 374299 non-null  object \n",
      " 46  last_credit_pull_d           399991 non-null  object \n",
      " 47  collections_12_mths_ex_med   400001 non-null  float64\n",
      " 48  mths_since_last_major_derog  116308 non-null  float64\n",
      " 49  policy_code                  400001 non-null  float64\n",
      " 50  application_type             400001 non-null  object \n",
      " 51  annual_inc_joint             418 non-null     float64\n",
      " 52  dti_joint                    416 non-null     float64\n",
      " 53  verification_status_joint    418 non-null     object \n",
      " 54  acc_now_delinq               400001 non-null  float64\n",
      " 55  tot_coll_amt                 400001 non-null  float64\n",
      " 56  tot_cur_bal                  400001 non-null  float64\n",
      " 57  open_acc_6m                  9592 non-null    float64\n",
      " 58  open_il_6m                   9592 non-null    float64\n",
      " 59  open_il_12m                  9592 non-null    float64\n",
      " 60  open_il_24m                  9592 non-null    float64\n",
      " 61  mths_since_rcnt_il           9329 non-null    float64\n",
      " 62  total_bal_il                 9592 non-null    float64\n",
      " 63  il_util                      8350 non-null    float64\n",
      " 64  open_rv_12m                  9592 non-null    float64\n",
      " 65  open_rv_24m                  9592 non-null    float64\n",
      " 66  max_bal_bc                   9592 non-null    float64\n",
      " 67  all_util                     9592 non-null    float64\n",
      " 68  total_rev_hi_lim             400001 non-null  float64\n",
      " 69  inq_fi                       9592 non-null    float64\n",
      " 70  total_cu_tl                  9592 non-null    float64\n",
      " 71  inq_last_12m                 9592 non-null    float64\n",
      " 72  default_ind                  400001 non-null  int64  \n",
      "dtypes: float64(49), int64(3), object(21)\n",
      "memory usage: 222.8+ MB\n"
     ]
    }
   ],
   "source": [
    "data_te.info()"
   ]
  },
  {
   "cell_type": "code",
   "execution_count": 122,
   "id": "b1daa1a0",
   "metadata": {},
   "outputs": [],
   "source": [
    "#delete more than 50% null values+id columns "
   ]
  },
  {
   "cell_type": "code",
   "execution_count": 11,
   "id": "7f60fbe8",
   "metadata": {},
   "outputs": [],
   "source": [
    "data2=data_te.drop([\"desc\",\"verification_status_joint\",\"verification_status_joint\",\"open_acc_6m\",\"open_il_6m\",\"open_il_12m\",\"open_il_24m\",\"mths_since_rcnt_il\",\"total_bal_il\",\"il_util\",\"open_rv_12m\",\"open_rv_24m\",\"max_bal_bc\",\"all_util\",\"inq_fi\",\"total_cu_tl\",\"inq_last_12m\",\"dti_joint\",\"policy_code\",\"collections_12_mths_ex_med\",\"issue_d\",\"purpose\",\"zip_code\",\"addr_state\",\"grade\",\"policy_code\",\"sub_grade\",\"mths_since_last_delinq\",\"mths_since_last_record\",\"mths_since_last_major_derog\",\"annual_inc_joint\",\"default_ind\",\"total_rec_late_fee\"],axis=1,inplace=True)"
   ]
  },
  {
   "cell_type": "code",
   "execution_count": 124,
   "id": "6b1e9e1d",
   "metadata": {},
   "outputs": [],
   "source": [
    "#data_te"
   ]
  },
  {
   "cell_type": "code",
   "execution_count": 125,
   "id": "fcc4b595",
   "metadata": {},
   "outputs": [
    {
     "data": {
      "text/plain": [
       "id                         0\n",
       "member_id                  0\n",
       "loan_amnt                  0\n",
       "funded_amnt                0\n",
       "funded_amnt_inv            0\n",
       "term                       0\n",
       "int_rate                   0\n",
       "installment                0\n",
       "emp_title                  0\n",
       "emp_length                 0\n",
       "home_ownership             0\n",
       "annual_inc                 0\n",
       "verification_status        0\n",
       "pymnt_plan                 0\n",
       "title                      0\n",
       "dti                        0\n",
       "delinq_2yrs                0\n",
       "earliest_cr_line           0\n",
       "inq_last_6mths             0\n",
       "open_acc                   0\n",
       "pub_rec                    0\n",
       "revol_bal                  0\n",
       "revol_util                 0\n",
       "total_acc                  0\n",
       "initial_list_status        0\n",
       "out_prncp                  0\n",
       "out_prncp_inv              0\n",
       "total_pymnt                0\n",
       "total_pymnt_inv            0\n",
       "total_rec_prncp            0\n",
       "total_rec_int              0\n",
       "recoveries                 0\n",
       "collection_recovery_fee    0\n",
       "last_pymnt_d               0\n",
       "last_pymnt_amnt            0\n",
       "next_pymnt_d               0\n",
       "last_credit_pull_d         0\n",
       "application_type           0\n",
       "acc_now_delinq             0\n",
       "tot_coll_amt               0\n",
       "tot_cur_bal                0\n",
       "total_rev_hi_lim           0\n",
       "default_ind                0\n",
       "dtype: int64"
      ]
     },
     "execution_count": 125,
     "metadata": {},
     "output_type": "execute_result"
    }
   ],
   "source": [
    "data_tr.isnull().sum()"
   ]
  },
  {
   "cell_type": "code",
   "execution_count": 12,
   "id": "7e757c09",
   "metadata": {},
   "outputs": [],
   "source": [
    "#missing value treatment for categorical columns\n",
    "data_te.title=data_te.title.fillna(\"Debt consolidation\")\n",
    "data_te.emp_title=data_te.emp_title.fillna(\"Ryder\")\n",
    "data_te.emp_length=data_te.emp_length.fillna(\"1 year\")\n",
    "data_te.next_pymnt_d=data_te.next_pymnt_d.fillna(\"Feb-2016\")\n",
    "data_te.last_pymnt_d=data_te.last_pymnt_d.fillna(\"Jan-2016\")\n",
    "data_te.last_credit_pull_d=data_te.last_credit_pull_d.fillna(\"Jan-2016\")"
   ]
  },
  {
   "cell_type": "code",
   "execution_count": 13,
   "id": "b3d5f441",
   "metadata": {},
   "outputs": [],
   "source": [
    "#missing value treatment for numerial columns\n",
    "data_te.total_rev_hi_lim=data_te.total_rev_hi_lim.fillna(data_te.total_rev_hi_lim.mean())\n",
    "data_te.revol_util=data_te.revol_util.fillna(data_te.revol_util.mean())\n",
    "data_te.tot_coll_amt=data_te.tot_coll_amt.fillna(data_te.tot_coll_amt.mean())\n",
    "data_te.tot_cur_bal=data_te.tot_cur_bal.fillna(data_te.tot_cur_bal.mean())"
   ]
  },
  {
   "cell_type": "markdown",
   "id": "a19932cb",
   "metadata": {},
   "source": [
    "# STEP 2 = Transformation(convert categorical to numerical columns)"
   ]
  },
  {
   "cell_type": "code",
   "execution_count": 14,
   "id": "89bb5cd0",
   "metadata": {},
   "outputs": [],
   "source": [
    "data_te.term=le.fit_transform(data_te.term)\n",
    "data_te.emp_title=le.fit_transform(data_te.emp_title)\n",
    "data_te.emp_length=le.fit_transform(data_te.emp_length)\n",
    "data_te.home_ownership=le.fit_transform(data_te.home_ownership)\n",
    "data_te.verification_status=le.fit_transform(data_te.verification_status)\n",
    "data_te.pymnt_plan=le.fit_transform(data_te.pymnt_plan)\n",
    "data_te.title=le.fit_transform(data_te.title)\n",
    "data_te.earliest_cr_line=le.fit_transform(data_te.earliest_cr_line)\n",
    "data_te.initial_list_status=le.fit_transform(data_te.initial_list_status)\n",
    "data_te.last_pymnt_d=le.fit_transform(data_te.last_pymnt_d)\n",
    "data_te.next_pymnt_d=le.fit_transform(data_te.next_pymnt_d)\n",
    "data_te.last_credit_pull_d=le.fit_transform(data_te.last_credit_pull_d)\n",
    "data_te.application_type=le.fit_transform(data_te.application_type)\n",
    "data_te.tot_coll_amt=le.fit_transform(data_te.tot_coll_amt)\n",
    "data_te.tot_cur_bal=le.fit_transform(data_te.tot_cur_bal)\n",
    "data_te.total_rev_hi_lim=le.fit_transform(data_te.total_rev_hi_lim)"
   ]
  },
  {
   "cell_type": "code",
   "execution_count": 129,
   "id": "008a8fe1",
   "metadata": {},
   "outputs": [],
   "source": [
    "#samplling"
   ]
  },
  {
   "cell_type": "code",
   "execution_count": 130,
   "id": "536c7499",
   "metadata": {},
   "outputs": [
    {
     "data": {
      "text/plain": [
       "(455968, 43)"
      ]
     },
     "execution_count": 130,
     "metadata": {},
     "output_type": "execute_result"
    }
   ],
   "source": [
    "data_tr.shape"
   ]
  },
  {
   "cell_type": "code",
   "execution_count": 131,
   "id": "8c498948",
   "metadata": {},
   "outputs": [
    {
     "data": {
      "text/plain": [
       "(400001, 42)"
      ]
     },
     "execution_count": 131,
     "metadata": {},
     "output_type": "execute_result"
    }
   ],
   "source": [
    "data_te.shape"
   ]
  },
  {
   "cell_type": "code",
   "execution_count": 132,
   "id": "f8e8eca6",
   "metadata": {},
   "outputs": [
    {
     "data": {
      "text/html": [
       "<div>\n",
       "<style scoped>\n",
       "    .dataframe tbody tr th:only-of-type {\n",
       "        vertical-align: middle;\n",
       "    }\n",
       "\n",
       "    .dataframe tbody tr th {\n",
       "        vertical-align: top;\n",
       "    }\n",
       "\n",
       "    .dataframe thead th {\n",
       "        text-align: right;\n",
       "    }\n",
       "</style>\n",
       "<table border=\"1\" class=\"dataframe\">\n",
       "  <thead>\n",
       "    <tr style=\"text-align: right;\">\n",
       "      <th></th>\n",
       "      <th>id</th>\n",
       "      <th>member_id</th>\n",
       "      <th>loan_amnt</th>\n",
       "      <th>funded_amnt</th>\n",
       "      <th>funded_amnt_inv</th>\n",
       "      <th>term</th>\n",
       "      <th>int_rate</th>\n",
       "      <th>installment</th>\n",
       "      <th>emp_title</th>\n",
       "      <th>emp_length</th>\n",
       "      <th>...</th>\n",
       "      <th>last_pymnt_d</th>\n",
       "      <th>last_pymnt_amnt</th>\n",
       "      <th>next_pymnt_d</th>\n",
       "      <th>last_credit_pull_d</th>\n",
       "      <th>application_type</th>\n",
       "      <th>acc_now_delinq</th>\n",
       "      <th>tot_coll_amt</th>\n",
       "      <th>tot_cur_bal</th>\n",
       "      <th>total_rev_hi_lim</th>\n",
       "      <th>default_ind</th>\n",
       "    </tr>\n",
       "  </thead>\n",
       "  <tbody>\n",
       "    <tr>\n",
       "      <th>0</th>\n",
       "      <td>1077501</td>\n",
       "      <td>1296599</td>\n",
       "      <td>5000.0</td>\n",
       "      <td>5000.0</td>\n",
       "      <td>4975.0</td>\n",
       "      <td>0</td>\n",
       "      <td>10.65</td>\n",
       "      <td>162.87</td>\n",
       "      <td>129170</td>\n",
       "      <td>1</td>\n",
       "      <td>...</td>\n",
       "      <td>39</td>\n",
       "      <td>171.62</td>\n",
       "      <td>0</td>\n",
       "      <td>41</td>\n",
       "      <td>0</td>\n",
       "      <td>0.0</td>\n",
       "      <td>182</td>\n",
       "      <td>98879</td>\n",
       "      <td>5096</td>\n",
       "      <td>0</td>\n",
       "    </tr>\n",
       "    <tr>\n",
       "      <th>1</th>\n",
       "      <td>1077430</td>\n",
       "      <td>1314167</td>\n",
       "      <td>2500.0</td>\n",
       "      <td>2500.0</td>\n",
       "      <td>2500.0</td>\n",
       "      <td>1</td>\n",
       "      <td>15.27</td>\n",
       "      <td>59.83</td>\n",
       "      <td>129170</td>\n",
       "      <td>10</td>\n",
       "      <td>...</td>\n",
       "      <td>5</td>\n",
       "      <td>119.66</td>\n",
       "      <td>0</td>\n",
       "      <td>99</td>\n",
       "      <td>0</td>\n",
       "      <td>0.0</td>\n",
       "      <td>182</td>\n",
       "      <td>98879</td>\n",
       "      <td>5096</td>\n",
       "      <td>1</td>\n",
       "    </tr>\n",
       "    <tr>\n",
       "      <th>2</th>\n",
       "      <td>1077175</td>\n",
       "      <td>1313524</td>\n",
       "      <td>2400.0</td>\n",
       "      <td>2400.0</td>\n",
       "      <td>2400.0</td>\n",
       "      <td>0</td>\n",
       "      <td>15.96</td>\n",
       "      <td>84.33</td>\n",
       "      <td>129170</td>\n",
       "      <td>1</td>\n",
       "      <td>...</td>\n",
       "      <td>55</td>\n",
       "      <td>649.91</td>\n",
       "      <td>0</td>\n",
       "      <td>41</td>\n",
       "      <td>0</td>\n",
       "      <td>0.0</td>\n",
       "      <td>182</td>\n",
       "      <td>98879</td>\n",
       "      <td>5096</td>\n",
       "      <td>0</td>\n",
       "    </tr>\n",
       "    <tr>\n",
       "      <th>3</th>\n",
       "      <td>1076863</td>\n",
       "      <td>1277178</td>\n",
       "      <td>10000.0</td>\n",
       "      <td>10000.0</td>\n",
       "      <td>10000.0</td>\n",
       "      <td>0</td>\n",
       "      <td>13.49</td>\n",
       "      <td>339.31</td>\n",
       "      <td>2193</td>\n",
       "      <td>1</td>\n",
       "      <td>...</td>\n",
       "      <td>39</td>\n",
       "      <td>357.48</td>\n",
       "      <td>0</td>\n",
       "      <td>40</td>\n",
       "      <td>0</td>\n",
       "      <td>0.0</td>\n",
       "      <td>182</td>\n",
       "      <td>98879</td>\n",
       "      <td>5096</td>\n",
       "      <td>0</td>\n",
       "    </tr>\n",
       "    <tr>\n",
       "      <th>4</th>\n",
       "      <td>1075358</td>\n",
       "      <td>1311748</td>\n",
       "      <td>3000.0</td>\n",
       "      <td>3000.0</td>\n",
       "      <td>3000.0</td>\n",
       "      <td>1</td>\n",
       "      <td>12.69</td>\n",
       "      <td>67.79</td>\n",
       "      <td>162500</td>\n",
       "      <td>0</td>\n",
       "      <td>...</td>\n",
       "      <td>40</td>\n",
       "      <td>67.79</td>\n",
       "      <td>0</td>\n",
       "      <td>41</td>\n",
       "      <td>0</td>\n",
       "      <td>0.0</td>\n",
       "      <td>182</td>\n",
       "      <td>98879</td>\n",
       "      <td>5096</td>\n",
       "      <td>0</td>\n",
       "    </tr>\n",
       "  </tbody>\n",
       "</table>\n",
       "<p>5 rows × 43 columns</p>\n",
       "</div>"
      ],
      "text/plain": [
       "        id  member_id  loan_amnt  funded_amnt  funded_amnt_inv  term  \\\n",
       "0  1077501    1296599     5000.0       5000.0           4975.0     0   \n",
       "1  1077430    1314167     2500.0       2500.0           2500.0     1   \n",
       "2  1077175    1313524     2400.0       2400.0           2400.0     0   \n",
       "3  1076863    1277178    10000.0      10000.0          10000.0     0   \n",
       "4  1075358    1311748     3000.0       3000.0           3000.0     1   \n",
       "\n",
       "   int_rate  installment  emp_title  emp_length  ...  last_pymnt_d  \\\n",
       "0     10.65       162.87     129170           1  ...            39   \n",
       "1     15.27        59.83     129170          10  ...             5   \n",
       "2     15.96        84.33     129170           1  ...            55   \n",
       "3     13.49       339.31       2193           1  ...            39   \n",
       "4     12.69        67.79     162500           0  ...            40   \n",
       "\n",
       "   last_pymnt_amnt  next_pymnt_d  last_credit_pull_d  application_type  \\\n",
       "0           171.62             0                  41                 0   \n",
       "1           119.66             0                  99                 0   \n",
       "2           649.91             0                  41                 0   \n",
       "3           357.48             0                  40                 0   \n",
       "4            67.79             0                  41                 0   \n",
       "\n",
       "   acc_now_delinq  tot_coll_amt  tot_cur_bal  total_rev_hi_lim  default_ind  \n",
       "0             0.0           182        98879              5096            0  \n",
       "1             0.0           182        98879              5096            1  \n",
       "2             0.0           182        98879              5096            0  \n",
       "3             0.0           182        98879              5096            0  \n",
       "4             0.0           182        98879              5096            0  \n",
       "\n",
       "[5 rows x 43 columns]"
      ]
     },
     "execution_count": 132,
     "metadata": {},
     "output_type": "execute_result"
    }
   ],
   "source": [
    "data_tr.head()"
   ]
  },
  {
   "cell_type": "code",
   "execution_count": 133,
   "id": "69828b3f",
   "metadata": {},
   "outputs": [
    {
     "data": {
      "text/html": [
       "<div>\n",
       "<style scoped>\n",
       "    .dataframe tbody tr th:only-of-type {\n",
       "        vertical-align: middle;\n",
       "    }\n",
       "\n",
       "    .dataframe tbody tr th {\n",
       "        vertical-align: top;\n",
       "    }\n",
       "\n",
       "    .dataframe thead th {\n",
       "        text-align: right;\n",
       "    }\n",
       "</style>\n",
       "<table border=\"1\" class=\"dataframe\">\n",
       "  <thead>\n",
       "    <tr style=\"text-align: right;\">\n",
       "      <th></th>\n",
       "      <th>id</th>\n",
       "      <th>member_id</th>\n",
       "      <th>loan_amnt</th>\n",
       "      <th>funded_amnt</th>\n",
       "      <th>funded_amnt_inv</th>\n",
       "      <th>term</th>\n",
       "      <th>int_rate</th>\n",
       "      <th>installment</th>\n",
       "      <th>emp_title</th>\n",
       "      <th>emp_length</th>\n",
       "      <th>...</th>\n",
       "      <th>collection_recovery_fee</th>\n",
       "      <th>last_pymnt_d</th>\n",
       "      <th>last_pymnt_amnt</th>\n",
       "      <th>next_pymnt_d</th>\n",
       "      <th>last_credit_pull_d</th>\n",
       "      <th>application_type</th>\n",
       "      <th>acc_now_delinq</th>\n",
       "      <th>tot_coll_amt</th>\n",
       "      <th>tot_cur_bal</th>\n",
       "      <th>total_rev_hi_lim</th>\n",
       "    </tr>\n",
       "  </thead>\n",
       "  <tbody>\n",
       "    <tr>\n",
       "      <th>455968</th>\n",
       "      <td>67888135</td>\n",
       "      <td>72746849</td>\n",
       "      <td>13850.0</td>\n",
       "      <td>13850.0</td>\n",
       "      <td>13850.0</td>\n",
       "      <td>0</td>\n",
       "      <td>18.49</td>\n",
       "      <td>504.13</td>\n",
       "      <td>54276</td>\n",
       "      <td>6</td>\n",
       "      <td>...</td>\n",
       "      <td>0.0</td>\n",
       "      <td>5</td>\n",
       "      <td>0.00</td>\n",
       "      <td>0</td>\n",
       "      <td>6</td>\n",
       "      <td>0</td>\n",
       "      <td>0.0</td>\n",
       "      <td>0</td>\n",
       "      <td>30174</td>\n",
       "      <td>1569</td>\n",
       "    </tr>\n",
       "    <tr>\n",
       "      <th>455969</th>\n",
       "      <td>67828417</td>\n",
       "      <td>72687137</td>\n",
       "      <td>17500.0</td>\n",
       "      <td>17500.0</td>\n",
       "      <td>17500.0</td>\n",
       "      <td>0</td>\n",
       "      <td>7.26</td>\n",
       "      <td>542.44</td>\n",
       "      <td>26662</td>\n",
       "      <td>3</td>\n",
       "      <td>...</td>\n",
       "      <td>0.0</td>\n",
       "      <td>5</td>\n",
       "      <td>0.00</td>\n",
       "      <td>0</td>\n",
       "      <td>6</td>\n",
       "      <td>0</td>\n",
       "      <td>0.0</td>\n",
       "      <td>0</td>\n",
       "      <td>160390</td>\n",
       "      <td>3967</td>\n",
       "    </tr>\n",
       "    <tr>\n",
       "      <th>455970</th>\n",
       "      <td>67888396</td>\n",
       "      <td>72747115</td>\n",
       "      <td>5000.0</td>\n",
       "      <td>5000.0</td>\n",
       "      <td>5000.0</td>\n",
       "      <td>0</td>\n",
       "      <td>11.99</td>\n",
       "      <td>166.05</td>\n",
       "      <td>61933</td>\n",
       "      <td>10</td>\n",
       "      <td>...</td>\n",
       "      <td>0.0</td>\n",
       "      <td>5</td>\n",
       "      <td>0.00</td>\n",
       "      <td>0</td>\n",
       "      <td>6</td>\n",
       "      <td>0</td>\n",
       "      <td>0.0</td>\n",
       "      <td>1165</td>\n",
       "      <td>42696</td>\n",
       "      <td>268</td>\n",
       "    </tr>\n",
       "    <tr>\n",
       "      <th>455971</th>\n",
       "      <td>68028393</td>\n",
       "      <td>72887109</td>\n",
       "      <td>35000.0</td>\n",
       "      <td>35000.0</td>\n",
       "      <td>34850.0</td>\n",
       "      <td>1</td>\n",
       "      <td>18.49</td>\n",
       "      <td>898.13</td>\n",
       "      <td>1078</td>\n",
       "      <td>1</td>\n",
       "      <td>...</td>\n",
       "      <td>0.0</td>\n",
       "      <td>2</td>\n",
       "      <td>35059.33</td>\n",
       "      <td>0</td>\n",
       "      <td>3</td>\n",
       "      <td>0</td>\n",
       "      <td>0.0</td>\n",
       "      <td>0</td>\n",
       "      <td>169773</td>\n",
       "      <td>4265</td>\n",
       "    </tr>\n",
       "    <tr>\n",
       "      <th>455972</th>\n",
       "      <td>67888464</td>\n",
       "      <td>72747185</td>\n",
       "      <td>10500.0</td>\n",
       "      <td>10500.0</td>\n",
       "      <td>10450.0</td>\n",
       "      <td>1</td>\n",
       "      <td>19.99</td>\n",
       "      <td>278.13</td>\n",
       "      <td>108615</td>\n",
       "      <td>5</td>\n",
       "      <td>...</td>\n",
       "      <td>0.0</td>\n",
       "      <td>5</td>\n",
       "      <td>0.00</td>\n",
       "      <td>0</td>\n",
       "      <td>6</td>\n",
       "      <td>0</td>\n",
       "      <td>0.0</td>\n",
       "      <td>0</td>\n",
       "      <td>27167</td>\n",
       "      <td>99</td>\n",
       "    </tr>\n",
       "  </tbody>\n",
       "</table>\n",
       "<p>5 rows × 42 columns</p>\n",
       "</div>"
      ],
      "text/plain": [
       "              id  member_id  loan_amnt  funded_amnt  funded_amnt_inv  term  \\\n",
       "455968  67888135   72746849    13850.0      13850.0          13850.0     0   \n",
       "455969  67828417   72687137    17500.0      17500.0          17500.0     0   \n",
       "455970  67888396   72747115     5000.0       5000.0           5000.0     0   \n",
       "455971  68028393   72887109    35000.0      35000.0          34850.0     1   \n",
       "455972  67888464   72747185    10500.0      10500.0          10450.0     1   \n",
       "\n",
       "        int_rate  installment  emp_title  emp_length  ...  \\\n",
       "455968     18.49       504.13      54276           6  ...   \n",
       "455969      7.26       542.44      26662           3  ...   \n",
       "455970     11.99       166.05      61933          10  ...   \n",
       "455971     18.49       898.13       1078           1  ...   \n",
       "455972     19.99       278.13     108615           5  ...   \n",
       "\n",
       "        collection_recovery_fee  last_pymnt_d  last_pymnt_amnt  next_pymnt_d  \\\n",
       "455968                      0.0             5             0.00             0   \n",
       "455969                      0.0             5             0.00             0   \n",
       "455970                      0.0             5             0.00             0   \n",
       "455971                      0.0             2         35059.33             0   \n",
       "455972                      0.0             5             0.00             0   \n",
       "\n",
       "        last_credit_pull_d  application_type  acc_now_delinq  tot_coll_amt  \\\n",
       "455968                   6                 0             0.0             0   \n",
       "455969                   6                 0             0.0             0   \n",
       "455970                   6                 0             0.0          1165   \n",
       "455971                   3                 0             0.0             0   \n",
       "455972                   6                 0             0.0             0   \n",
       "\n",
       "        tot_cur_bal  total_rev_hi_lim  \n",
       "455968        30174              1569  \n",
       "455969       160390              3967  \n",
       "455970        42696               268  \n",
       "455971       169773              4265  \n",
       "455972        27167                99  \n",
       "\n",
       "[5 rows x 42 columns]"
      ]
     },
     "execution_count": 133,
     "metadata": {},
     "output_type": "execute_result"
    }
   ],
   "source": [
    "data_te.head()"
   ]
  },
  {
   "cell_type": "code",
   "execution_count": 15,
   "id": "84a117fb",
   "metadata": {},
   "outputs": [],
   "source": [
    "tr_x=data_tr.iloc[:,2:-1]\n",
    "tr_y=data_tr.iloc[:,-1]\n",
    "te_x=data_te.iloc[:,2:]"
   ]
  },
  {
   "cell_type": "code",
   "execution_count": 135,
   "id": "cb83f6a1",
   "metadata": {},
   "outputs": [],
   "source": [
    "#tr_x.head()"
   ]
  },
  {
   "cell_type": "code",
   "execution_count": 136,
   "id": "e0e15597",
   "metadata": {},
   "outputs": [],
   "source": [
    "#data_tr.default_ind.isna().sum()"
   ]
  },
  {
   "cell_type": "code",
   "execution_count": 137,
   "id": "e241653e",
   "metadata": {},
   "outputs": [],
   "source": [
    "#te_x.head()"
   ]
  },
  {
   "cell_type": "code",
   "execution_count": 16,
   "id": "55e47ba1",
   "metadata": {},
   "outputs": [
    {
     "data": {
      "text/plain": [
       "((455968, 40), (455968,), (400001, 40))"
      ]
     },
     "execution_count": 16,
     "metadata": {},
     "output_type": "execute_result"
    }
   ],
   "source": [
    "tr_x.shape,tr_y.shape,te_x.shape"
   ]
  },
  {
   "cell_type": "code",
   "execution_count": 17,
   "id": "4f6cc673",
   "metadata": {},
   "outputs": [],
   "source": [
    "from sklearn.linear_model import LogisticRegression\n",
    "lg=LogisticRegression()"
   ]
  },
  {
   "cell_type": "code",
   "execution_count": 18,
   "id": "d9937f4b",
   "metadata": {},
   "outputs": [
    {
     "data": {
      "text/html": [
       "<style>#sk-container-id-1 {color: black;background-color: white;}#sk-container-id-1 pre{padding: 0;}#sk-container-id-1 div.sk-toggleable {background-color: white;}#sk-container-id-1 label.sk-toggleable__label {cursor: pointer;display: block;width: 100%;margin-bottom: 0;padding: 0.3em;box-sizing: border-box;text-align: center;}#sk-container-id-1 label.sk-toggleable__label-arrow:before {content: \"▸\";float: left;margin-right: 0.25em;color: #696969;}#sk-container-id-1 label.sk-toggleable__label-arrow:hover:before {color: black;}#sk-container-id-1 div.sk-estimator:hover label.sk-toggleable__label-arrow:before {color: black;}#sk-container-id-1 div.sk-toggleable__content {max-height: 0;max-width: 0;overflow: hidden;text-align: left;background-color: #f0f8ff;}#sk-container-id-1 div.sk-toggleable__content pre {margin: 0.2em;color: black;border-radius: 0.25em;background-color: #f0f8ff;}#sk-container-id-1 input.sk-toggleable__control:checked~div.sk-toggleable__content {max-height: 200px;max-width: 100%;overflow: auto;}#sk-container-id-1 input.sk-toggleable__control:checked~label.sk-toggleable__label-arrow:before {content: \"▾\";}#sk-container-id-1 div.sk-estimator input.sk-toggleable__control:checked~label.sk-toggleable__label {background-color: #d4ebff;}#sk-container-id-1 div.sk-label input.sk-toggleable__control:checked~label.sk-toggleable__label {background-color: #d4ebff;}#sk-container-id-1 input.sk-hidden--visually {border: 0;clip: rect(1px 1px 1px 1px);clip: rect(1px, 1px, 1px, 1px);height: 1px;margin: -1px;overflow: hidden;padding: 0;position: absolute;width: 1px;}#sk-container-id-1 div.sk-estimator {font-family: monospace;background-color: #f0f8ff;border: 1px dotted black;border-radius: 0.25em;box-sizing: border-box;margin-bottom: 0.5em;}#sk-container-id-1 div.sk-estimator:hover {background-color: #d4ebff;}#sk-container-id-1 div.sk-parallel-item::after {content: \"\";width: 100%;border-bottom: 1px solid gray;flex-grow: 1;}#sk-container-id-1 div.sk-label:hover label.sk-toggleable__label {background-color: #d4ebff;}#sk-container-id-1 div.sk-serial::before {content: \"\";position: absolute;border-left: 1px solid gray;box-sizing: border-box;top: 0;bottom: 0;left: 50%;z-index: 0;}#sk-container-id-1 div.sk-serial {display: flex;flex-direction: column;align-items: center;background-color: white;padding-right: 0.2em;padding-left: 0.2em;position: relative;}#sk-container-id-1 div.sk-item {position: relative;z-index: 1;}#sk-container-id-1 div.sk-parallel {display: flex;align-items: stretch;justify-content: center;background-color: white;position: relative;}#sk-container-id-1 div.sk-item::before, #sk-container-id-1 div.sk-parallel-item::before {content: \"\";position: absolute;border-left: 1px solid gray;box-sizing: border-box;top: 0;bottom: 0;left: 50%;z-index: -1;}#sk-container-id-1 div.sk-parallel-item {display: flex;flex-direction: column;z-index: 1;position: relative;background-color: white;}#sk-container-id-1 div.sk-parallel-item:first-child::after {align-self: flex-end;width: 50%;}#sk-container-id-1 div.sk-parallel-item:last-child::after {align-self: flex-start;width: 50%;}#sk-container-id-1 div.sk-parallel-item:only-child::after {width: 0;}#sk-container-id-1 div.sk-dashed-wrapped {border: 1px dashed gray;margin: 0 0.4em 0.5em 0.4em;box-sizing: border-box;padding-bottom: 0.4em;background-color: white;}#sk-container-id-1 div.sk-label label {font-family: monospace;font-weight: bold;display: inline-block;line-height: 1.2em;}#sk-container-id-1 div.sk-label-container {text-align: center;}#sk-container-id-1 div.sk-container {/* jupyter's `normalize.less` sets `[hidden] { display: none; }` but bootstrap.min.css set `[hidden] { display: none !important; }` so we also need the `!important` here to be able to override the default hidden behavior on the sphinx rendered scikit-learn.org. See: https://github.com/scikit-learn/scikit-learn/issues/21755 */display: inline-block !important;position: relative;}#sk-container-id-1 div.sk-text-repr-fallback {display: none;}</style><div id=\"sk-container-id-1\" class=\"sk-top-container\"><div class=\"sk-text-repr-fallback\"><pre>LogisticRegression()</pre><b>In a Jupyter environment, please rerun this cell to show the HTML representation or trust the notebook. <br />On GitHub, the HTML representation is unable to render, please try loading this page with nbviewer.org.</b></div><div class=\"sk-container\" hidden><div class=\"sk-item\"><div class=\"sk-estimator sk-toggleable\"><input class=\"sk-toggleable__control sk-hidden--visually\" id=\"sk-estimator-id-1\" type=\"checkbox\" checked><label for=\"sk-estimator-id-1\" class=\"sk-toggleable__label sk-toggleable__label-arrow\">LogisticRegression</label><div class=\"sk-toggleable__content\"><pre>LogisticRegression()</pre></div></div></div></div></div>"
      ],
      "text/plain": [
       "LogisticRegression()"
      ]
     },
     "execution_count": 18,
     "metadata": {},
     "output_type": "execute_result"
    }
   ],
   "source": [
    "lg.fit(tr_x,tr_y)"
   ]
  },
  {
   "cell_type": "code",
   "execution_count": 19,
   "id": "e7b31f65",
   "metadata": {},
   "outputs": [
    {
     "data": {
      "text/plain": [
       "array([0, 0, 0, ..., 0, 0, 0], dtype=int64)"
      ]
     },
     "execution_count": 19,
     "metadata": {},
     "output_type": "execute_result"
    }
   ],
   "source": [
    "lg_p=lg.predict(te_x)\n",
    "lg_p"
   ]
  },
  {
   "cell_type": "code",
   "execution_count": 20,
   "id": "f086d08a",
   "metadata": {},
   "outputs": [
    {
     "data": {
      "text/html": [
       "<div>\n",
       "<style scoped>\n",
       "    .dataframe tbody tr th:only-of-type {\n",
       "        vertical-align: middle;\n",
       "    }\n",
       "\n",
       "    .dataframe tbody tr th {\n",
       "        vertical-align: top;\n",
       "    }\n",
       "\n",
       "    .dataframe thead th {\n",
       "        text-align: right;\n",
       "    }\n",
       "</style>\n",
       "<table border=\"1\" class=\"dataframe\">\n",
       "  <thead>\n",
       "    <tr style=\"text-align: right;\">\n",
       "      <th></th>\n",
       "      <th>loan_amnt</th>\n",
       "      <th>funded_amnt</th>\n",
       "      <th>funded_amnt_inv</th>\n",
       "      <th>term</th>\n",
       "      <th>int_rate</th>\n",
       "      <th>installment</th>\n",
       "      <th>emp_title</th>\n",
       "      <th>emp_length</th>\n",
       "      <th>home_ownership</th>\n",
       "      <th>annual_inc</th>\n",
       "      <th>...</th>\n",
       "      <th>collection_recovery_fee</th>\n",
       "      <th>last_pymnt_d</th>\n",
       "      <th>last_pymnt_amnt</th>\n",
       "      <th>next_pymnt_d</th>\n",
       "      <th>last_credit_pull_d</th>\n",
       "      <th>application_type</th>\n",
       "      <th>acc_now_delinq</th>\n",
       "      <th>tot_coll_amt</th>\n",
       "      <th>tot_cur_bal</th>\n",
       "      <th>total_rev_hi_lim</th>\n",
       "    </tr>\n",
       "  </thead>\n",
       "  <tbody>\n",
       "    <tr>\n",
       "      <th>0</th>\n",
       "      <td>5000.0</td>\n",
       "      <td>5000.0</td>\n",
       "      <td>4975.0</td>\n",
       "      <td>0</td>\n",
       "      <td>10.65</td>\n",
       "      <td>162.87</td>\n",
       "      <td>129170</td>\n",
       "      <td>1</td>\n",
       "      <td>5</td>\n",
       "      <td>24000.0</td>\n",
       "      <td>...</td>\n",
       "      <td>0.00</td>\n",
       "      <td>39</td>\n",
       "      <td>171.62</td>\n",
       "      <td>0</td>\n",
       "      <td>41</td>\n",
       "      <td>0</td>\n",
       "      <td>0.0</td>\n",
       "      <td>182</td>\n",
       "      <td>98879</td>\n",
       "      <td>5096</td>\n",
       "    </tr>\n",
       "    <tr>\n",
       "      <th>1</th>\n",
       "      <td>2500.0</td>\n",
       "      <td>2500.0</td>\n",
       "      <td>2500.0</td>\n",
       "      <td>1</td>\n",
       "      <td>15.27</td>\n",
       "      <td>59.83</td>\n",
       "      <td>129170</td>\n",
       "      <td>10</td>\n",
       "      <td>5</td>\n",
       "      <td>30000.0</td>\n",
       "      <td>...</td>\n",
       "      <td>1.11</td>\n",
       "      <td>5</td>\n",
       "      <td>119.66</td>\n",
       "      <td>0</td>\n",
       "      <td>99</td>\n",
       "      <td>0</td>\n",
       "      <td>0.0</td>\n",
       "      <td>182</td>\n",
       "      <td>98879</td>\n",
       "      <td>5096</td>\n",
       "    </tr>\n",
       "    <tr>\n",
       "      <th>2</th>\n",
       "      <td>2400.0</td>\n",
       "      <td>2400.0</td>\n",
       "      <td>2400.0</td>\n",
       "      <td>0</td>\n",
       "      <td>15.96</td>\n",
       "      <td>84.33</td>\n",
       "      <td>129170</td>\n",
       "      <td>1</td>\n",
       "      <td>5</td>\n",
       "      <td>12252.0</td>\n",
       "      <td>...</td>\n",
       "      <td>0.00</td>\n",
       "      <td>55</td>\n",
       "      <td>649.91</td>\n",
       "      <td>0</td>\n",
       "      <td>41</td>\n",
       "      <td>0</td>\n",
       "      <td>0.0</td>\n",
       "      <td>182</td>\n",
       "      <td>98879</td>\n",
       "      <td>5096</td>\n",
       "    </tr>\n",
       "    <tr>\n",
       "      <th>3</th>\n",
       "      <td>10000.0</td>\n",
       "      <td>10000.0</td>\n",
       "      <td>10000.0</td>\n",
       "      <td>0</td>\n",
       "      <td>13.49</td>\n",
       "      <td>339.31</td>\n",
       "      <td>2193</td>\n",
       "      <td>1</td>\n",
       "      <td>5</td>\n",
       "      <td>49200.0</td>\n",
       "      <td>...</td>\n",
       "      <td>0.00</td>\n",
       "      <td>39</td>\n",
       "      <td>357.48</td>\n",
       "      <td>0</td>\n",
       "      <td>40</td>\n",
       "      <td>0</td>\n",
       "      <td>0.0</td>\n",
       "      <td>182</td>\n",
       "      <td>98879</td>\n",
       "      <td>5096</td>\n",
       "    </tr>\n",
       "    <tr>\n",
       "      <th>4</th>\n",
       "      <td>3000.0</td>\n",
       "      <td>3000.0</td>\n",
       "      <td>3000.0</td>\n",
       "      <td>1</td>\n",
       "      <td>12.69</td>\n",
       "      <td>67.79</td>\n",
       "      <td>162500</td>\n",
       "      <td>0</td>\n",
       "      <td>5</td>\n",
       "      <td>80000.0</td>\n",
       "      <td>...</td>\n",
       "      <td>0.00</td>\n",
       "      <td>40</td>\n",
       "      <td>67.79</td>\n",
       "      <td>0</td>\n",
       "      <td>41</td>\n",
       "      <td>0</td>\n",
       "      <td>0.0</td>\n",
       "      <td>182</td>\n",
       "      <td>98879</td>\n",
       "      <td>5096</td>\n",
       "    </tr>\n",
       "  </tbody>\n",
       "</table>\n",
       "<p>5 rows × 40 columns</p>\n",
       "</div>"
      ],
      "text/plain": [
       "   loan_amnt  funded_amnt  funded_amnt_inv  term  int_rate  installment  \\\n",
       "0     5000.0       5000.0           4975.0     0     10.65       162.87   \n",
       "1     2500.0       2500.0           2500.0     1     15.27        59.83   \n",
       "2     2400.0       2400.0           2400.0     0     15.96        84.33   \n",
       "3    10000.0      10000.0          10000.0     0     13.49       339.31   \n",
       "4     3000.0       3000.0           3000.0     1     12.69        67.79   \n",
       "\n",
       "   emp_title  emp_length  home_ownership  annual_inc  ...  \\\n",
       "0     129170           1               5     24000.0  ...   \n",
       "1     129170          10               5     30000.0  ...   \n",
       "2     129170           1               5     12252.0  ...   \n",
       "3       2193           1               5     49200.0  ...   \n",
       "4     162500           0               5     80000.0  ...   \n",
       "\n",
       "   collection_recovery_fee  last_pymnt_d  last_pymnt_amnt  next_pymnt_d  \\\n",
       "0                     0.00            39           171.62             0   \n",
       "1                     1.11             5           119.66             0   \n",
       "2                     0.00            55           649.91             0   \n",
       "3                     0.00            39           357.48             0   \n",
       "4                     0.00            40            67.79             0   \n",
       "\n",
       "   last_credit_pull_d  application_type  acc_now_delinq  tot_coll_amt  \\\n",
       "0                  41                 0             0.0           182   \n",
       "1                  99                 0             0.0           182   \n",
       "2                  41                 0             0.0           182   \n",
       "3                  40                 0             0.0           182   \n",
       "4                  41                 0             0.0           182   \n",
       "\n",
       "   tot_cur_bal  total_rev_hi_lim  \n",
       "0        98879              5096  \n",
       "1        98879              5096  \n",
       "2        98879              5096  \n",
       "3        98879              5096  \n",
       "4        98879              5096  \n",
       "\n",
       "[5 rows x 40 columns]"
      ]
     },
     "execution_count": 20,
     "metadata": {},
     "output_type": "execute_result"
    }
   ],
   "source": [
    "tr_x.head()"
   ]
  },
  {
   "cell_type": "code",
   "execution_count": 21,
   "id": "5a0549e0",
   "metadata": {},
   "outputs": [
    {
     "data": {
      "text/html": [
       "<div>\n",
       "<style scoped>\n",
       "    .dataframe tbody tr th:only-of-type {\n",
       "        vertical-align: middle;\n",
       "    }\n",
       "\n",
       "    .dataframe tbody tr th {\n",
       "        vertical-align: top;\n",
       "    }\n",
       "\n",
       "    .dataframe thead th {\n",
       "        text-align: right;\n",
       "    }\n",
       "</style>\n",
       "<table border=\"1\" class=\"dataframe\">\n",
       "  <thead>\n",
       "    <tr style=\"text-align: right;\">\n",
       "      <th></th>\n",
       "      <th>default_ind</th>\n",
       "    </tr>\n",
       "  </thead>\n",
       "  <tbody>\n",
       "    <tr>\n",
       "      <th>0</th>\n",
       "      <td>0</td>\n",
       "    </tr>\n",
       "    <tr>\n",
       "      <th>1</th>\n",
       "      <td>0</td>\n",
       "    </tr>\n",
       "    <tr>\n",
       "      <th>2</th>\n",
       "      <td>0</td>\n",
       "    </tr>\n",
       "    <tr>\n",
       "      <th>3</th>\n",
       "      <td>0</td>\n",
       "    </tr>\n",
       "    <tr>\n",
       "      <th>4</th>\n",
       "      <td>0</td>\n",
       "    </tr>\n",
       "    <tr>\n",
       "      <th>...</th>\n",
       "      <td>...</td>\n",
       "    </tr>\n",
       "    <tr>\n",
       "      <th>399996</th>\n",
       "      <td>0</td>\n",
       "    </tr>\n",
       "    <tr>\n",
       "      <th>399997</th>\n",
       "      <td>0</td>\n",
       "    </tr>\n",
       "    <tr>\n",
       "      <th>399998</th>\n",
       "      <td>0</td>\n",
       "    </tr>\n",
       "    <tr>\n",
       "      <th>399999</th>\n",
       "      <td>0</td>\n",
       "    </tr>\n",
       "    <tr>\n",
       "      <th>400000</th>\n",
       "      <td>0</td>\n",
       "    </tr>\n",
       "  </tbody>\n",
       "</table>\n",
       "<p>400001 rows × 1 columns</p>\n",
       "</div>"
      ],
      "text/plain": [
       "        default_ind\n",
       "0                 0\n",
       "1                 0\n",
       "2                 0\n",
       "3                 0\n",
       "4                 0\n",
       "...             ...\n",
       "399996            0\n",
       "399997            0\n",
       "399998            0\n",
       "399999            0\n",
       "400000            0\n",
       "\n",
       "[400001 rows x 1 columns]"
      ]
     },
     "execution_count": 21,
     "metadata": {},
     "output_type": "execute_result"
    }
   ],
   "source": [
    "df=pd.DataFrame(lg_p,columns=[\"default_ind\"])\n",
    "df\n"
   ]
  },
  {
   "cell_type": "code",
   "execution_count": 22,
   "id": "1af45cde",
   "metadata": {},
   "outputs": [
    {
     "data": {
      "text/html": [
       "<div>\n",
       "<style scoped>\n",
       "    .dataframe tbody tr th:only-of-type {\n",
       "        vertical-align: middle;\n",
       "    }\n",
       "\n",
       "    .dataframe tbody tr th {\n",
       "        vertical-align: top;\n",
       "    }\n",
       "\n",
       "    .dataframe thead th {\n",
       "        text-align: right;\n",
       "    }\n",
       "</style>\n",
       "<table border=\"1\" class=\"dataframe\">\n",
       "  <thead>\n",
       "    <tr style=\"text-align: right;\">\n",
       "      <th></th>\n",
       "      <th>id</th>\n",
       "    </tr>\n",
       "  </thead>\n",
       "  <tbody>\n",
       "    <tr>\n",
       "      <th>0</th>\n",
       "      <td>67888135</td>\n",
       "    </tr>\n",
       "    <tr>\n",
       "      <th>1</th>\n",
       "      <td>67828417</td>\n",
       "    </tr>\n",
       "    <tr>\n",
       "      <th>2</th>\n",
       "      <td>67888396</td>\n",
       "    </tr>\n",
       "    <tr>\n",
       "      <th>3</th>\n",
       "      <td>68028393</td>\n",
       "    </tr>\n",
       "    <tr>\n",
       "      <th>4</th>\n",
       "      <td>67888464</td>\n",
       "    </tr>\n",
       "    <tr>\n",
       "      <th>...</th>\n",
       "      <td>...</td>\n",
       "    </tr>\n",
       "    <tr>\n",
       "      <th>399996</th>\n",
       "      <td>36371250</td>\n",
       "    </tr>\n",
       "    <tr>\n",
       "      <th>399997</th>\n",
       "      <td>36441262</td>\n",
       "    </tr>\n",
       "    <tr>\n",
       "      <th>399998</th>\n",
       "      <td>36271333</td>\n",
       "    </tr>\n",
       "    <tr>\n",
       "      <th>399999</th>\n",
       "      <td>36490806</td>\n",
       "    </tr>\n",
       "    <tr>\n",
       "      <th>400000</th>\n",
       "      <td>36271262</td>\n",
       "    </tr>\n",
       "  </tbody>\n",
       "</table>\n",
       "<p>400001 rows × 1 columns</p>\n",
       "</div>"
      ],
      "text/plain": [
       "              id\n",
       "0       67888135\n",
       "1       67828417\n",
       "2       67888396\n",
       "3       68028393\n",
       "4       67888464\n",
       "...          ...\n",
       "399996  36371250\n",
       "399997  36441262\n",
       "399998  36271333\n",
       "399999  36490806\n",
       "400000  36271262\n",
       "\n",
       "[400001 rows x 1 columns]"
      ]
     },
     "execution_count": 22,
     "metadata": {},
     "output_type": "execute_result"
    }
   ],
   "source": [
    "d1=pd.DataFrame(data_te.iloc[:,0])\n",
    "d2=d1.reset_index(drop=True)\n",
    "d2"
   ]
  },
  {
   "cell_type": "code",
   "execution_count": 23,
   "id": "fa0ccad5",
   "metadata": {},
   "outputs": [
    {
     "data": {
      "text/plain": [
       "(400001, 1)"
      ]
     },
     "execution_count": 23,
     "metadata": {},
     "output_type": "execute_result"
    }
   ],
   "source": [
    "d1.shape"
   ]
  },
  {
   "cell_type": "code",
   "execution_count": 24,
   "id": "f60b0f45",
   "metadata": {},
   "outputs": [
    {
     "data": {
      "text/html": [
       "<div>\n",
       "<style scoped>\n",
       "    .dataframe tbody tr th:only-of-type {\n",
       "        vertical-align: middle;\n",
       "    }\n",
       "\n",
       "    .dataframe tbody tr th {\n",
       "        vertical-align: top;\n",
       "    }\n",
       "\n",
       "    .dataframe thead th {\n",
       "        text-align: right;\n",
       "    }\n",
       "</style>\n",
       "<table border=\"1\" class=\"dataframe\">\n",
       "  <thead>\n",
       "    <tr style=\"text-align: right;\">\n",
       "      <th></th>\n",
       "      <th>id</th>\n",
       "      <th>default_ind</th>\n",
       "    </tr>\n",
       "  </thead>\n",
       "  <tbody>\n",
       "    <tr>\n",
       "      <th>0</th>\n",
       "      <td>67888135</td>\n",
       "      <td>0</td>\n",
       "    </tr>\n",
       "    <tr>\n",
       "      <th>1</th>\n",
       "      <td>67828417</td>\n",
       "      <td>0</td>\n",
       "    </tr>\n",
       "    <tr>\n",
       "      <th>2</th>\n",
       "      <td>67888396</td>\n",
       "      <td>0</td>\n",
       "    </tr>\n",
       "    <tr>\n",
       "      <th>3</th>\n",
       "      <td>68028393</td>\n",
       "      <td>0</td>\n",
       "    </tr>\n",
       "    <tr>\n",
       "      <th>4</th>\n",
       "      <td>67888464</td>\n",
       "      <td>0</td>\n",
       "    </tr>\n",
       "    <tr>\n",
       "      <th>...</th>\n",
       "      <td>...</td>\n",
       "      <td>...</td>\n",
       "    </tr>\n",
       "    <tr>\n",
       "      <th>399996</th>\n",
       "      <td>36371250</td>\n",
       "      <td>0</td>\n",
       "    </tr>\n",
       "    <tr>\n",
       "      <th>399997</th>\n",
       "      <td>36441262</td>\n",
       "      <td>0</td>\n",
       "    </tr>\n",
       "    <tr>\n",
       "      <th>399998</th>\n",
       "      <td>36271333</td>\n",
       "      <td>0</td>\n",
       "    </tr>\n",
       "    <tr>\n",
       "      <th>399999</th>\n",
       "      <td>36490806</td>\n",
       "      <td>0</td>\n",
       "    </tr>\n",
       "    <tr>\n",
       "      <th>400000</th>\n",
       "      <td>36271262</td>\n",
       "      <td>0</td>\n",
       "    </tr>\n",
       "  </tbody>\n",
       "</table>\n",
       "<p>400001 rows × 2 columns</p>\n",
       "</div>"
      ],
      "text/plain": [
       "              id  default_ind\n",
       "0       67888135            0\n",
       "1       67828417            0\n",
       "2       67888396            0\n",
       "3       68028393            0\n",
       "4       67888464            0\n",
       "...          ...          ...\n",
       "399996  36371250            0\n",
       "399997  36441262            0\n",
       "399998  36271333            0\n",
       "399999  36490806            0\n",
       "400000  36271262            0\n",
       "\n",
       "[400001 rows x 2 columns]"
      ]
     },
     "execution_count": 24,
     "metadata": {},
     "output_type": "execute_result"
    }
   ],
   "source": [
    "result=pd.concat([d2,df],axis=1)\n",
    "result"
   ]
  },
  {
   "cell_type": "code",
   "execution_count": 147,
   "id": "be658981",
   "metadata": {},
   "outputs": [
    {
     "data": {
      "text/plain": [
       "(400001, 2)"
      ]
     },
     "execution_count": 147,
     "metadata": {},
     "output_type": "execute_result"
    }
   ],
   "source": [
    "result.shape"
   ]
  },
  {
   "cell_type": "markdown",
   "id": "5a7a470c",
   "metadata": {},
   "source": [
    "# Model on Training data to check performance"
   ]
  },
  {
   "cell_type": "code",
   "execution_count": 148,
   "id": "85708b1b",
   "metadata": {},
   "outputs": [],
   "source": [
    "#samplling"
   ]
  },
  {
   "cell_type": "code",
   "execution_count": 25,
   "id": "faf36c7a",
   "metadata": {},
   "outputs": [],
   "source": [
    "from sklearn.model_selection import train_test_split"
   ]
  },
  {
   "cell_type": "code",
   "execution_count": 26,
   "id": "37a156e6",
   "metadata": {},
   "outputs": [],
   "source": [
    "x_train,x_test,y_train,y_test=train_test_split(tr_x,tr_y,test_size=0.3,random_state=100)"
   ]
  },
  {
   "cell_type": "code",
   "execution_count": 27,
   "id": "5281f13b",
   "metadata": {},
   "outputs": [
    {
     "data": {
      "text/plain": [
       "((319177, 40), (136791, 40), (319177,), (136791,))"
      ]
     },
     "execution_count": 27,
     "metadata": {},
     "output_type": "execute_result"
    }
   ],
   "source": [
    "x_train.shape,x_test.shape,y_train.shape,y_test.shape"
   ]
  },
  {
   "cell_type": "markdown",
   "id": "f8ae1503",
   "metadata": {},
   "source": [
    "# Machine learning- Base Model"
   ]
  },
  {
   "cell_type": "markdown",
   "id": "5f803ee8",
   "metadata": {},
   "source": [
    "# Logistic Regression"
   ]
  },
  {
   "cell_type": "code",
   "execution_count": 152,
   "id": "da968f3b",
   "metadata": {},
   "outputs": [
    {
     "data": {
      "text/html": [
       "<style>#sk-container-id-2 {color: black;background-color: white;}#sk-container-id-2 pre{padding: 0;}#sk-container-id-2 div.sk-toggleable {background-color: white;}#sk-container-id-2 label.sk-toggleable__label {cursor: pointer;display: block;width: 100%;margin-bottom: 0;padding: 0.3em;box-sizing: border-box;text-align: center;}#sk-container-id-2 label.sk-toggleable__label-arrow:before {content: \"▸\";float: left;margin-right: 0.25em;color: #696969;}#sk-container-id-2 label.sk-toggleable__label-arrow:hover:before {color: black;}#sk-container-id-2 div.sk-estimator:hover label.sk-toggleable__label-arrow:before {color: black;}#sk-container-id-2 div.sk-toggleable__content {max-height: 0;max-width: 0;overflow: hidden;text-align: left;background-color: #f0f8ff;}#sk-container-id-2 div.sk-toggleable__content pre {margin: 0.2em;color: black;border-radius: 0.25em;background-color: #f0f8ff;}#sk-container-id-2 input.sk-toggleable__control:checked~div.sk-toggleable__content {max-height: 200px;max-width: 100%;overflow: auto;}#sk-container-id-2 input.sk-toggleable__control:checked~label.sk-toggleable__label-arrow:before {content: \"▾\";}#sk-container-id-2 div.sk-estimator input.sk-toggleable__control:checked~label.sk-toggleable__label {background-color: #d4ebff;}#sk-container-id-2 div.sk-label input.sk-toggleable__control:checked~label.sk-toggleable__label {background-color: #d4ebff;}#sk-container-id-2 input.sk-hidden--visually {border: 0;clip: rect(1px 1px 1px 1px);clip: rect(1px, 1px, 1px, 1px);height: 1px;margin: -1px;overflow: hidden;padding: 0;position: absolute;width: 1px;}#sk-container-id-2 div.sk-estimator {font-family: monospace;background-color: #f0f8ff;border: 1px dotted black;border-radius: 0.25em;box-sizing: border-box;margin-bottom: 0.5em;}#sk-container-id-2 div.sk-estimator:hover {background-color: #d4ebff;}#sk-container-id-2 div.sk-parallel-item::after {content: \"\";width: 100%;border-bottom: 1px solid gray;flex-grow: 1;}#sk-container-id-2 div.sk-label:hover label.sk-toggleable__label {background-color: #d4ebff;}#sk-container-id-2 div.sk-serial::before {content: \"\";position: absolute;border-left: 1px solid gray;box-sizing: border-box;top: 0;bottom: 0;left: 50%;z-index: 0;}#sk-container-id-2 div.sk-serial {display: flex;flex-direction: column;align-items: center;background-color: white;padding-right: 0.2em;padding-left: 0.2em;position: relative;}#sk-container-id-2 div.sk-item {position: relative;z-index: 1;}#sk-container-id-2 div.sk-parallel {display: flex;align-items: stretch;justify-content: center;background-color: white;position: relative;}#sk-container-id-2 div.sk-item::before, #sk-container-id-2 div.sk-parallel-item::before {content: \"\";position: absolute;border-left: 1px solid gray;box-sizing: border-box;top: 0;bottom: 0;left: 50%;z-index: -1;}#sk-container-id-2 div.sk-parallel-item {display: flex;flex-direction: column;z-index: 1;position: relative;background-color: white;}#sk-container-id-2 div.sk-parallel-item:first-child::after {align-self: flex-end;width: 50%;}#sk-container-id-2 div.sk-parallel-item:last-child::after {align-self: flex-start;width: 50%;}#sk-container-id-2 div.sk-parallel-item:only-child::after {width: 0;}#sk-container-id-2 div.sk-dashed-wrapped {border: 1px dashed gray;margin: 0 0.4em 0.5em 0.4em;box-sizing: border-box;padding-bottom: 0.4em;background-color: white;}#sk-container-id-2 div.sk-label label {font-family: monospace;font-weight: bold;display: inline-block;line-height: 1.2em;}#sk-container-id-2 div.sk-label-container {text-align: center;}#sk-container-id-2 div.sk-container {/* jupyter's `normalize.less` sets `[hidden] { display: none; }` but bootstrap.min.css set `[hidden] { display: none !important; }` so we also need the `!important` here to be able to override the default hidden behavior on the sphinx rendered scikit-learn.org. See: https://github.com/scikit-learn/scikit-learn/issues/21755 */display: inline-block !important;position: relative;}#sk-container-id-2 div.sk-text-repr-fallback {display: none;}</style><div id=\"sk-container-id-2\" class=\"sk-top-container\"><div class=\"sk-text-repr-fallback\"><pre>LogisticRegression()</pre><b>In a Jupyter environment, please rerun this cell to show the HTML representation or trust the notebook. <br />On GitHub, the HTML representation is unable to render, please try loading this page with nbviewer.org.</b></div><div class=\"sk-container\" hidden><div class=\"sk-item\"><div class=\"sk-estimator sk-toggleable\"><input class=\"sk-toggleable__control sk-hidden--visually\" id=\"sk-estimator-id-2\" type=\"checkbox\" checked><label for=\"sk-estimator-id-2\" class=\"sk-toggleable__label sk-toggleable__label-arrow\">LogisticRegression</label><div class=\"sk-toggleable__content\"><pre>LogisticRegression()</pre></div></div></div></div></div>"
      ],
      "text/plain": [
       "LogisticRegression()"
      ]
     },
     "execution_count": 152,
     "metadata": {},
     "output_type": "execute_result"
    }
   ],
   "source": [
    "lg.fit(x_train,y_train)"
   ]
  },
  {
   "cell_type": "code",
   "execution_count": 153,
   "id": "d09449db",
   "metadata": {},
   "outputs": [
    {
     "data": {
      "text/plain": [
       "array([0, 0, 0, ..., 0, 0, 0], dtype=int64)"
      ]
     },
     "execution_count": 153,
     "metadata": {},
     "output_type": "execute_result"
    }
   ],
   "source": [
    "lg_p3=lg.predict(x_test)\n",
    "lg_p3"
   ]
  },
  {
   "cell_type": "code",
   "execution_count": 154,
   "id": "8187dce1",
   "metadata": {},
   "outputs": [
    {
     "data": {
      "text/plain": [
       "array([[123842,    544],\n",
       "       [    22,  12383]], dtype=int64)"
      ]
     },
     "execution_count": 154,
     "metadata": {},
     "output_type": "execute_result"
    }
   ],
   "source": [
    "from sklearn.metrics import confusion_matrix\n",
    "from sklearn.metrics import classification_report\n",
    "c2=confusion_matrix(lg_p3,y_test)\n",
    "c2"
   ]
  },
  {
   "cell_type": "code",
   "execution_count": 155,
   "id": "03d52d58",
   "metadata": {},
   "outputs": [
    {
     "data": {
      "text/plain": [
       "99.5862300882368"
      ]
     },
     "execution_count": 155,
     "metadata": {},
     "output_type": "execute_result"
    }
   ],
   "source": [
    "Ac2=c2.diagonal().sum()/c2.sum()*100  #99 % accuracy\n",
    "Ac2"
   ]
  },
  {
   "cell_type": "code",
   "execution_count": 156,
   "id": "f9244503",
   "metadata": {},
   "outputs": [
    {
     "name": "stdout",
     "output_type": "stream",
     "text": [
      "              precision    recall  f1-score   support\n",
      "\n",
      "           0       1.00      1.00      1.00    124386\n",
      "           1       0.96      1.00      0.98     12405\n",
      "\n",
      "    accuracy                           1.00    136791\n",
      "   macro avg       0.98      1.00      0.99    136791\n",
      "weighted avg       1.00      1.00      1.00    136791\n",
      "\n"
     ]
    }
   ],
   "source": [
    "print(classification_report(lg_p3,y_test)) "
   ]
  },
  {
   "cell_type": "markdown",
   "id": "80aff1e4",
   "metadata": {},
   "source": [
    "# Decision Tree"
   ]
  },
  {
   "cell_type": "code",
   "execution_count": 158,
   "id": "f82e6393",
   "metadata": {},
   "outputs": [
    {
     "data": {
      "text/html": [
       "<style>#sk-container-id-3 {color: black;background-color: white;}#sk-container-id-3 pre{padding: 0;}#sk-container-id-3 div.sk-toggleable {background-color: white;}#sk-container-id-3 label.sk-toggleable__label {cursor: pointer;display: block;width: 100%;margin-bottom: 0;padding: 0.3em;box-sizing: border-box;text-align: center;}#sk-container-id-3 label.sk-toggleable__label-arrow:before {content: \"▸\";float: left;margin-right: 0.25em;color: #696969;}#sk-container-id-3 label.sk-toggleable__label-arrow:hover:before {color: black;}#sk-container-id-3 div.sk-estimator:hover label.sk-toggleable__label-arrow:before {color: black;}#sk-container-id-3 div.sk-toggleable__content {max-height: 0;max-width: 0;overflow: hidden;text-align: left;background-color: #f0f8ff;}#sk-container-id-3 div.sk-toggleable__content pre {margin: 0.2em;color: black;border-radius: 0.25em;background-color: #f0f8ff;}#sk-container-id-3 input.sk-toggleable__control:checked~div.sk-toggleable__content {max-height: 200px;max-width: 100%;overflow: auto;}#sk-container-id-3 input.sk-toggleable__control:checked~label.sk-toggleable__label-arrow:before {content: \"▾\";}#sk-container-id-3 div.sk-estimator input.sk-toggleable__control:checked~label.sk-toggleable__label {background-color: #d4ebff;}#sk-container-id-3 div.sk-label input.sk-toggleable__control:checked~label.sk-toggleable__label {background-color: #d4ebff;}#sk-container-id-3 input.sk-hidden--visually {border: 0;clip: rect(1px 1px 1px 1px);clip: rect(1px, 1px, 1px, 1px);height: 1px;margin: -1px;overflow: hidden;padding: 0;position: absolute;width: 1px;}#sk-container-id-3 div.sk-estimator {font-family: monospace;background-color: #f0f8ff;border: 1px dotted black;border-radius: 0.25em;box-sizing: border-box;margin-bottom: 0.5em;}#sk-container-id-3 div.sk-estimator:hover {background-color: #d4ebff;}#sk-container-id-3 div.sk-parallel-item::after {content: \"\";width: 100%;border-bottom: 1px solid gray;flex-grow: 1;}#sk-container-id-3 div.sk-label:hover label.sk-toggleable__label {background-color: #d4ebff;}#sk-container-id-3 div.sk-serial::before {content: \"\";position: absolute;border-left: 1px solid gray;box-sizing: border-box;top: 0;bottom: 0;left: 50%;z-index: 0;}#sk-container-id-3 div.sk-serial {display: flex;flex-direction: column;align-items: center;background-color: white;padding-right: 0.2em;padding-left: 0.2em;position: relative;}#sk-container-id-3 div.sk-item {position: relative;z-index: 1;}#sk-container-id-3 div.sk-parallel {display: flex;align-items: stretch;justify-content: center;background-color: white;position: relative;}#sk-container-id-3 div.sk-item::before, #sk-container-id-3 div.sk-parallel-item::before {content: \"\";position: absolute;border-left: 1px solid gray;box-sizing: border-box;top: 0;bottom: 0;left: 50%;z-index: -1;}#sk-container-id-3 div.sk-parallel-item {display: flex;flex-direction: column;z-index: 1;position: relative;background-color: white;}#sk-container-id-3 div.sk-parallel-item:first-child::after {align-self: flex-end;width: 50%;}#sk-container-id-3 div.sk-parallel-item:last-child::after {align-self: flex-start;width: 50%;}#sk-container-id-3 div.sk-parallel-item:only-child::after {width: 0;}#sk-container-id-3 div.sk-dashed-wrapped {border: 1px dashed gray;margin: 0 0.4em 0.5em 0.4em;box-sizing: border-box;padding-bottom: 0.4em;background-color: white;}#sk-container-id-3 div.sk-label label {font-family: monospace;font-weight: bold;display: inline-block;line-height: 1.2em;}#sk-container-id-3 div.sk-label-container {text-align: center;}#sk-container-id-3 div.sk-container {/* jupyter's `normalize.less` sets `[hidden] { display: none; }` but bootstrap.min.css set `[hidden] { display: none !important; }` so we also need the `!important` here to be able to override the default hidden behavior on the sphinx rendered scikit-learn.org. See: https://github.com/scikit-learn/scikit-learn/issues/21755 */display: inline-block !important;position: relative;}#sk-container-id-3 div.sk-text-repr-fallback {display: none;}</style><div id=\"sk-container-id-3\" class=\"sk-top-container\"><div class=\"sk-text-repr-fallback\"><pre>DecisionTreeClassifier()</pre><b>In a Jupyter environment, please rerun this cell to show the HTML representation or trust the notebook. <br />On GitHub, the HTML representation is unable to render, please try loading this page with nbviewer.org.</b></div><div class=\"sk-container\" hidden><div class=\"sk-item\"><div class=\"sk-estimator sk-toggleable\"><input class=\"sk-toggleable__control sk-hidden--visually\" id=\"sk-estimator-id-3\" type=\"checkbox\" checked><label for=\"sk-estimator-id-3\" class=\"sk-toggleable__label sk-toggleable__label-arrow\">DecisionTreeClassifier</label><div class=\"sk-toggleable__content\"><pre>DecisionTreeClassifier()</pre></div></div></div></div></div>"
      ],
      "text/plain": [
       "DecisionTreeClassifier()"
      ]
     },
     "execution_count": 158,
     "metadata": {},
     "output_type": "execute_result"
    }
   ],
   "source": [
    "dt.fit(x_train,y_train)"
   ]
  },
  {
   "cell_type": "code",
   "execution_count": 159,
   "id": "83ed357d",
   "metadata": {},
   "outputs": [
    {
     "data": {
      "text/plain": [
       "array([0, 0, 0, ..., 0, 0, 0], dtype=int64)"
      ]
     },
     "execution_count": 159,
     "metadata": {},
     "output_type": "execute_result"
    }
   ],
   "source": [
    "dt_p4=dt.predict(x_test)\n",
    "dt_p4"
   ]
  },
  {
   "cell_type": "code",
   "execution_count": 160,
   "id": "e2bd79f9",
   "metadata": {},
   "outputs": [
    {
     "data": {
      "text/plain": [
       "array([[123792,     88],\n",
       "       [    72,  12839]], dtype=int64)"
      ]
     },
     "execution_count": 160,
     "metadata": {},
     "output_type": "execute_result"
    }
   ],
   "source": [
    "c3=confusion_matrix(dt_p4,y_test)\n",
    "c3"
   ]
  },
  {
   "cell_type": "code",
   "execution_count": 161,
   "id": "5727ef21",
   "metadata": {},
   "outputs": [
    {
     "data": {
      "text/plain": [
       "99.88303324049097"
      ]
     },
     "execution_count": 161,
     "metadata": {},
     "output_type": "execute_result"
    }
   ],
   "source": [
    "Ac3=c3.diagonal().sum()/c3.sum()*100  #99 % accuracy\n",
    "Ac3"
   ]
  },
  {
   "cell_type": "code",
   "execution_count": 162,
   "id": "44965fb3",
   "metadata": {},
   "outputs": [
    {
     "name": "stdout",
     "output_type": "stream",
     "text": [
      "              precision    recall  f1-score   support\n",
      "\n",
      "           0       1.00      1.00      1.00    123880\n",
      "           1       0.99      0.99      0.99     12911\n",
      "\n",
      "    accuracy                           1.00    136791\n",
      "   macro avg       1.00      1.00      1.00    136791\n",
      "weighted avg       1.00      1.00      1.00    136791\n",
      "\n"
     ]
    }
   ],
   "source": [
    "print(classification_report(dt_p4,y_test))"
   ]
  },
  {
   "cell_type": "markdown",
   "id": "d629b72a",
   "metadata": {},
   "source": [
    "# Naive Bayes"
   ]
  },
  {
   "cell_type": "code",
   "execution_count": 23,
   "id": "47b6553f",
   "metadata": {},
   "outputs": [
    {
     "data": {
      "text/html": [
       "<style>#sk-container-id-2 {color: black;background-color: white;}#sk-container-id-2 pre{padding: 0;}#sk-container-id-2 div.sk-toggleable {background-color: white;}#sk-container-id-2 label.sk-toggleable__label {cursor: pointer;display: block;width: 100%;margin-bottom: 0;padding: 0.3em;box-sizing: border-box;text-align: center;}#sk-container-id-2 label.sk-toggleable__label-arrow:before {content: \"▸\";float: left;margin-right: 0.25em;color: #696969;}#sk-container-id-2 label.sk-toggleable__label-arrow:hover:before {color: black;}#sk-container-id-2 div.sk-estimator:hover label.sk-toggleable__label-arrow:before {color: black;}#sk-container-id-2 div.sk-toggleable__content {max-height: 0;max-width: 0;overflow: hidden;text-align: left;background-color: #f0f8ff;}#sk-container-id-2 div.sk-toggleable__content pre {margin: 0.2em;color: black;border-radius: 0.25em;background-color: #f0f8ff;}#sk-container-id-2 input.sk-toggleable__control:checked~div.sk-toggleable__content {max-height: 200px;max-width: 100%;overflow: auto;}#sk-container-id-2 input.sk-toggleable__control:checked~label.sk-toggleable__label-arrow:before {content: \"▾\";}#sk-container-id-2 div.sk-estimator input.sk-toggleable__control:checked~label.sk-toggleable__label {background-color: #d4ebff;}#sk-container-id-2 div.sk-label input.sk-toggleable__control:checked~label.sk-toggleable__label {background-color: #d4ebff;}#sk-container-id-2 input.sk-hidden--visually {border: 0;clip: rect(1px 1px 1px 1px);clip: rect(1px, 1px, 1px, 1px);height: 1px;margin: -1px;overflow: hidden;padding: 0;position: absolute;width: 1px;}#sk-container-id-2 div.sk-estimator {font-family: monospace;background-color: #f0f8ff;border: 1px dotted black;border-radius: 0.25em;box-sizing: border-box;margin-bottom: 0.5em;}#sk-container-id-2 div.sk-estimator:hover {background-color: #d4ebff;}#sk-container-id-2 div.sk-parallel-item::after {content: \"\";width: 100%;border-bottom: 1px solid gray;flex-grow: 1;}#sk-container-id-2 div.sk-label:hover label.sk-toggleable__label {background-color: #d4ebff;}#sk-container-id-2 div.sk-serial::before {content: \"\";position: absolute;border-left: 1px solid gray;box-sizing: border-box;top: 0;bottom: 0;left: 50%;z-index: 0;}#sk-container-id-2 div.sk-serial {display: flex;flex-direction: column;align-items: center;background-color: white;padding-right: 0.2em;padding-left: 0.2em;position: relative;}#sk-container-id-2 div.sk-item {position: relative;z-index: 1;}#sk-container-id-2 div.sk-parallel {display: flex;align-items: stretch;justify-content: center;background-color: white;position: relative;}#sk-container-id-2 div.sk-item::before, #sk-container-id-2 div.sk-parallel-item::before {content: \"\";position: absolute;border-left: 1px solid gray;box-sizing: border-box;top: 0;bottom: 0;left: 50%;z-index: -1;}#sk-container-id-2 div.sk-parallel-item {display: flex;flex-direction: column;z-index: 1;position: relative;background-color: white;}#sk-container-id-2 div.sk-parallel-item:first-child::after {align-self: flex-end;width: 50%;}#sk-container-id-2 div.sk-parallel-item:last-child::after {align-self: flex-start;width: 50%;}#sk-container-id-2 div.sk-parallel-item:only-child::after {width: 0;}#sk-container-id-2 div.sk-dashed-wrapped {border: 1px dashed gray;margin: 0 0.4em 0.5em 0.4em;box-sizing: border-box;padding-bottom: 0.4em;background-color: white;}#sk-container-id-2 div.sk-label label {font-family: monospace;font-weight: bold;display: inline-block;line-height: 1.2em;}#sk-container-id-2 div.sk-label-container {text-align: center;}#sk-container-id-2 div.sk-container {/* jupyter's `normalize.less` sets `[hidden] { display: none; }` but bootstrap.min.css set `[hidden] { display: none !important; }` so we also need the `!important` here to be able to override the default hidden behavior on the sphinx rendered scikit-learn.org. See: https://github.com/scikit-learn/scikit-learn/issues/21755 */display: inline-block !important;position: relative;}#sk-container-id-2 div.sk-text-repr-fallback {display: none;}</style><div id=\"sk-container-id-2\" class=\"sk-top-container\"><div class=\"sk-text-repr-fallback\"><pre>MultinomialNB()</pre><b>In a Jupyter environment, please rerun this cell to show the HTML representation or trust the notebook. <br />On GitHub, the HTML representation is unable to render, please try loading this page with nbviewer.org.</b></div><div class=\"sk-container\" hidden><div class=\"sk-item\"><div class=\"sk-estimator sk-toggleable\"><input class=\"sk-toggleable__control sk-hidden--visually\" id=\"sk-estimator-id-2\" type=\"checkbox\" checked><label for=\"sk-estimator-id-2\" class=\"sk-toggleable__label sk-toggleable__label-arrow\">MultinomialNB</label><div class=\"sk-toggleable__content\"><pre>MultinomialNB()</pre></div></div></div></div></div>"
      ],
      "text/plain": [
       "MultinomialNB()"
      ]
     },
     "execution_count": 23,
     "metadata": {},
     "output_type": "execute_result"
    }
   ],
   "source": [
    "nb.fit(x_train,y_train)"
   ]
  },
  {
   "cell_type": "code",
   "execution_count": 24,
   "id": "ff33f504",
   "metadata": {},
   "outputs": [
    {
     "data": {
      "text/plain": [
       "array([0, 0, 0, ..., 0, 0, 1], dtype=int64)"
      ]
     },
     "execution_count": 24,
     "metadata": {},
     "output_type": "execute_result"
    }
   ],
   "source": [
    "nb_p3=nb.predict(x_test)\n",
    "nb_p3"
   ]
  },
  {
   "cell_type": "code",
   "execution_count": 25,
   "id": "c703a2fc",
   "metadata": {},
   "outputs": [
    {
     "data": {
      "text/plain": [
       "array([[98544,   799],\n",
       "       [25320, 12128]], dtype=int64)"
      ]
     },
     "execution_count": 25,
     "metadata": {},
     "output_type": "execute_result"
    }
   ],
   "source": [
    "c5=confusion_matrix(nb_p3,y_test)\n",
    "c5"
   ]
  },
  {
   "cell_type": "code",
   "execution_count": 26,
   "id": "53dfad7a",
   "metadata": {},
   "outputs": [
    {
     "data": {
      "text/plain": [
       "80.90590755239745"
      ]
     },
     "execution_count": 26,
     "metadata": {},
     "output_type": "execute_result"
    }
   ],
   "source": [
    "Ac5=c5.diagonal().sum()/c5.sum()*100\n",
    "Ac5"
   ]
  },
  {
   "cell_type": "code",
   "execution_count": 27,
   "id": "6e8da5de",
   "metadata": {},
   "outputs": [
    {
     "name": "stdout",
     "output_type": "stream",
     "text": [
      "              precision    recall  f1-score   support\n",
      "\n",
      "           0       0.80      0.99      0.88     99343\n",
      "           1       0.94      0.32      0.48     37448\n",
      "\n",
      "    accuracy                           0.81    136791\n",
      "   macro avg       0.87      0.66      0.68    136791\n",
      "weighted avg       0.83      0.81      0.77    136791\n",
      "\n"
     ]
    }
   ],
   "source": [
    "print(classification_report(nb_p3,y_test))"
   ]
  },
  {
   "cell_type": "markdown",
   "id": "d52c8add",
   "metadata": {},
   "source": [
    "# Random Forest"
   ]
  },
  {
   "cell_type": "code",
   "execution_count": 34,
   "id": "7c032721",
   "metadata": {},
   "outputs": [
    {
     "data": {
      "text/html": [
       "<style>#sk-container-id-3 {color: black;background-color: white;}#sk-container-id-3 pre{padding: 0;}#sk-container-id-3 div.sk-toggleable {background-color: white;}#sk-container-id-3 label.sk-toggleable__label {cursor: pointer;display: block;width: 100%;margin-bottom: 0;padding: 0.3em;box-sizing: border-box;text-align: center;}#sk-container-id-3 label.sk-toggleable__label-arrow:before {content: \"▸\";float: left;margin-right: 0.25em;color: #696969;}#sk-container-id-3 label.sk-toggleable__label-arrow:hover:before {color: black;}#sk-container-id-3 div.sk-estimator:hover label.sk-toggleable__label-arrow:before {color: black;}#sk-container-id-3 div.sk-toggleable__content {max-height: 0;max-width: 0;overflow: hidden;text-align: left;background-color: #f0f8ff;}#sk-container-id-3 div.sk-toggleable__content pre {margin: 0.2em;color: black;border-radius: 0.25em;background-color: #f0f8ff;}#sk-container-id-3 input.sk-toggleable__control:checked~div.sk-toggleable__content {max-height: 200px;max-width: 100%;overflow: auto;}#sk-container-id-3 input.sk-toggleable__control:checked~label.sk-toggleable__label-arrow:before {content: \"▾\";}#sk-container-id-3 div.sk-estimator input.sk-toggleable__control:checked~label.sk-toggleable__label {background-color: #d4ebff;}#sk-container-id-3 div.sk-label input.sk-toggleable__control:checked~label.sk-toggleable__label {background-color: #d4ebff;}#sk-container-id-3 input.sk-hidden--visually {border: 0;clip: rect(1px 1px 1px 1px);clip: rect(1px, 1px, 1px, 1px);height: 1px;margin: -1px;overflow: hidden;padding: 0;position: absolute;width: 1px;}#sk-container-id-3 div.sk-estimator {font-family: monospace;background-color: #f0f8ff;border: 1px dotted black;border-radius: 0.25em;box-sizing: border-box;margin-bottom: 0.5em;}#sk-container-id-3 div.sk-estimator:hover {background-color: #d4ebff;}#sk-container-id-3 div.sk-parallel-item::after {content: \"\";width: 100%;border-bottom: 1px solid gray;flex-grow: 1;}#sk-container-id-3 div.sk-label:hover label.sk-toggleable__label {background-color: #d4ebff;}#sk-container-id-3 div.sk-serial::before {content: \"\";position: absolute;border-left: 1px solid gray;box-sizing: border-box;top: 0;bottom: 0;left: 50%;z-index: 0;}#sk-container-id-3 div.sk-serial {display: flex;flex-direction: column;align-items: center;background-color: white;padding-right: 0.2em;padding-left: 0.2em;position: relative;}#sk-container-id-3 div.sk-item {position: relative;z-index: 1;}#sk-container-id-3 div.sk-parallel {display: flex;align-items: stretch;justify-content: center;background-color: white;position: relative;}#sk-container-id-3 div.sk-item::before, #sk-container-id-3 div.sk-parallel-item::before {content: \"\";position: absolute;border-left: 1px solid gray;box-sizing: border-box;top: 0;bottom: 0;left: 50%;z-index: -1;}#sk-container-id-3 div.sk-parallel-item {display: flex;flex-direction: column;z-index: 1;position: relative;background-color: white;}#sk-container-id-3 div.sk-parallel-item:first-child::after {align-self: flex-end;width: 50%;}#sk-container-id-3 div.sk-parallel-item:last-child::after {align-self: flex-start;width: 50%;}#sk-container-id-3 div.sk-parallel-item:only-child::after {width: 0;}#sk-container-id-3 div.sk-dashed-wrapped {border: 1px dashed gray;margin: 0 0.4em 0.5em 0.4em;box-sizing: border-box;padding-bottom: 0.4em;background-color: white;}#sk-container-id-3 div.sk-label label {font-family: monospace;font-weight: bold;display: inline-block;line-height: 1.2em;}#sk-container-id-3 div.sk-label-container {text-align: center;}#sk-container-id-3 div.sk-container {/* jupyter's `normalize.less` sets `[hidden] { display: none; }` but bootstrap.min.css set `[hidden] { display: none !important; }` so we also need the `!important` here to be able to override the default hidden behavior on the sphinx rendered scikit-learn.org. See: https://github.com/scikit-learn/scikit-learn/issues/21755 */display: inline-block !important;position: relative;}#sk-container-id-3 div.sk-text-repr-fallback {display: none;}</style><div id=\"sk-container-id-3\" class=\"sk-top-container\"><div class=\"sk-text-repr-fallback\"><pre>RandomForestClassifier()</pre><b>In a Jupyter environment, please rerun this cell to show the HTML representation or trust the notebook. <br />On GitHub, the HTML representation is unable to render, please try loading this page with nbviewer.org.</b></div><div class=\"sk-container\" hidden><div class=\"sk-item\"><div class=\"sk-estimator sk-toggleable\"><input class=\"sk-toggleable__control sk-hidden--visually\" id=\"sk-estimator-id-3\" type=\"checkbox\" checked><label for=\"sk-estimator-id-3\" class=\"sk-toggleable__label sk-toggleable__label-arrow\">RandomForestClassifier</label><div class=\"sk-toggleable__content\"><pre>RandomForestClassifier()</pre></div></div></div></div></div>"
      ],
      "text/plain": [
       "RandomForestClassifier()"
      ]
     },
     "execution_count": 34,
     "metadata": {},
     "output_type": "execute_result"
    }
   ],
   "source": [
    "rf.fit(x_train,y_train)"
   ]
  },
  {
   "cell_type": "code",
   "execution_count": 35,
   "id": "73315f6a",
   "metadata": {},
   "outputs": [
    {
     "data": {
      "text/plain": [
       "array([0, 0, 0, ..., 0, 0, 0], dtype=int64)"
      ]
     },
     "execution_count": 35,
     "metadata": {},
     "output_type": "execute_result"
    }
   ],
   "source": [
    "rf_pred=rf.predict(x_test)\n",
    "rf_pred"
   ]
  },
  {
   "cell_type": "code",
   "execution_count": 36,
   "id": "7fa46994",
   "metadata": {},
   "outputs": [
    {
     "data": {
      "text/plain": [
       "array([[123863,    151],\n",
       "       [     1,  12776]], dtype=int64)"
      ]
     },
     "execution_count": 36,
     "metadata": {},
     "output_type": "execute_result"
    }
   ],
   "source": [
    "m_rf=confusion_matrix(rf_pred,y_test)\n",
    "m_rf"
   ]
  },
  {
   "cell_type": "code",
   "execution_count": 37,
   "id": "896a07d4",
   "metadata": {},
   "outputs": [
    {
     "data": {
      "text/plain": [
       "99.88888157846641"
      ]
     },
     "execution_count": 37,
     "metadata": {},
     "output_type": "execute_result"
    }
   ],
   "source": [
    "acc_rf=m_rf.diagonal().sum()/m_rf.sum()*100 #99% accuracy\n",
    "acc_rf"
   ]
  },
  {
   "cell_type": "code",
   "execution_count": 38,
   "id": "cc1fcf69",
   "metadata": {},
   "outputs": [
    {
     "name": "stdout",
     "output_type": "stream",
     "text": [
      "              precision    recall  f1-score   support\n",
      "\n",
      "           0       1.00      1.00      1.00    124014\n",
      "           1       0.99      1.00      0.99     12777\n",
      "\n",
      "    accuracy                           1.00    136791\n",
      "   macro avg       0.99      1.00      1.00    136791\n",
      "weighted avg       1.00      1.00      1.00    136791\n",
      "\n"
     ]
    }
   ],
   "source": [
    "print(classification_report(rf_pred,y_test))"
   ]
  },
  {
   "cell_type": "markdown",
   "id": "b231ad71",
   "metadata": {},
   "source": [
    "# Boosting"
   ]
  },
  {
   "cell_type": "code",
   "execution_count": null,
   "id": "c5ac5136",
   "metadata": {},
   "outputs": [],
   "source": [
    "#XG Boost"
   ]
  },
  {
   "cell_type": "code",
   "execution_count": 39,
   "id": "0947708d",
   "metadata": {},
   "outputs": [
    {
     "data": {
      "text/html": [
       "<style>#sk-container-id-4 {color: black;background-color: white;}#sk-container-id-4 pre{padding: 0;}#sk-container-id-4 div.sk-toggleable {background-color: white;}#sk-container-id-4 label.sk-toggleable__label {cursor: pointer;display: block;width: 100%;margin-bottom: 0;padding: 0.3em;box-sizing: border-box;text-align: center;}#sk-container-id-4 label.sk-toggleable__label-arrow:before {content: \"▸\";float: left;margin-right: 0.25em;color: #696969;}#sk-container-id-4 label.sk-toggleable__label-arrow:hover:before {color: black;}#sk-container-id-4 div.sk-estimator:hover label.sk-toggleable__label-arrow:before {color: black;}#sk-container-id-4 div.sk-toggleable__content {max-height: 0;max-width: 0;overflow: hidden;text-align: left;background-color: #f0f8ff;}#sk-container-id-4 div.sk-toggleable__content pre {margin: 0.2em;color: black;border-radius: 0.25em;background-color: #f0f8ff;}#sk-container-id-4 input.sk-toggleable__control:checked~div.sk-toggleable__content {max-height: 200px;max-width: 100%;overflow: auto;}#sk-container-id-4 input.sk-toggleable__control:checked~label.sk-toggleable__label-arrow:before {content: \"▾\";}#sk-container-id-4 div.sk-estimator input.sk-toggleable__control:checked~label.sk-toggleable__label {background-color: #d4ebff;}#sk-container-id-4 div.sk-label input.sk-toggleable__control:checked~label.sk-toggleable__label {background-color: #d4ebff;}#sk-container-id-4 input.sk-hidden--visually {border: 0;clip: rect(1px 1px 1px 1px);clip: rect(1px, 1px, 1px, 1px);height: 1px;margin: -1px;overflow: hidden;padding: 0;position: absolute;width: 1px;}#sk-container-id-4 div.sk-estimator {font-family: monospace;background-color: #f0f8ff;border: 1px dotted black;border-radius: 0.25em;box-sizing: border-box;margin-bottom: 0.5em;}#sk-container-id-4 div.sk-estimator:hover {background-color: #d4ebff;}#sk-container-id-4 div.sk-parallel-item::after {content: \"\";width: 100%;border-bottom: 1px solid gray;flex-grow: 1;}#sk-container-id-4 div.sk-label:hover label.sk-toggleable__label {background-color: #d4ebff;}#sk-container-id-4 div.sk-serial::before {content: \"\";position: absolute;border-left: 1px solid gray;box-sizing: border-box;top: 0;bottom: 0;left: 50%;z-index: 0;}#sk-container-id-4 div.sk-serial {display: flex;flex-direction: column;align-items: center;background-color: white;padding-right: 0.2em;padding-left: 0.2em;position: relative;}#sk-container-id-4 div.sk-item {position: relative;z-index: 1;}#sk-container-id-4 div.sk-parallel {display: flex;align-items: stretch;justify-content: center;background-color: white;position: relative;}#sk-container-id-4 div.sk-item::before, #sk-container-id-4 div.sk-parallel-item::before {content: \"\";position: absolute;border-left: 1px solid gray;box-sizing: border-box;top: 0;bottom: 0;left: 50%;z-index: -1;}#sk-container-id-4 div.sk-parallel-item {display: flex;flex-direction: column;z-index: 1;position: relative;background-color: white;}#sk-container-id-4 div.sk-parallel-item:first-child::after {align-self: flex-end;width: 50%;}#sk-container-id-4 div.sk-parallel-item:last-child::after {align-self: flex-start;width: 50%;}#sk-container-id-4 div.sk-parallel-item:only-child::after {width: 0;}#sk-container-id-4 div.sk-dashed-wrapped {border: 1px dashed gray;margin: 0 0.4em 0.5em 0.4em;box-sizing: border-box;padding-bottom: 0.4em;background-color: white;}#sk-container-id-4 div.sk-label label {font-family: monospace;font-weight: bold;display: inline-block;line-height: 1.2em;}#sk-container-id-4 div.sk-label-container {text-align: center;}#sk-container-id-4 div.sk-container {/* jupyter's `normalize.less` sets `[hidden] { display: none; }` but bootstrap.min.css set `[hidden] { display: none !important; }` so we also need the `!important` here to be able to override the default hidden behavior on the sphinx rendered scikit-learn.org. See: https://github.com/scikit-learn/scikit-learn/issues/21755 */display: inline-block !important;position: relative;}#sk-container-id-4 div.sk-text-repr-fallback {display: none;}</style><div id=\"sk-container-id-4\" class=\"sk-top-container\"><div class=\"sk-text-repr-fallback\"><pre>XGBClassifier(base_score=0.5, booster=&#x27;gbtree&#x27;, callbacks=None,\n",
       "              colsample_bylevel=1, colsample_bynode=1, colsample_bytree=1,\n",
       "              early_stopping_rounds=None, enable_categorical=False,\n",
       "              eval_metric=None, feature_types=None, gamma=0, gpu_id=-1,\n",
       "              grow_policy=&#x27;depthwise&#x27;, importance_type=None,\n",
       "              interaction_constraints=&#x27;&#x27;, learning_rate=0.300000012,\n",
       "              max_bin=256, max_cat_threshold=64, max_cat_to_onehot=4,\n",
       "              max_delta_step=0, max_depth=6, max_leaves=0, min_child_weight=1,\n",
       "              missing=nan, monotone_constraints=&#x27;()&#x27;, n_estimators=100,\n",
       "              n_jobs=0, num_parallel_tree=1, predictor=&#x27;auto&#x27;, random_state=0, ...)</pre><b>In a Jupyter environment, please rerun this cell to show the HTML representation or trust the notebook. <br />On GitHub, the HTML representation is unable to render, please try loading this page with nbviewer.org.</b></div><div class=\"sk-container\" hidden><div class=\"sk-item\"><div class=\"sk-estimator sk-toggleable\"><input class=\"sk-toggleable__control sk-hidden--visually\" id=\"sk-estimator-id-4\" type=\"checkbox\" checked><label for=\"sk-estimator-id-4\" class=\"sk-toggleable__label sk-toggleable__label-arrow\">XGBClassifier</label><div class=\"sk-toggleable__content\"><pre>XGBClassifier(base_score=0.5, booster=&#x27;gbtree&#x27;, callbacks=None,\n",
       "              colsample_bylevel=1, colsample_bynode=1, colsample_bytree=1,\n",
       "              early_stopping_rounds=None, enable_categorical=False,\n",
       "              eval_metric=None, feature_types=None, gamma=0, gpu_id=-1,\n",
       "              grow_policy=&#x27;depthwise&#x27;, importance_type=None,\n",
       "              interaction_constraints=&#x27;&#x27;, learning_rate=0.300000012,\n",
       "              max_bin=256, max_cat_threshold=64, max_cat_to_onehot=4,\n",
       "              max_delta_step=0, max_depth=6, max_leaves=0, min_child_weight=1,\n",
       "              missing=nan, monotone_constraints=&#x27;()&#x27;, n_estimators=100,\n",
       "              n_jobs=0, num_parallel_tree=1, predictor=&#x27;auto&#x27;, random_state=0, ...)</pre></div></div></div></div></div>"
      ],
      "text/plain": [
       "XGBClassifier(base_score=0.5, booster='gbtree', callbacks=None,\n",
       "              colsample_bylevel=1, colsample_bynode=1, colsample_bytree=1,\n",
       "              early_stopping_rounds=None, enable_categorical=False,\n",
       "              eval_metric=None, feature_types=None, gamma=0, gpu_id=-1,\n",
       "              grow_policy='depthwise', importance_type=None,\n",
       "              interaction_constraints='', learning_rate=0.300000012,\n",
       "              max_bin=256, max_cat_threshold=64, max_cat_to_onehot=4,\n",
       "              max_delta_step=0, max_depth=6, max_leaves=0, min_child_weight=1,\n",
       "              missing=nan, monotone_constraints='()', n_estimators=100,\n",
       "              n_jobs=0, num_parallel_tree=1, predictor='auto', random_state=0, ...)"
      ]
     },
     "execution_count": 39,
     "metadata": {},
     "output_type": "execute_result"
    }
   ],
   "source": [
    "xg.fit(x_train,y_train)"
   ]
  },
  {
   "cell_type": "code",
   "execution_count": 40,
   "id": "34dcdfa2",
   "metadata": {},
   "outputs": [
    {
     "data": {
      "text/plain": [
       "array([0, 0, 0, ..., 0, 0, 0])"
      ]
     },
     "execution_count": 40,
     "metadata": {},
     "output_type": "execute_result"
    }
   ],
   "source": [
    "xg_pred=xg.predict(x_test)\n",
    "xg_pred"
   ]
  },
  {
   "cell_type": "code",
   "execution_count": 41,
   "id": "1b114fce",
   "metadata": {},
   "outputs": [
    {
     "data": {
      "text/plain": [
       "array([[123864,     65],\n",
       "       [     0,  12862]], dtype=int64)"
      ]
     },
     "execution_count": 41,
     "metadata": {},
     "output_type": "execute_result"
    }
   ],
   "source": [
    "m6=confusion_matrix(xg_pred,y_test)\n",
    "m6"
   ]
  },
  {
   "cell_type": "code",
   "execution_count": 42,
   "id": "237af2a5",
   "metadata": {},
   "outputs": [
    {
     "data": {
      "text/plain": [
       "99.95248225394946"
      ]
     },
     "execution_count": 42,
     "metadata": {},
     "output_type": "execute_result"
    }
   ],
   "source": [
    "acc_xg=m6.diagonal().sum()/m6.sum()*100\n",
    "acc_xg"
   ]
  },
  {
   "cell_type": "code",
   "execution_count": null,
   "id": "65da1288",
   "metadata": {},
   "outputs": [],
   "source": [
    "print(classification_report(xg_pred,y_test))"
   ]
  },
  {
   "cell_type": "code",
   "execution_count": null,
   "id": "7df30c4d",
   "metadata": {},
   "outputs": [],
   "source": [
    "#from base model accuracy \n",
    "# 1.  Logistic Regression = 98%  accuracy\n",
    "# 2.  Decision tree = 99% \n",
    "# 3.  Naive Bayes = 86% accuracy = 80% accuracy\n",
    "# 4.  Random Forest = 99%accuracy"
   ]
  },
  {
   "cell_type": "markdown",
   "id": "14586370",
   "metadata": {},
   "source": [
    "# class imbalanced technique"
   ]
  },
  {
   "cell_type": "markdown",
   "id": "6f4ac9cc",
   "metadata": {},
   "source": [
    "#   Random undersamplling"
   ]
  },
  {
   "cell_type": "code",
   "execution_count": null,
   "id": "762d0c84",
   "metadata": {},
   "outputs": [],
   "source": [
    "#data is large so go with random undersamplling"
   ]
  },
  {
   "cell_type": "code",
   "execution_count": 28,
   "id": "2d44c85c",
   "metadata": {},
   "outputs": [
    {
     "data": {
      "text/plain": [
       "(412661, 43307)"
      ]
     },
     "execution_count": 28,
     "metadata": {},
     "output_type": "execute_result"
    }
   ],
   "source": [
    "c_2,c_3=data_tr[\"default_ind\"].value_counts()\n",
    "c_2,c_3"
   ]
  },
  {
   "cell_type": "code",
   "execution_count": 29,
   "id": "d78662cd",
   "metadata": {},
   "outputs": [
    {
     "data": {
      "text/plain": [
       "((412661, 43), (43307, 43))"
      ]
     },
     "execution_count": 29,
     "metadata": {},
     "output_type": "execute_result"
    }
   ],
   "source": [
    "train_2=data_tr[data_tr[\"default_ind\"]==0]\n",
    "train_3=data_tr[data_tr[\"default_ind\"]==1]\n",
    "train_2.shape,train_3.shape"
   ]
  },
  {
   "cell_type": "code",
   "execution_count": 30,
   "id": "75b140c6",
   "metadata": {},
   "outputs": [],
   "source": [
    "class_new22=train_2.sample(c_3)"
   ]
  },
  {
   "cell_type": "code",
   "execution_count": 31,
   "id": "84fa9af8",
   "metadata": {},
   "outputs": [],
   "source": [
    "class2_f=pd.concat([class_new22,train_3],axis=0)"
   ]
  },
  {
   "cell_type": "code",
   "execution_count": 32,
   "id": "3e2b291b",
   "metadata": {},
   "outputs": [
    {
     "data": {
      "text/plain": [
       "(86614, 43)"
      ]
     },
     "execution_count": 32,
     "metadata": {},
     "output_type": "execute_result"
    }
   ],
   "source": [
    "class2_f.shape\n"
   ]
  },
  {
   "cell_type": "code",
   "execution_count": 33,
   "id": "66868f49",
   "metadata": {},
   "outputs": [
    {
     "data": {
      "text/plain": [
       "0    43307\n",
       "1    43307\n",
       "Name: default_ind, dtype: int64"
      ]
     },
     "execution_count": 33,
     "metadata": {},
     "output_type": "execute_result"
    }
   ],
   "source": [
    "class2_f.default_ind.value_counts()"
   ]
  },
  {
   "cell_type": "code",
   "execution_count": 34,
   "id": "63ad8c81",
   "metadata": {},
   "outputs": [],
   "source": [
    "n_x2=class2_f.iloc[:,2:-1]\n",
    "n_y2=class2_f.iloc[:,-1]"
   ]
  },
  {
   "cell_type": "code",
   "execution_count": 35,
   "id": "684bd1ed",
   "metadata": {},
   "outputs": [],
   "source": [
    "#n_x2"
   ]
  },
  {
   "cell_type": "code",
   "execution_count": 36,
   "id": "fa4dc714",
   "metadata": {},
   "outputs": [],
   "source": [
    "x_train2,x_test3,y_train2,y_test3=train_test_split(n_x2,n_y2,test_size=0.2,random_state=100)\n"
   ]
  },
  {
   "cell_type": "code",
   "execution_count": 37,
   "id": "26f50138",
   "metadata": {},
   "outputs": [
    {
     "data": {
      "text/plain": [
       "((69291, 40), (17323, 40), (69291,), (17323,))"
      ]
     },
     "execution_count": 37,
     "metadata": {},
     "output_type": "execute_result"
    }
   ],
   "source": [
    "x_train2.shape,x_test3.shape,y_train2.shape,y_test3.shape"
   ]
  },
  {
   "cell_type": "markdown",
   "id": "c8e5e99a",
   "metadata": {},
   "source": [
    "# logistic regression with Random undersamplling  "
   ]
  },
  {
   "cell_type": "code",
   "execution_count": null,
   "id": "dac1127a",
   "metadata": {},
   "outputs": [],
   "source": [
    "#lg.fit(x_train2,y_train2)"
   ]
  },
  {
   "cell_type": "code",
   "execution_count": null,
   "id": "951e6f8a",
   "metadata": {},
   "outputs": [],
   "source": [
    "#lg_f=lg.predict(x_test3)\n",
    "#lg_f"
   ]
  },
  {
   "cell_type": "code",
   "execution_count": null,
   "id": "b314ea3a",
   "metadata": {},
   "outputs": [],
   "source": [
    "#c_f=confusion_matrix(lg_f,y_test3)\n",
    "#c_f"
   ]
  },
  {
   "cell_type": "code",
   "execution_count": null,
   "id": "2bda38a6",
   "metadata": {},
   "outputs": [],
   "source": [
    "#Acc_f=c_f.diagonal().sum()/c_f.sum()*100\n",
    "#Acc_f"
   ]
  },
  {
   "cell_type": "code",
   "execution_count": null,
   "id": "4c484be7",
   "metadata": {},
   "outputs": [],
   "source": [
    "#print(classification_report(lg_f,y_test3))"
   ]
  },
  {
   "cell_type": "markdown",
   "id": "a5afbf5f",
   "metadata": {},
   "source": [
    "# Decision tree with Random undersamplling         "
   ]
  },
  {
   "cell_type": "code",
   "execution_count": null,
   "id": "fbba354b",
   "metadata": {},
   "outputs": [],
   "source": [
    "#dt.fit(x_train2,y_train2)"
   ]
  },
  {
   "cell_type": "code",
   "execution_count": null,
   "id": "b5b3c938",
   "metadata": {},
   "outputs": [],
   "source": [
    "#dt_g=dt.predict(x_test3)\n",
    "#dt_g"
   ]
  },
  {
   "cell_type": "code",
   "execution_count": null,
   "id": "d68703fe",
   "metadata": {},
   "outputs": [],
   "source": [
    "#c_g=confusion_matrix(dt_g,y_test3)\n",
    "#c_g"
   ]
  },
  {
   "cell_type": "code",
   "execution_count": null,
   "id": "9ce90de2",
   "metadata": {},
   "outputs": [],
   "source": [
    "#Acc_g=c_g.diagonal().sum()/c_g.sum()*100\n",
    "#Acc_g"
   ]
  },
  {
   "cell_type": "code",
   "execution_count": null,
   "id": "9c73c019",
   "metadata": {},
   "outputs": [],
   "source": [
    "#print(classification_report(dt_g,y_test3))"
   ]
  },
  {
   "cell_type": "markdown",
   "id": "287dd27a",
   "metadata": {},
   "source": [
    "# random forest with Random undersamplling           "
   ]
  },
  {
   "cell_type": "code",
   "execution_count": null,
   "id": "7601e1f5",
   "metadata": {},
   "outputs": [],
   "source": [
    "#rf.fit(x_train2,y_train2)"
   ]
  },
  {
   "cell_type": "code",
   "execution_count": null,
   "id": "eaeb3c1e",
   "metadata": {},
   "outputs": [],
   "source": [
    "#rf_h=rf.predict(x_test3)\n",
    "#rf_h"
   ]
  },
  {
   "cell_type": "code",
   "execution_count": null,
   "id": "ecaf2d21",
   "metadata": {},
   "outputs": [],
   "source": [
    "#c_h=confusion_matrix(rf_h,y_test3)\n",
    "#c_h"
   ]
  },
  {
   "cell_type": "code",
   "execution_count": null,
   "id": "5dda3585",
   "metadata": {},
   "outputs": [],
   "source": [
    "#Acc_h=c_h.diagonal().sum()/c_h.sum()*100\n",
    "#Acc_h"
   ]
  },
  {
   "cell_type": "code",
   "execution_count": null,
   "id": "04671dd5",
   "metadata": {},
   "outputs": [],
   "source": [
    "#print(classification_report(rf_h,y_test3))"
   ]
  },
  {
   "cell_type": "markdown",
   "id": "af9cb30d",
   "metadata": {},
   "source": [
    "# Naive bayes with Random undersamplling   "
   ]
  },
  {
   "cell_type": "code",
   "execution_count": 69,
   "id": "23a6a4ff",
   "metadata": {},
   "outputs": [
    {
     "data": {
      "text/html": [
       "<style>#sk-container-id-6 {color: black;background-color: white;}#sk-container-id-6 pre{padding: 0;}#sk-container-id-6 div.sk-toggleable {background-color: white;}#sk-container-id-6 label.sk-toggleable__label {cursor: pointer;display: block;width: 100%;margin-bottom: 0;padding: 0.3em;box-sizing: border-box;text-align: center;}#sk-container-id-6 label.sk-toggleable__label-arrow:before {content: \"▸\";float: left;margin-right: 0.25em;color: #696969;}#sk-container-id-6 label.sk-toggleable__label-arrow:hover:before {color: black;}#sk-container-id-6 div.sk-estimator:hover label.sk-toggleable__label-arrow:before {color: black;}#sk-container-id-6 div.sk-toggleable__content {max-height: 0;max-width: 0;overflow: hidden;text-align: left;background-color: #f0f8ff;}#sk-container-id-6 div.sk-toggleable__content pre {margin: 0.2em;color: black;border-radius: 0.25em;background-color: #f0f8ff;}#sk-container-id-6 input.sk-toggleable__control:checked~div.sk-toggleable__content {max-height: 200px;max-width: 100%;overflow: auto;}#sk-container-id-6 input.sk-toggleable__control:checked~label.sk-toggleable__label-arrow:before {content: \"▾\";}#sk-container-id-6 div.sk-estimator input.sk-toggleable__control:checked~label.sk-toggleable__label {background-color: #d4ebff;}#sk-container-id-6 div.sk-label input.sk-toggleable__control:checked~label.sk-toggleable__label {background-color: #d4ebff;}#sk-container-id-6 input.sk-hidden--visually {border: 0;clip: rect(1px 1px 1px 1px);clip: rect(1px, 1px, 1px, 1px);height: 1px;margin: -1px;overflow: hidden;padding: 0;position: absolute;width: 1px;}#sk-container-id-6 div.sk-estimator {font-family: monospace;background-color: #f0f8ff;border: 1px dotted black;border-radius: 0.25em;box-sizing: border-box;margin-bottom: 0.5em;}#sk-container-id-6 div.sk-estimator:hover {background-color: #d4ebff;}#sk-container-id-6 div.sk-parallel-item::after {content: \"\";width: 100%;border-bottom: 1px solid gray;flex-grow: 1;}#sk-container-id-6 div.sk-label:hover label.sk-toggleable__label {background-color: #d4ebff;}#sk-container-id-6 div.sk-serial::before {content: \"\";position: absolute;border-left: 1px solid gray;box-sizing: border-box;top: 0;bottom: 0;left: 50%;z-index: 0;}#sk-container-id-6 div.sk-serial {display: flex;flex-direction: column;align-items: center;background-color: white;padding-right: 0.2em;padding-left: 0.2em;position: relative;}#sk-container-id-6 div.sk-item {position: relative;z-index: 1;}#sk-container-id-6 div.sk-parallel {display: flex;align-items: stretch;justify-content: center;background-color: white;position: relative;}#sk-container-id-6 div.sk-item::before, #sk-container-id-6 div.sk-parallel-item::before {content: \"\";position: absolute;border-left: 1px solid gray;box-sizing: border-box;top: 0;bottom: 0;left: 50%;z-index: -1;}#sk-container-id-6 div.sk-parallel-item {display: flex;flex-direction: column;z-index: 1;position: relative;background-color: white;}#sk-container-id-6 div.sk-parallel-item:first-child::after {align-self: flex-end;width: 50%;}#sk-container-id-6 div.sk-parallel-item:last-child::after {align-self: flex-start;width: 50%;}#sk-container-id-6 div.sk-parallel-item:only-child::after {width: 0;}#sk-container-id-6 div.sk-dashed-wrapped {border: 1px dashed gray;margin: 0 0.4em 0.5em 0.4em;box-sizing: border-box;padding-bottom: 0.4em;background-color: white;}#sk-container-id-6 div.sk-label label {font-family: monospace;font-weight: bold;display: inline-block;line-height: 1.2em;}#sk-container-id-6 div.sk-label-container {text-align: center;}#sk-container-id-6 div.sk-container {/* jupyter's `normalize.less` sets `[hidden] { display: none; }` but bootstrap.min.css set `[hidden] { display: none !important; }` so we also need the `!important` here to be able to override the default hidden behavior on the sphinx rendered scikit-learn.org. See: https://github.com/scikit-learn/scikit-learn/issues/21755 */display: inline-block !important;position: relative;}#sk-container-id-6 div.sk-text-repr-fallback {display: none;}</style><div id=\"sk-container-id-6\" class=\"sk-top-container\"><div class=\"sk-text-repr-fallback\"><pre>MultinomialNB()</pre><b>In a Jupyter environment, please rerun this cell to show the HTML representation or trust the notebook. <br />On GitHub, the HTML representation is unable to render, please try loading this page with nbviewer.org.</b></div><div class=\"sk-container\" hidden><div class=\"sk-item\"><div class=\"sk-estimator sk-toggleable\"><input class=\"sk-toggleable__control sk-hidden--visually\" id=\"sk-estimator-id-6\" type=\"checkbox\" checked><label for=\"sk-estimator-id-6\" class=\"sk-toggleable__label sk-toggleable__label-arrow\">MultinomialNB</label><div class=\"sk-toggleable__content\"><pre>MultinomialNB()</pre></div></div></div></div></div>"
      ],
      "text/plain": [
       "MultinomialNB()"
      ]
     },
     "execution_count": 69,
     "metadata": {},
     "output_type": "execute_result"
    }
   ],
   "source": [
    "nb.fit(x_train2,y_train2)"
   ]
  },
  {
   "cell_type": "code",
   "execution_count": 70,
   "id": "f3c4e55e",
   "metadata": {},
   "outputs": [
    {
     "data": {
      "text/plain": [
       "array([0, 1, 1, ..., 1, 0, 1], dtype=int64)"
      ]
     },
     "execution_count": 70,
     "metadata": {},
     "output_type": "execute_result"
    }
   ],
   "source": [
    "nb_a1=nb.predict(x_test3)\n",
    "nb_a"
   ]
  },
  {
   "cell_type": "code",
   "execution_count": 71,
   "id": "1da32b52",
   "metadata": {},
   "outputs": [
    {
     "data": {
      "text/plain": [
       "array([[65654,  5355],\n",
       "       [16960, 77096]], dtype=int64)"
      ]
     },
     "execution_count": 71,
     "metadata": {},
     "output_type": "execute_result"
    }
   ],
   "source": [
    "c_d1=confusion_matrix(nb_a1,y_test3)\n",
    "c_d"
   ]
  },
  {
   "cell_type": "code",
   "execution_count": 72,
   "id": "c5105910",
   "metadata": {},
   "outputs": [
    {
     "data": {
      "text/plain": [
       "86.98262425676846"
      ]
     },
     "execution_count": 72,
     "metadata": {},
     "output_type": "execute_result"
    }
   ],
   "source": [
    "Acc_d=c_d1.diagonal().sum()/c_d1.sum()*100\n",
    "Acc_d"
   ]
  },
  {
   "cell_type": "code",
   "execution_count": 73,
   "id": "9d49f81a",
   "metadata": {},
   "outputs": [
    {
     "name": "stdout",
     "output_type": "stream",
     "text": [
      "              precision    recall  f1-score   support\n",
      "\n",
      "           0       0.80      0.93      0.86      7481\n",
      "           1       0.94      0.82      0.88      9842\n",
      "\n",
      "    accuracy                           0.87     17323\n",
      "   macro avg       0.87      0.88      0.87     17323\n",
      "weighted avg       0.88      0.87      0.87     17323\n",
      "\n"
     ]
    }
   ],
   "source": [
    "print(classification_report(nb_a1,y_test3))"
   ]
  },
  {
   "cell_type": "markdown",
   "id": "075e4962",
   "metadata": {},
   "source": [
    "# Navie bayes working good"
   ]
  },
  {
   "cell_type": "code",
   "execution_count": null,
   "id": "328482ac",
   "metadata": {},
   "outputs": [],
   "source": [
    "#from Random Undersampling accuracy \n",
    "# 1.  Logistic Regression = 98%  accuracy\n",
    "# 2.  Decision tree = 99% \n",
    "# 3.  Naive Bayes = 86% accuracy \n",
    "# 4.  Random Forest = 99%accuracy"
   ]
  },
  {
   "cell_type": "markdown",
   "id": "a5982578",
   "metadata": {},
   "source": [
    "# Feature selection Technique"
   ]
  },
  {
   "cell_type": "markdown",
   "id": "4351fe3d",
   "metadata": {},
   "source": [
    "#   RFE(recursive feature elimination)"
   ]
  },
  {
   "cell_type": "code",
   "execution_count": 38,
   "id": "ea6849dd",
   "metadata": {},
   "outputs": [],
   "source": [
    "dt=DecisionTreeClassifier()"
   ]
  },
  {
   "cell_type": "code",
   "execution_count": 39,
   "id": "f5b2e2f3",
   "metadata": {},
   "outputs": [],
   "source": [
    "rfe=RFE(dt)"
   ]
  },
  {
   "cell_type": "code",
   "execution_count": 40,
   "id": "8d5d85d4",
   "metadata": {},
   "outputs": [
    {
     "data": {
      "text/plain": [
       "(86614, 43)"
      ]
     },
     "execution_count": 40,
     "metadata": {},
     "output_type": "execute_result"
    }
   ],
   "source": [
    "class2_f.shape"
   ]
  },
  {
   "cell_type": "code",
   "execution_count": 41,
   "id": "3658cb97",
   "metadata": {},
   "outputs": [
    {
     "data": {
      "text/html": [
       "<style>#sk-container-id-2 {color: black;background-color: white;}#sk-container-id-2 pre{padding: 0;}#sk-container-id-2 div.sk-toggleable {background-color: white;}#sk-container-id-2 label.sk-toggleable__label {cursor: pointer;display: block;width: 100%;margin-bottom: 0;padding: 0.3em;box-sizing: border-box;text-align: center;}#sk-container-id-2 label.sk-toggleable__label-arrow:before {content: \"▸\";float: left;margin-right: 0.25em;color: #696969;}#sk-container-id-2 label.sk-toggleable__label-arrow:hover:before {color: black;}#sk-container-id-2 div.sk-estimator:hover label.sk-toggleable__label-arrow:before {color: black;}#sk-container-id-2 div.sk-toggleable__content {max-height: 0;max-width: 0;overflow: hidden;text-align: left;background-color: #f0f8ff;}#sk-container-id-2 div.sk-toggleable__content pre {margin: 0.2em;color: black;border-radius: 0.25em;background-color: #f0f8ff;}#sk-container-id-2 input.sk-toggleable__control:checked~div.sk-toggleable__content {max-height: 200px;max-width: 100%;overflow: auto;}#sk-container-id-2 input.sk-toggleable__control:checked~label.sk-toggleable__label-arrow:before {content: \"▾\";}#sk-container-id-2 div.sk-estimator input.sk-toggleable__control:checked~label.sk-toggleable__label {background-color: #d4ebff;}#sk-container-id-2 div.sk-label input.sk-toggleable__control:checked~label.sk-toggleable__label {background-color: #d4ebff;}#sk-container-id-2 input.sk-hidden--visually {border: 0;clip: rect(1px 1px 1px 1px);clip: rect(1px, 1px, 1px, 1px);height: 1px;margin: -1px;overflow: hidden;padding: 0;position: absolute;width: 1px;}#sk-container-id-2 div.sk-estimator {font-family: monospace;background-color: #f0f8ff;border: 1px dotted black;border-radius: 0.25em;box-sizing: border-box;margin-bottom: 0.5em;}#sk-container-id-2 div.sk-estimator:hover {background-color: #d4ebff;}#sk-container-id-2 div.sk-parallel-item::after {content: \"\";width: 100%;border-bottom: 1px solid gray;flex-grow: 1;}#sk-container-id-2 div.sk-label:hover label.sk-toggleable__label {background-color: #d4ebff;}#sk-container-id-2 div.sk-serial::before {content: \"\";position: absolute;border-left: 1px solid gray;box-sizing: border-box;top: 0;bottom: 0;left: 50%;z-index: 0;}#sk-container-id-2 div.sk-serial {display: flex;flex-direction: column;align-items: center;background-color: white;padding-right: 0.2em;padding-left: 0.2em;position: relative;}#sk-container-id-2 div.sk-item {position: relative;z-index: 1;}#sk-container-id-2 div.sk-parallel {display: flex;align-items: stretch;justify-content: center;background-color: white;position: relative;}#sk-container-id-2 div.sk-item::before, #sk-container-id-2 div.sk-parallel-item::before {content: \"\";position: absolute;border-left: 1px solid gray;box-sizing: border-box;top: 0;bottom: 0;left: 50%;z-index: -1;}#sk-container-id-2 div.sk-parallel-item {display: flex;flex-direction: column;z-index: 1;position: relative;background-color: white;}#sk-container-id-2 div.sk-parallel-item:first-child::after {align-self: flex-end;width: 50%;}#sk-container-id-2 div.sk-parallel-item:last-child::after {align-self: flex-start;width: 50%;}#sk-container-id-2 div.sk-parallel-item:only-child::after {width: 0;}#sk-container-id-2 div.sk-dashed-wrapped {border: 1px dashed gray;margin: 0 0.4em 0.5em 0.4em;box-sizing: border-box;padding-bottom: 0.4em;background-color: white;}#sk-container-id-2 div.sk-label label {font-family: monospace;font-weight: bold;display: inline-block;line-height: 1.2em;}#sk-container-id-2 div.sk-label-container {text-align: center;}#sk-container-id-2 div.sk-container {/* jupyter's `normalize.less` sets `[hidden] { display: none; }` but bootstrap.min.css set `[hidden] { display: none !important; }` so we also need the `!important` here to be able to override the default hidden behavior on the sphinx rendered scikit-learn.org. See: https://github.com/scikit-learn/scikit-learn/issues/21755 */display: inline-block !important;position: relative;}#sk-container-id-2 div.sk-text-repr-fallback {display: none;}</style><div id=\"sk-container-id-2\" class=\"sk-top-container\"><div class=\"sk-text-repr-fallback\"><pre>RFE(estimator=DecisionTreeClassifier())</pre><b>In a Jupyter environment, please rerun this cell to show the HTML representation or trust the notebook. <br />On GitHub, the HTML representation is unable to render, please try loading this page with nbviewer.org.</b></div><div class=\"sk-container\" hidden><div class=\"sk-item sk-dashed-wrapped\"><div class=\"sk-label-container\"><div class=\"sk-label sk-toggleable\"><input class=\"sk-toggleable__control sk-hidden--visually\" id=\"sk-estimator-id-2\" type=\"checkbox\" ><label for=\"sk-estimator-id-2\" class=\"sk-toggleable__label sk-toggleable__label-arrow\">RFE</label><div class=\"sk-toggleable__content\"><pre>RFE(estimator=DecisionTreeClassifier())</pre></div></div></div><div class=\"sk-parallel\"><div class=\"sk-parallel-item\"><div class=\"sk-item\"><div class=\"sk-label-container\"><div class=\"sk-label sk-toggleable\"><input class=\"sk-toggleable__control sk-hidden--visually\" id=\"sk-estimator-id-3\" type=\"checkbox\" ><label for=\"sk-estimator-id-3\" class=\"sk-toggleable__label sk-toggleable__label-arrow\">estimator: DecisionTreeClassifier</label><div class=\"sk-toggleable__content\"><pre>DecisionTreeClassifier()</pre></div></div></div><div class=\"sk-serial\"><div class=\"sk-item\"><div class=\"sk-estimator sk-toggleable\"><input class=\"sk-toggleable__control sk-hidden--visually\" id=\"sk-estimator-id-4\" type=\"checkbox\" ><label for=\"sk-estimator-id-4\" class=\"sk-toggleable__label sk-toggleable__label-arrow\">DecisionTreeClassifier</label><div class=\"sk-toggleable__content\"><pre>DecisionTreeClassifier()</pre></div></div></div></div></div></div></div></div></div></div>"
      ],
      "text/plain": [
       "RFE(estimator=DecisionTreeClassifier())"
      ]
     },
     "execution_count": 41,
     "metadata": {},
     "output_type": "execute_result"
    }
   ],
   "source": [
    "rfe.fit(class2_f.iloc[:,2:-1],class2_f.iloc[:,-1])"
   ]
  },
  {
   "cell_type": "code",
   "execution_count": 42,
   "id": "99a280fa",
   "metadata": {},
   "outputs": [
    {
     "data": {
      "text/plain": [
       "array([ True,  True,  True, False, False,  True,  True, False, False,\n",
       "        True, False, False,  True,  True, False,  True, False, False,\n",
       "       False,  True, False, False, False,  True, False,  True,  True,\n",
       "        True,  True,  True, False,  True,  True, False, False, False,\n",
       "       False, False,  True,  True])"
      ]
     },
     "execution_count": 42,
     "metadata": {},
     "output_type": "execute_result"
    }
   ],
   "source": [
    "rfe.support_"
   ]
  },
  {
   "cell_type": "code",
   "execution_count": 43,
   "id": "23321523",
   "metadata": {},
   "outputs": [
    {
     "data": {
      "text/html": [
       "<div>\n",
       "<style scoped>\n",
       "    .dataframe tbody tr th:only-of-type {\n",
       "        vertical-align: middle;\n",
       "    }\n",
       "\n",
       "    .dataframe tbody tr th {\n",
       "        vertical-align: top;\n",
       "    }\n",
       "\n",
       "    .dataframe thead th {\n",
       "        text-align: right;\n",
       "    }\n",
       "</style>\n",
       "<table border=\"1\" class=\"dataframe\">\n",
       "  <thead>\n",
       "    <tr style=\"text-align: right;\">\n",
       "      <th></th>\n",
       "      <th>feature support</th>\n",
       "      <th>columns</th>\n",
       "    </tr>\n",
       "  </thead>\n",
       "  <tbody>\n",
       "    <tr>\n",
       "      <th>0</th>\n",
       "      <td>True</td>\n",
       "      <td>loan_amnt</td>\n",
       "    </tr>\n",
       "    <tr>\n",
       "      <th>1</th>\n",
       "      <td>True</td>\n",
       "      <td>funded_amnt</td>\n",
       "    </tr>\n",
       "    <tr>\n",
       "      <th>2</th>\n",
       "      <td>True</td>\n",
       "      <td>funded_amnt_inv</td>\n",
       "    </tr>\n",
       "    <tr>\n",
       "      <th>3</th>\n",
       "      <td>False</td>\n",
       "      <td>term</td>\n",
       "    </tr>\n",
       "    <tr>\n",
       "      <th>4</th>\n",
       "      <td>False</td>\n",
       "      <td>int_rate</td>\n",
       "    </tr>\n",
       "    <tr>\n",
       "      <th>5</th>\n",
       "      <td>True</td>\n",
       "      <td>installment</td>\n",
       "    </tr>\n",
       "    <tr>\n",
       "      <th>6</th>\n",
       "      <td>True</td>\n",
       "      <td>emp_title</td>\n",
       "    </tr>\n",
       "    <tr>\n",
       "      <th>7</th>\n",
       "      <td>False</td>\n",
       "      <td>emp_length</td>\n",
       "    </tr>\n",
       "    <tr>\n",
       "      <th>8</th>\n",
       "      <td>False</td>\n",
       "      <td>home_ownership</td>\n",
       "    </tr>\n",
       "    <tr>\n",
       "      <th>9</th>\n",
       "      <td>True</td>\n",
       "      <td>annual_inc</td>\n",
       "    </tr>\n",
       "    <tr>\n",
       "      <th>10</th>\n",
       "      <td>False</td>\n",
       "      <td>verification_status</td>\n",
       "    </tr>\n",
       "    <tr>\n",
       "      <th>11</th>\n",
       "      <td>False</td>\n",
       "      <td>pymnt_plan</td>\n",
       "    </tr>\n",
       "    <tr>\n",
       "      <th>12</th>\n",
       "      <td>True</td>\n",
       "      <td>title</td>\n",
       "    </tr>\n",
       "    <tr>\n",
       "      <th>13</th>\n",
       "      <td>True</td>\n",
       "      <td>dti</td>\n",
       "    </tr>\n",
       "    <tr>\n",
       "      <th>14</th>\n",
       "      <td>False</td>\n",
       "      <td>delinq_2yrs</td>\n",
       "    </tr>\n",
       "    <tr>\n",
       "      <th>15</th>\n",
       "      <td>True</td>\n",
       "      <td>earliest_cr_line</td>\n",
       "    </tr>\n",
       "    <tr>\n",
       "      <th>16</th>\n",
       "      <td>False</td>\n",
       "      <td>inq_last_6mths</td>\n",
       "    </tr>\n",
       "    <tr>\n",
       "      <th>17</th>\n",
       "      <td>False</td>\n",
       "      <td>open_acc</td>\n",
       "    </tr>\n",
       "    <tr>\n",
       "      <th>18</th>\n",
       "      <td>False</td>\n",
       "      <td>pub_rec</td>\n",
       "    </tr>\n",
       "    <tr>\n",
       "      <th>19</th>\n",
       "      <td>True</td>\n",
       "      <td>revol_bal</td>\n",
       "    </tr>\n",
       "    <tr>\n",
       "      <th>20</th>\n",
       "      <td>False</td>\n",
       "      <td>revol_util</td>\n",
       "    </tr>\n",
       "    <tr>\n",
       "      <th>21</th>\n",
       "      <td>False</td>\n",
       "      <td>total_acc</td>\n",
       "    </tr>\n",
       "    <tr>\n",
       "      <th>22</th>\n",
       "      <td>False</td>\n",
       "      <td>initial_list_status</td>\n",
       "    </tr>\n",
       "    <tr>\n",
       "      <th>23</th>\n",
       "      <td>True</td>\n",
       "      <td>out_prncp</td>\n",
       "    </tr>\n",
       "    <tr>\n",
       "      <th>24</th>\n",
       "      <td>False</td>\n",
       "      <td>out_prncp_inv</td>\n",
       "    </tr>\n",
       "    <tr>\n",
       "      <th>25</th>\n",
       "      <td>True</td>\n",
       "      <td>total_pymnt</td>\n",
       "    </tr>\n",
       "    <tr>\n",
       "      <th>26</th>\n",
       "      <td>True</td>\n",
       "      <td>total_pymnt_inv</td>\n",
       "    </tr>\n",
       "    <tr>\n",
       "      <th>27</th>\n",
       "      <td>True</td>\n",
       "      <td>total_rec_prncp</td>\n",
       "    </tr>\n",
       "    <tr>\n",
       "      <th>28</th>\n",
       "      <td>True</td>\n",
       "      <td>total_rec_int</td>\n",
       "    </tr>\n",
       "    <tr>\n",
       "      <th>29</th>\n",
       "      <td>True</td>\n",
       "      <td>recoveries</td>\n",
       "    </tr>\n",
       "    <tr>\n",
       "      <th>30</th>\n",
       "      <td>False</td>\n",
       "      <td>collection_recovery_fee</td>\n",
       "    </tr>\n",
       "    <tr>\n",
       "      <th>31</th>\n",
       "      <td>True</td>\n",
       "      <td>last_pymnt_d</td>\n",
       "    </tr>\n",
       "    <tr>\n",
       "      <th>32</th>\n",
       "      <td>True</td>\n",
       "      <td>last_pymnt_amnt</td>\n",
       "    </tr>\n",
       "    <tr>\n",
       "      <th>33</th>\n",
       "      <td>False</td>\n",
       "      <td>next_pymnt_d</td>\n",
       "    </tr>\n",
       "    <tr>\n",
       "      <th>34</th>\n",
       "      <td>False</td>\n",
       "      <td>last_credit_pull_d</td>\n",
       "    </tr>\n",
       "    <tr>\n",
       "      <th>35</th>\n",
       "      <td>False</td>\n",
       "      <td>application_type</td>\n",
       "    </tr>\n",
       "    <tr>\n",
       "      <th>36</th>\n",
       "      <td>False</td>\n",
       "      <td>acc_now_delinq</td>\n",
       "    </tr>\n",
       "    <tr>\n",
       "      <th>37</th>\n",
       "      <td>False</td>\n",
       "      <td>tot_coll_amt</td>\n",
       "    </tr>\n",
       "    <tr>\n",
       "      <th>38</th>\n",
       "      <td>True</td>\n",
       "      <td>tot_cur_bal</td>\n",
       "    </tr>\n",
       "    <tr>\n",
       "      <th>39</th>\n",
       "      <td>True</td>\n",
       "      <td>total_rev_hi_lim</td>\n",
       "    </tr>\n",
       "  </tbody>\n",
       "</table>\n",
       "</div>"
      ],
      "text/plain": [
       "    feature support                  columns\n",
       "0              True                loan_amnt\n",
       "1              True              funded_amnt\n",
       "2              True          funded_amnt_inv\n",
       "3             False                     term\n",
       "4             False                 int_rate\n",
       "5              True              installment\n",
       "6              True                emp_title\n",
       "7             False               emp_length\n",
       "8             False           home_ownership\n",
       "9              True               annual_inc\n",
       "10            False      verification_status\n",
       "11            False               pymnt_plan\n",
       "12             True                    title\n",
       "13             True                      dti\n",
       "14            False              delinq_2yrs\n",
       "15             True         earliest_cr_line\n",
       "16            False           inq_last_6mths\n",
       "17            False                 open_acc\n",
       "18            False                  pub_rec\n",
       "19             True                revol_bal\n",
       "20            False               revol_util\n",
       "21            False                total_acc\n",
       "22            False      initial_list_status\n",
       "23             True                out_prncp\n",
       "24            False            out_prncp_inv\n",
       "25             True              total_pymnt\n",
       "26             True          total_pymnt_inv\n",
       "27             True          total_rec_prncp\n",
       "28             True            total_rec_int\n",
       "29             True               recoveries\n",
       "30            False  collection_recovery_fee\n",
       "31             True             last_pymnt_d\n",
       "32             True          last_pymnt_amnt\n",
       "33            False             next_pymnt_d\n",
       "34            False       last_credit_pull_d\n",
       "35            False         application_type\n",
       "36            False           acc_now_delinq\n",
       "37            False             tot_coll_amt\n",
       "38             True              tot_cur_bal\n",
       "39             True         total_rev_hi_lim"
      ]
     },
     "execution_count": 43,
     "metadata": {},
     "output_type": "execute_result"
    }
   ],
   "source": [
    "d_new1=pd.DataFrame({\"feature support\":list(rfe.support_),\"columns\":list(class2_f.iloc[:,2:-1].columns)})\n",
    "d_new1"
   ]
  },
  {
   "cell_type": "code",
   "execution_count": 44,
   "id": "ef27cc02",
   "metadata": {},
   "outputs": [
    {
     "data": {
      "text/html": [
       "<div>\n",
       "<style scoped>\n",
       "    .dataframe tbody tr th:only-of-type {\n",
       "        vertical-align: middle;\n",
       "    }\n",
       "\n",
       "    .dataframe tbody tr th {\n",
       "        vertical-align: top;\n",
       "    }\n",
       "\n",
       "    .dataframe thead th {\n",
       "        text-align: right;\n",
       "    }\n",
       "</style>\n",
       "<table border=\"1\" class=\"dataframe\">\n",
       "  <thead>\n",
       "    <tr style=\"text-align: right;\">\n",
       "      <th></th>\n",
       "      <th>feature support</th>\n",
       "      <th>columns</th>\n",
       "    </tr>\n",
       "  </thead>\n",
       "  <tbody>\n",
       "    <tr>\n",
       "      <th>39</th>\n",
       "      <td>True</td>\n",
       "      <td>total_rev_hi_lim</td>\n",
       "    </tr>\n",
       "    <tr>\n",
       "      <th>38</th>\n",
       "      <td>True</td>\n",
       "      <td>tot_cur_bal</td>\n",
       "    </tr>\n",
       "    <tr>\n",
       "      <th>37</th>\n",
       "      <td>False</td>\n",
       "      <td>tot_coll_amt</td>\n",
       "    </tr>\n",
       "    <tr>\n",
       "      <th>36</th>\n",
       "      <td>False</td>\n",
       "      <td>acc_now_delinq</td>\n",
       "    </tr>\n",
       "    <tr>\n",
       "      <th>35</th>\n",
       "      <td>False</td>\n",
       "      <td>application_type</td>\n",
       "    </tr>\n",
       "    <tr>\n",
       "      <th>34</th>\n",
       "      <td>False</td>\n",
       "      <td>last_credit_pull_d</td>\n",
       "    </tr>\n",
       "    <tr>\n",
       "      <th>33</th>\n",
       "      <td>False</td>\n",
       "      <td>next_pymnt_d</td>\n",
       "    </tr>\n",
       "    <tr>\n",
       "      <th>32</th>\n",
       "      <td>True</td>\n",
       "      <td>last_pymnt_amnt</td>\n",
       "    </tr>\n",
       "    <tr>\n",
       "      <th>31</th>\n",
       "      <td>True</td>\n",
       "      <td>last_pymnt_d</td>\n",
       "    </tr>\n",
       "    <tr>\n",
       "      <th>30</th>\n",
       "      <td>False</td>\n",
       "      <td>collection_recovery_fee</td>\n",
       "    </tr>\n",
       "    <tr>\n",
       "      <th>29</th>\n",
       "      <td>True</td>\n",
       "      <td>recoveries</td>\n",
       "    </tr>\n",
       "    <tr>\n",
       "      <th>28</th>\n",
       "      <td>True</td>\n",
       "      <td>total_rec_int</td>\n",
       "    </tr>\n",
       "    <tr>\n",
       "      <th>27</th>\n",
       "      <td>True</td>\n",
       "      <td>total_rec_prncp</td>\n",
       "    </tr>\n",
       "    <tr>\n",
       "      <th>26</th>\n",
       "      <td>True</td>\n",
       "      <td>total_pymnt_inv</td>\n",
       "    </tr>\n",
       "    <tr>\n",
       "      <th>25</th>\n",
       "      <td>True</td>\n",
       "      <td>total_pymnt</td>\n",
       "    </tr>\n",
       "    <tr>\n",
       "      <th>24</th>\n",
       "      <td>False</td>\n",
       "      <td>out_prncp_inv</td>\n",
       "    </tr>\n",
       "    <tr>\n",
       "      <th>23</th>\n",
       "      <td>True</td>\n",
       "      <td>out_prncp</td>\n",
       "    </tr>\n",
       "    <tr>\n",
       "      <th>22</th>\n",
       "      <td>False</td>\n",
       "      <td>initial_list_status</td>\n",
       "    </tr>\n",
       "    <tr>\n",
       "      <th>21</th>\n",
       "      <td>False</td>\n",
       "      <td>total_acc</td>\n",
       "    </tr>\n",
       "    <tr>\n",
       "      <th>20</th>\n",
       "      <td>False</td>\n",
       "      <td>revol_util</td>\n",
       "    </tr>\n",
       "    <tr>\n",
       "      <th>19</th>\n",
       "      <td>True</td>\n",
       "      <td>revol_bal</td>\n",
       "    </tr>\n",
       "    <tr>\n",
       "      <th>18</th>\n",
       "      <td>False</td>\n",
       "      <td>pub_rec</td>\n",
       "    </tr>\n",
       "    <tr>\n",
       "      <th>17</th>\n",
       "      <td>False</td>\n",
       "      <td>open_acc</td>\n",
       "    </tr>\n",
       "    <tr>\n",
       "      <th>16</th>\n",
       "      <td>False</td>\n",
       "      <td>inq_last_6mths</td>\n",
       "    </tr>\n",
       "    <tr>\n",
       "      <th>15</th>\n",
       "      <td>True</td>\n",
       "      <td>earliest_cr_line</td>\n",
       "    </tr>\n",
       "    <tr>\n",
       "      <th>14</th>\n",
       "      <td>False</td>\n",
       "      <td>delinq_2yrs</td>\n",
       "    </tr>\n",
       "    <tr>\n",
       "      <th>13</th>\n",
       "      <td>True</td>\n",
       "      <td>dti</td>\n",
       "    </tr>\n",
       "    <tr>\n",
       "      <th>12</th>\n",
       "      <td>True</td>\n",
       "      <td>title</td>\n",
       "    </tr>\n",
       "    <tr>\n",
       "      <th>11</th>\n",
       "      <td>False</td>\n",
       "      <td>pymnt_plan</td>\n",
       "    </tr>\n",
       "    <tr>\n",
       "      <th>10</th>\n",
       "      <td>False</td>\n",
       "      <td>verification_status</td>\n",
       "    </tr>\n",
       "    <tr>\n",
       "      <th>9</th>\n",
       "      <td>True</td>\n",
       "      <td>annual_inc</td>\n",
       "    </tr>\n",
       "    <tr>\n",
       "      <th>8</th>\n",
       "      <td>False</td>\n",
       "      <td>home_ownership</td>\n",
       "    </tr>\n",
       "    <tr>\n",
       "      <th>7</th>\n",
       "      <td>False</td>\n",
       "      <td>emp_length</td>\n",
       "    </tr>\n",
       "    <tr>\n",
       "      <th>6</th>\n",
       "      <td>True</td>\n",
       "      <td>emp_title</td>\n",
       "    </tr>\n",
       "    <tr>\n",
       "      <th>5</th>\n",
       "      <td>True</td>\n",
       "      <td>installment</td>\n",
       "    </tr>\n",
       "    <tr>\n",
       "      <th>4</th>\n",
       "      <td>False</td>\n",
       "      <td>int_rate</td>\n",
       "    </tr>\n",
       "    <tr>\n",
       "      <th>3</th>\n",
       "      <td>False</td>\n",
       "      <td>term</td>\n",
       "    </tr>\n",
       "    <tr>\n",
       "      <th>2</th>\n",
       "      <td>True</td>\n",
       "      <td>funded_amnt_inv</td>\n",
       "    </tr>\n",
       "    <tr>\n",
       "      <th>1</th>\n",
       "      <td>True</td>\n",
       "      <td>funded_amnt</td>\n",
       "    </tr>\n",
       "    <tr>\n",
       "      <th>0</th>\n",
       "      <td>True</td>\n",
       "      <td>loan_amnt</td>\n",
       "    </tr>\n",
       "  </tbody>\n",
       "</table>\n",
       "</div>"
      ],
      "text/plain": [
       "    feature support                  columns\n",
       "39             True         total_rev_hi_lim\n",
       "38             True              tot_cur_bal\n",
       "37            False             tot_coll_amt\n",
       "36            False           acc_now_delinq\n",
       "35            False         application_type\n",
       "34            False       last_credit_pull_d\n",
       "33            False             next_pymnt_d\n",
       "32             True          last_pymnt_amnt\n",
       "31             True             last_pymnt_d\n",
       "30            False  collection_recovery_fee\n",
       "29             True               recoveries\n",
       "28             True            total_rec_int\n",
       "27             True          total_rec_prncp\n",
       "26             True          total_pymnt_inv\n",
       "25             True              total_pymnt\n",
       "24            False            out_prncp_inv\n",
       "23             True                out_prncp\n",
       "22            False      initial_list_status\n",
       "21            False                total_acc\n",
       "20            False               revol_util\n",
       "19             True                revol_bal\n",
       "18            False                  pub_rec\n",
       "17            False                 open_acc\n",
       "16            False           inq_last_6mths\n",
       "15             True         earliest_cr_line\n",
       "14            False              delinq_2yrs\n",
       "13             True                      dti\n",
       "12             True                    title\n",
       "11            False               pymnt_plan\n",
       "10            False      verification_status\n",
       "9              True               annual_inc\n",
       "8             False           home_ownership\n",
       "7             False               emp_length\n",
       "6              True                emp_title\n",
       "5              True              installment\n",
       "4             False                 int_rate\n",
       "3             False                     term\n",
       "2              True          funded_amnt_inv\n",
       "1              True              funded_amnt\n",
       "0              True                loan_amnt"
      ]
     },
     "execution_count": 44,
     "metadata": {},
     "output_type": "execute_result"
    }
   ],
   "source": [
    "d_new2=d_new1.sort_index(ascending=False)\n",
    "d_new2"
   ]
  },
  {
   "cell_type": "code",
   "execution_count": 45,
   "id": "bbd221b4",
   "metadata": {},
   "outputs": [],
   "source": [
    "#drop the unrelevent columns"
   ]
  },
  {
   "cell_type": "code",
   "execution_count": 46,
   "id": "a6f2686c",
   "metadata": {},
   "outputs": [],
   "source": [
    "data_rfe=class2_f.drop([\"term\",\"emp_length\",\"home_ownership\",\"verification_status\",\"pymnt_plan\",\"delinq_2yrs\",\"inq_last_6mths\",\"open_acc\",\"pub_rec\",\"revol_util\",\"total_acc\",\"initial_list_status\",\"out_prncp_inv\",\"collection_recovery_fee\",\"next_pymnt_d\",\"last_credit_pull_d\",\"application_type\",\"acc_now_delinq\",\"tot_coll_amt\",\"tot_cur_bal\"],axis=1)\n",
    "#data_rfe"
   ]
  },
  {
   "cell_type": "code",
   "execution_count": 47,
   "id": "c3bb0053",
   "metadata": {},
   "outputs": [
    {
     "data": {
      "text/plain": [
       "(86614, 23)"
      ]
     },
     "execution_count": 47,
     "metadata": {},
     "output_type": "execute_result"
    }
   ],
   "source": [
    "data_rfe.shape"
   ]
  },
  {
   "cell_type": "code",
   "execution_count": 48,
   "id": "a1a983b2",
   "metadata": {},
   "outputs": [],
   "source": [
    "#data_rfe"
   ]
  },
  {
   "cell_type": "code",
   "execution_count": 49,
   "id": "6fa09625",
   "metadata": {},
   "outputs": [],
   "source": [
    "#splitting the data"
   ]
  },
  {
   "cell_type": "code",
   "execution_count": 50,
   "id": "4faab4ec",
   "metadata": {},
   "outputs": [],
   "source": [
    "x_rfe=data_rfe.iloc[:,2:-1]\n",
    "y_rfe=data_rfe.iloc[:,-1]"
   ]
  },
  {
   "cell_type": "code",
   "execution_count": 51,
   "id": "ca6b0d8b",
   "metadata": {},
   "outputs": [],
   "source": [
    "#samplling"
   ]
  },
  {
   "cell_type": "code",
   "execution_count": 52,
   "id": "db0c1b15",
   "metadata": {},
   "outputs": [],
   "source": [
    "xrfe_train,xrfe_test,yrfe_train,yrfe_test=train_test_split(x_rfe,y_rfe,test_size=0.3,random_state=100)"
   ]
  },
  {
   "cell_type": "code",
   "execution_count": 53,
   "id": "7faf1573",
   "metadata": {},
   "outputs": [
    {
     "data": {
      "text/plain": [
       "((60629, 20), (25985, 20), (60629,), (25985,))"
      ]
     },
     "execution_count": 53,
     "metadata": {},
     "output_type": "execute_result"
    }
   ],
   "source": [
    "xrfe_train.shape,xrfe_test.shape,yrfe_train.shape,yrfe_test.shape"
   ]
  },
  {
   "cell_type": "code",
   "execution_count": null,
   "id": "5159cd52",
   "metadata": {},
   "outputs": [],
   "source": [
    "# ML ALGORITHMS "
   ]
  },
  {
   "cell_type": "markdown",
   "id": "a42c430f",
   "metadata": {},
   "source": [
    "# logistic regression with RFE"
   ]
  },
  {
   "cell_type": "code",
   "execution_count": null,
   "id": "08fcb12f",
   "metadata": {},
   "outputs": [],
   "source": [
    "#lg.fit(xrfe_train,yrfe_train)"
   ]
  },
  {
   "cell_type": "code",
   "execution_count": null,
   "id": "3fcbf306",
   "metadata": {},
   "outputs": [],
   "source": [
    "#lg_rfe=lg.predict(xrfe_test)\n",
    "#lg_rfe"
   ]
  },
  {
   "cell_type": "code",
   "execution_count": null,
   "id": "2e37b427",
   "metadata": {},
   "outputs": [],
   "source": [
    "#c_rfe=confusion_matrix(lg_rfe,yrfe_test)\n",
    "#c_rfe"
   ]
  },
  {
   "cell_type": "code",
   "execution_count": null,
   "id": "27ae37a4",
   "metadata": {},
   "outputs": [],
   "source": [
    "#Ac_rfe=c_rfe.diagonal().sum()/c_rfe.sum()*100  #99 % accuracy\n",
    "#Ac_rfe"
   ]
  },
  {
   "cell_type": "code",
   "execution_count": null,
   "id": "4fbcba6c",
   "metadata": {},
   "outputs": [],
   "source": [
    "#print(classification_report(lg_rfe,yrfe_test)) "
   ]
  },
  {
   "cell_type": "markdown",
   "id": "92ac7bfb",
   "metadata": {},
   "source": [
    "# Decision tree with RFE"
   ]
  },
  {
   "cell_type": "code",
   "execution_count": null,
   "id": "12180b16",
   "metadata": {},
   "outputs": [],
   "source": [
    "#dt.fit(xrfe_train,yrfe_train)"
   ]
  },
  {
   "cell_type": "code",
   "execution_count": null,
   "id": "59151717",
   "metadata": {},
   "outputs": [],
   "source": [
    "#dt_rfe1=dt.predict(xrfe_test)\n",
    "#dt_rfe1"
   ]
  },
  {
   "cell_type": "code",
   "execution_count": null,
   "id": "911cd7fb",
   "metadata": {},
   "outputs": [],
   "source": [
    "#c_rfe1=confusion_matrix(dt_rfe1,yrfe_test)\n",
    "#c_rfe1"
   ]
  },
  {
   "cell_type": "code",
   "execution_count": null,
   "id": "1a7760b4",
   "metadata": {},
   "outputs": [],
   "source": [
    "#Acc_rfe1=c_rfe1.diagonal().sum()/c_rfe1.sum()*100\n",
    "#Acc_rfe1"
   ]
  },
  {
   "cell_type": "code",
   "execution_count": null,
   "id": "5e170212",
   "metadata": {},
   "outputs": [],
   "source": [
    "#print(classification_report(dt_rfe1,yrfe_test))"
   ]
  },
  {
   "cell_type": "markdown",
   "id": "e468df1e",
   "metadata": {},
   "source": [
    "# Random Forest with RFE"
   ]
  },
  {
   "cell_type": "code",
   "execution_count": null,
   "id": "91364798",
   "metadata": {},
   "outputs": [],
   "source": [
    "#rf.fit(xrfe_train,yrfe_train)"
   ]
  },
  {
   "cell_type": "code",
   "execution_count": null,
   "id": "4c09520b",
   "metadata": {},
   "outputs": [],
   "source": [
    "#rf_rfe2=rf.predict(xrfe_test)\n",
    "#rf_rfe2"
   ]
  },
  {
   "cell_type": "code",
   "execution_count": null,
   "id": "01f0ab27",
   "metadata": {},
   "outputs": [],
   "source": [
    "#c_rfe2=confusion_matrix(rf_rfe2,yrfe_test)\n",
    "#c_rfe2"
   ]
  },
  {
   "cell_type": "code",
   "execution_count": null,
   "id": "328de445",
   "metadata": {},
   "outputs": [],
   "source": [
    "#Acc_rfe2=c_rfe2.diagonal().sum()/c_rfe2.sum()*100\n",
    "#Acc_rfe2"
   ]
  },
  {
   "cell_type": "code",
   "execution_count": null,
   "id": "ab1d37e2",
   "metadata": {},
   "outputs": [],
   "source": [
    "#print(classification_report(rf_rfe2,yrfe_test))"
   ]
  },
  {
   "cell_type": "markdown",
   "id": "2baf5294",
   "metadata": {},
   "source": [
    "# Naive bayes with RFE"
   ]
  },
  {
   "cell_type": "code",
   "execution_count": 141,
   "id": "b8271f08",
   "metadata": {},
   "outputs": [],
   "source": [
    "from sklearn.model_selection import train_test_split"
   ]
  },
  {
   "cell_type": "code",
   "execution_count": 142,
   "id": "a0fc62c5",
   "metadata": {},
   "outputs": [
    {
     "data": {
      "text/html": [
       "<style>#sk-container-id-12 {color: black;background-color: white;}#sk-container-id-12 pre{padding: 0;}#sk-container-id-12 div.sk-toggleable {background-color: white;}#sk-container-id-12 label.sk-toggleable__label {cursor: pointer;display: block;width: 100%;margin-bottom: 0;padding: 0.3em;box-sizing: border-box;text-align: center;}#sk-container-id-12 label.sk-toggleable__label-arrow:before {content: \"▸\";float: left;margin-right: 0.25em;color: #696969;}#sk-container-id-12 label.sk-toggleable__label-arrow:hover:before {color: black;}#sk-container-id-12 div.sk-estimator:hover label.sk-toggleable__label-arrow:before {color: black;}#sk-container-id-12 div.sk-toggleable__content {max-height: 0;max-width: 0;overflow: hidden;text-align: left;background-color: #f0f8ff;}#sk-container-id-12 div.sk-toggleable__content pre {margin: 0.2em;color: black;border-radius: 0.25em;background-color: #f0f8ff;}#sk-container-id-12 input.sk-toggleable__control:checked~div.sk-toggleable__content {max-height: 200px;max-width: 100%;overflow: auto;}#sk-container-id-12 input.sk-toggleable__control:checked~label.sk-toggleable__label-arrow:before {content: \"▾\";}#sk-container-id-12 div.sk-estimator input.sk-toggleable__control:checked~label.sk-toggleable__label {background-color: #d4ebff;}#sk-container-id-12 div.sk-label input.sk-toggleable__control:checked~label.sk-toggleable__label {background-color: #d4ebff;}#sk-container-id-12 input.sk-hidden--visually {border: 0;clip: rect(1px 1px 1px 1px);clip: rect(1px, 1px, 1px, 1px);height: 1px;margin: -1px;overflow: hidden;padding: 0;position: absolute;width: 1px;}#sk-container-id-12 div.sk-estimator {font-family: monospace;background-color: #f0f8ff;border: 1px dotted black;border-radius: 0.25em;box-sizing: border-box;margin-bottom: 0.5em;}#sk-container-id-12 div.sk-estimator:hover {background-color: #d4ebff;}#sk-container-id-12 div.sk-parallel-item::after {content: \"\";width: 100%;border-bottom: 1px solid gray;flex-grow: 1;}#sk-container-id-12 div.sk-label:hover label.sk-toggleable__label {background-color: #d4ebff;}#sk-container-id-12 div.sk-serial::before {content: \"\";position: absolute;border-left: 1px solid gray;box-sizing: border-box;top: 0;bottom: 0;left: 50%;z-index: 0;}#sk-container-id-12 div.sk-serial {display: flex;flex-direction: column;align-items: center;background-color: white;padding-right: 0.2em;padding-left: 0.2em;position: relative;}#sk-container-id-12 div.sk-item {position: relative;z-index: 1;}#sk-container-id-12 div.sk-parallel {display: flex;align-items: stretch;justify-content: center;background-color: white;position: relative;}#sk-container-id-12 div.sk-item::before, #sk-container-id-12 div.sk-parallel-item::before {content: \"\";position: absolute;border-left: 1px solid gray;box-sizing: border-box;top: 0;bottom: 0;left: 50%;z-index: -1;}#sk-container-id-12 div.sk-parallel-item {display: flex;flex-direction: column;z-index: 1;position: relative;background-color: white;}#sk-container-id-12 div.sk-parallel-item:first-child::after {align-self: flex-end;width: 50%;}#sk-container-id-12 div.sk-parallel-item:last-child::after {align-self: flex-start;width: 50%;}#sk-container-id-12 div.sk-parallel-item:only-child::after {width: 0;}#sk-container-id-12 div.sk-dashed-wrapped {border: 1px dashed gray;margin: 0 0.4em 0.5em 0.4em;box-sizing: border-box;padding-bottom: 0.4em;background-color: white;}#sk-container-id-12 div.sk-label label {font-family: monospace;font-weight: bold;display: inline-block;line-height: 1.2em;}#sk-container-id-12 div.sk-label-container {text-align: center;}#sk-container-id-12 div.sk-container {/* jupyter's `normalize.less` sets `[hidden] { display: none; }` but bootstrap.min.css set `[hidden] { display: none !important; }` so we also need the `!important` here to be able to override the default hidden behavior on the sphinx rendered scikit-learn.org. See: https://github.com/scikit-learn/scikit-learn/issues/21755 */display: inline-block !important;position: relative;}#sk-container-id-12 div.sk-text-repr-fallback {display: none;}</style><div id=\"sk-container-id-12\" class=\"sk-top-container\"><div class=\"sk-text-repr-fallback\"><pre>MultinomialNB()</pre><b>In a Jupyter environment, please rerun this cell to show the HTML representation or trust the notebook. <br />On GitHub, the HTML representation is unable to render, please try loading this page with nbviewer.org.</b></div><div class=\"sk-container\" hidden><div class=\"sk-item\"><div class=\"sk-estimator sk-toggleable\"><input class=\"sk-toggleable__control sk-hidden--visually\" id=\"sk-estimator-id-14\" type=\"checkbox\" checked><label for=\"sk-estimator-id-14\" class=\"sk-toggleable__label sk-toggleable__label-arrow\">MultinomialNB</label><div class=\"sk-toggleable__content\"><pre>MultinomialNB()</pre></div></div></div></div></div>"
      ],
      "text/plain": [
       "MultinomialNB()"
      ]
     },
     "execution_count": 142,
     "metadata": {},
     "output_type": "execute_result"
    }
   ],
   "source": [
    "nb.fit(xrfe_train,yrfe_train)"
   ]
  },
  {
   "cell_type": "code",
   "execution_count": 143,
   "id": "f38e3dae",
   "metadata": {},
   "outputs": [],
   "source": [
    "ni=nb.predict(xrfe_test)"
   ]
  },
  {
   "cell_type": "code",
   "execution_count": 144,
   "id": "074f7f12",
   "metadata": {},
   "outputs": [
    {
     "data": {
      "text/plain": [
       "array([[10318,  1189],\n",
       "       [ 2712, 11766]], dtype=int64)"
      ]
     },
     "execution_count": 144,
     "metadata": {},
     "output_type": "execute_result"
    }
   ],
   "source": [
    "n_rfe4=confusion_matrix(ni,yrfe_test)\n",
    "n_rfe4"
   ]
  },
  {
   "cell_type": "code",
   "execution_count": 145,
   "id": "63b5b72c",
   "metadata": {},
   "outputs": [
    {
     "data": {
      "text/plain": [
       "84.98749278429864"
      ]
     },
     "execution_count": 145,
     "metadata": {},
     "output_type": "execute_result"
    }
   ],
   "source": [
    "acc_rfe4=n_rfe4.diagonal().sum()/n_rfe4.sum()*100\n",
    "acc_rfe4"
   ]
  },
  {
   "cell_type": "code",
   "execution_count": 146,
   "id": "a7d17f32",
   "metadata": {
    "scrolled": true
   },
   "outputs": [
    {
     "name": "stdout",
     "output_type": "stream",
     "text": [
      "              precision    recall  f1-score   support\n",
      "\n",
      "           0       0.79      0.90      0.84     11507\n",
      "           1       0.91      0.81      0.86     14478\n",
      "\n",
      "    accuracy                           0.85     25985\n",
      "   macro avg       0.85      0.85      0.85     25985\n",
      "weighted avg       0.86      0.85      0.85     25985\n",
      "\n"
     ]
    }
   ],
   "source": [
    "print(classification_report(ni,yrfe_test))"
   ]
  },
  {
   "cell_type": "markdown",
   "id": "5d2c8c9e",
   "metadata": {},
   "source": [
    "# EDA"
   ]
  },
  {
   "cell_type": "code",
   "execution_count": 166,
   "id": "ccc11bac",
   "metadata": {},
   "outputs": [
    {
     "data": {
      "text/plain": [
       "(86614, 23)"
      ]
     },
     "execution_count": 166,
     "metadata": {},
     "output_type": "execute_result"
    }
   ],
   "source": [
    "data_rfe.shape"
   ]
  },
  {
   "cell_type": "markdown",
   "id": "9f7b6c43",
   "metadata": {},
   "source": [
    "# outlier treatment\n"
   ]
  },
  {
   "cell_type": "code",
   "execution_count": null,
   "id": "1b3927d5",
   "metadata": {},
   "outputs": [],
   "source": [
    "#relevent columns from feature selction technique\n",
    "#loan_amnt,funded_amnt,funded_amnt_inv,int_rate,installment,emp_title,annual_inc,title,dti,earliest_cr_line,revol_bal,out_prncp,total_pymnt,total_pymnt_inv,total_rec_prncp,total_rec_int,recoveries,last_pymnt_d,last_pymnt_amnt,total_rev_hi_lim"
   ]
  },
  {
   "cell_type": "code",
   "execution_count": null,
   "id": "7636233b",
   "metadata": {},
   "outputs": [],
   "source": [
    "#Numerical columns =loan_amnt,funded_amnt,funded_amnt_inv,int_rate,installment,annual_inc,dti,revol_bal,out_prncp,total_pymnt,total_pymnt_inv,total_rec_prncp,total_rec_int,recoveries,last_pymnt_amnt,total_rev_hi_lim"
   ]
  },
  {
   "cell_type": "code",
   "execution_count": null,
   "id": "b4fdd49b",
   "metadata": {},
   "outputs": [],
   "source": [
    "plt.figure(figsize=(15,10))\n",
    "heatmap=sns.heatmap(data_rfe,linewidth=1,annot=True,cmap=plt.cm.Blues)\n",
    "plt.title(\"Heatmap using Seaborn Method\")\n",
    "plt.show()"
   ]
  },
  {
   "cell_type": "code",
   "execution_count": null,
   "id": "563283f8",
   "metadata": {},
   "outputs": [],
   "source": [
    "#data_rfe.boxplot(figsize=(30,10))"
   ]
  },
  {
   "cell_type": "code",
   "execution_count": null,
   "id": "629af4c6",
   "metadata": {},
   "outputs": [],
   "source": [
    "#for total_rev_hi_lim column"
   ]
  },
  {
   "cell_type": "code",
   "execution_count": 167,
   "id": "278657d2",
   "metadata": {},
   "outputs": [
    {
     "data": {
      "text/plain": [
       "count    86614.000000\n",
       "mean      4241.556642\n",
       "std       2987.044556\n",
       "min          0.000000\n",
       "25%       1699.000000\n",
       "50%       4325.000000\n",
       "75%       5360.000000\n",
       "max      14463.000000\n",
       "Name: total_rev_hi_lim, dtype: float64"
      ]
     },
     "execution_count": 167,
     "metadata": {},
     "output_type": "execute_result"
    }
   ],
   "source": [
    "data_rfe.total_rev_hi_lim.describe()"
   ]
  },
  {
   "cell_type": "code",
   "execution_count": 168,
   "id": "346d1a03",
   "metadata": {},
   "outputs": [
    {
     "data": {
      "image/png": "[encoded data removed]",
      "text/plain": [
       "<Figure size 432x288 with 1 Axes>"
      ]
     },
     "metadata": {
      "needs_background": "light"
     },
     "output_type": "display_data"
    }
   ],
   "source": [
    "box1=data_rfe.boxplot(column=\"total_rev_hi_lim\",showmeans=True)"
   ]
  },
  {
   "cell_type": "code",
   "execution_count": 169,
   "id": "174ed07e",
   "metadata": {},
   "outputs": [
    {
     "data": {
      "text/plain": [
       "<AxesSubplot:xlabel='total_rev_hi_lim', ylabel='Density'>"
      ]
     },
     "execution_count": 169,
     "metadata": {},
     "output_type": "execute_result"
    },
    {
     "data": {
      "image/png": "[encoded data removed]",
      "text/plain": [
       "<Figure size 432x288 with 1 Axes>"
      ]
     },
     "metadata": {
      "needs_background": "light"
     },
     "output_type": "display_data"
    }
   ],
   "source": [
    "sns.distplot(data_rfe[\"total_rev_hi_lim\"])"
   ]
  },
  {
   "cell_type": "code",
   "execution_count": 170,
   "id": "518f29f9",
   "metadata": {},
   "outputs": [
    {
     "data": {
      "text/plain": [
       "3661.0"
      ]
     },
     "execution_count": 170,
     "metadata": {},
     "output_type": "execute_result"
    }
   ],
   "source": [
    "iqr1=data_rfe.total_rev_hi_lim.quantile(0.75)-data_rfe.total_rev_hi_lim.quantile(0.25)\n",
    "iqr1"
   ]
  },
  {
   "cell_type": "code",
   "execution_count": 171,
   "id": "4e197048",
   "metadata": {},
   "outputs": [
    {
     "name": "stdout",
     "output_type": "stream",
     "text": [
      "16343.0 -9284.0\n"
     ]
    }
   ],
   "source": [
    "u1=data_rfe[\"total_rev_hi_lim\"].quantile(0.75)+3*iqr1\n",
    "l1=data_rfe[\"total_rev_hi_lim\"].quantile(0.25)-3*iqr1\n",
    "print(u1,l1)"
   ]
  },
  {
   "cell_type": "code",
   "execution_count": 172,
   "id": "3c8c8d34",
   "metadata": {},
   "outputs": [],
   "source": [
    "data_rfe.loc[data_rfe[\"total_rev_hi_lim\"]>16343.0,\"total_rev_hi_lim\"]=16343.0"
   ]
  },
  {
   "cell_type": "code",
   "execution_count": 173,
   "id": "6937ad2b",
   "metadata": {},
   "outputs": [
    {
     "data": {
      "text/plain": [
       "<AxesSubplot:>"
      ]
     },
     "execution_count": 173,
     "metadata": {},
     "output_type": "execute_result"
    },
    {
     "data": {
      "image/png": "[encoded data removed]",
      "text/plain": [
       "<Figure size 432x288 with 1 Axes>"
      ]
     },
     "metadata": {
      "needs_background": "light"
     },
     "output_type": "display_data"
    }
   ],
   "source": [
    "data_rfe.boxplot(column=\"total_rev_hi_lim\")"
   ]
  },
  {
   "cell_type": "code",
   "execution_count": 174,
   "id": "cdbe265d",
   "metadata": {},
   "outputs": [
    {
     "data": {
      "text/plain": [
       "<AxesSubplot:xlabel='total_rev_hi_lim', ylabel='Density'>"
      ]
     },
     "execution_count": 174,
     "metadata": {},
     "output_type": "execute_result"
    },
    {
     "data": {
      "image/png": "[encoded data removed]",
      "text/plain": [
       "<Figure size 432x288 with 1 Axes>"
      ]
     },
     "metadata": {
      "needs_background": "light"
     },
     "output_type": "display_data"
    }
   ],
   "source": [
    "sns.distplot(data_rfe[\"total_rev_hi_lim\"])"
   ]
  },
  {
   "cell_type": "code",
   "execution_count": null,
   "id": "a57b025e",
   "metadata": {},
   "outputs": [],
   "source": [
    "# for funded_amnt column        #no outliers"
   ]
  },
  {
   "cell_type": "code",
   "execution_count": 175,
   "id": "28a811a8",
   "metadata": {},
   "outputs": [
    {
     "data": {
      "text/plain": [
       "count    86614.000000\n",
       "mean     14394.646651\n",
       "std       8322.015598\n",
       "min        500.000000\n",
       "25%       8000.000000\n",
       "50%      12250.000000\n",
       "75%      20000.000000\n",
       "max      35000.000000\n",
       "Name: funded_amnt, dtype: float64"
      ]
     },
     "execution_count": 175,
     "metadata": {},
     "output_type": "execute_result"
    }
   ],
   "source": [
    "data_rfe.funded_amnt.describe()"
   ]
  },
  {
   "cell_type": "code",
   "execution_count": 176,
   "id": "f5488c21",
   "metadata": {},
   "outputs": [
    {
     "data": {
      "image/png": "[encoded data removed]",
      "text/plain": [
       "<Figure size 432x288 with 1 Axes>"
      ]
     },
     "metadata": {
      "needs_background": "light"
     },
     "output_type": "display_data"
    }
   ],
   "source": [
    "box2=data_rfe.boxplot(column=\"funded_amnt\",showmeans=True)"
   ]
  },
  {
   "cell_type": "code",
   "execution_count": null,
   "id": "37dc03b7",
   "metadata": {},
   "outputs": [],
   "source": [
    "# for funded_amnt_inv   # no outliers"
   ]
  },
  {
   "cell_type": "code",
   "execution_count": 177,
   "id": "e929bdc3",
   "metadata": {},
   "outputs": [
    {
     "data": {
      "text/plain": [
       "count    86614.000000\n",
       "mean     14307.245325\n",
       "std       8339.826862\n",
       "min          0.000000\n",
       "25%       8000.000000\n",
       "50%      12025.000000\n",
       "75%      19975.000000\n",
       "max      35000.000000\n",
       "Name: funded_amnt_inv, dtype: float64"
      ]
     },
     "execution_count": 177,
     "metadata": {},
     "output_type": "execute_result"
    }
   ],
   "source": [
    "data_rfe.funded_amnt_inv.describe()"
   ]
  },
  {
   "cell_type": "code",
   "execution_count": 178,
   "id": "f2e89a05",
   "metadata": {},
   "outputs": [
    {
     "data": {
      "image/png": "[encoded data removed]",
      "text/plain": [
       "<Figure size 432x288 with 1 Axes>"
      ]
     },
     "metadata": {
      "needs_background": "light"
     },
     "output_type": "display_data"
    }
   ],
   "source": [
    "box3=data_rfe.boxplot(column=\"funded_amnt_inv\",showmeans=True)"
   ]
  },
  {
   "cell_type": "code",
   "execution_count": null,
   "id": "b90a433f",
   "metadata": {},
   "outputs": [],
   "source": [
    "#for installment"
   ]
  },
  {
   "cell_type": "code",
   "execution_count": 179,
   "id": "64f66e63",
   "metadata": {},
   "outputs": [
    {
     "data": {
      "text/plain": [
       "count    86614.000000\n",
       "mean       435.961334\n",
       "std        244.842519\n",
       "min         16.080000\n",
       "25%        259.990000\n",
       "50%        384.770000\n",
       "75%        570.377500\n",
       "max       1409.990000\n",
       "Name: installment, dtype: float64"
      ]
     },
     "execution_count": 179,
     "metadata": {},
     "output_type": "execute_result"
    }
   ],
   "source": [
    "data_rfe.installment.describe()"
   ]
  },
  {
   "cell_type": "code",
   "execution_count": 180,
   "id": "dbf01fc2",
   "metadata": {},
   "outputs": [
    {
     "data": {
      "image/png": "[encoded data removed]",
      "text/plain": [
       "<Figure size 432x288 with 1 Axes>"
      ]
     },
     "metadata": {
      "needs_background": "light"
     },
     "output_type": "display_data"
    }
   ],
   "source": [
    "box4=data_rfe.boxplot(column=\"installment\",showmeans=True)"
   ]
  },
  {
   "cell_type": "code",
   "execution_count": 181,
   "id": "e8cf0f14",
   "metadata": {},
   "outputs": [
    {
     "data": {
      "text/plain": [
       "<AxesSubplot:xlabel='installment', ylabel='Density'>"
      ]
     },
     "execution_count": 181,
     "metadata": {},
     "output_type": "execute_result"
    },
    {
     "data": {
      "image/png": "[encoded data removed]",
      "text/plain": [
       "<Figure size 432x288 with 1 Axes>"
      ]
     },
     "metadata": {
      "needs_background": "light"
     },
     "output_type": "display_data"
    }
   ],
   "source": [
    "sns.distplot(data_rfe[\"installment\"])"
   ]
  },
  {
   "cell_type": "code",
   "execution_count": 182,
   "id": "16d37c41",
   "metadata": {},
   "outputs": [
    {
     "data": {
      "text/plain": [
       "310.38750000000005"
      ]
     },
     "execution_count": 182,
     "metadata": {},
     "output_type": "execute_result"
    }
   ],
   "source": [
    "iqr4=data_rfe.installment.quantile(0.75)-data_rfe.installment.quantile(0.25)\n",
    "iqr4"
   ]
  },
  {
   "cell_type": "code",
   "execution_count": 183,
   "id": "b8a372dd",
   "metadata": {},
   "outputs": [
    {
     "name": "stdout",
     "output_type": "stream",
     "text": [
      "1501.5400000000002 -671.1725000000001\n"
     ]
    }
   ],
   "source": [
    "u4=data_rfe[\"installment\"].quantile(0.75)+3*iqr4\n",
    "l4=data_rfe[\"installment\"].quantile(0.25)-3*iqr4\n",
    "print(u4,l4)"
   ]
  },
  {
   "cell_type": "code",
   "execution_count": 184,
   "id": "0f58411c",
   "metadata": {},
   "outputs": [],
   "source": [
    "data_rfe.loc[data_rfe[\"installment\"]>1501.5400000000002,\"installment\"]=1501.5400000000002"
   ]
  },
  {
   "cell_type": "code",
   "execution_count": 185,
   "id": "94cd60d0",
   "metadata": {},
   "outputs": [
    {
     "data": {
      "image/png": "[encoded data removed]",
      "text/plain": [
       "<Figure size 432x288 with 1 Axes>"
      ]
     },
     "metadata": {
      "needs_background": "light"
     },
     "output_type": "display_data"
    }
   ],
   "source": [
    "box4=data_rfe.boxplot(column=\"installment\")"
   ]
  },
  {
   "cell_type": "code",
   "execution_count": 186,
   "id": "a13bb8fa",
   "metadata": {},
   "outputs": [
    {
     "data": {
      "text/plain": [
       "<AxesSubplot:xlabel='installment', ylabel='Density'>"
      ]
     },
     "execution_count": 186,
     "metadata": {},
     "output_type": "execute_result"
    },
    {
     "data": {
      "image/png": "[encoded data removed]",
      "text/plain": [
       "<Figure size 432x288 with 1 Axes>"
      ]
     },
     "metadata": {
      "needs_background": "light"
     },
     "output_type": "display_data"
    }
   ],
   "source": [
    "sns.distplot(data_rfe[\"installment\"])"
   ]
  },
  {
   "cell_type": "code",
   "execution_count": 187,
   "id": "ea5cfb62",
   "metadata": {},
   "outputs": [],
   "source": [
    "#for annual_inc"
   ]
  },
  {
   "cell_type": "code",
   "execution_count": 188,
   "id": "4a832d6a",
   "metadata": {},
   "outputs": [
    {
     "data": {
      "text/plain": [
       "count    8.661400e+04\n",
       "mean     6.973601e+04\n",
       "std      5.883185e+04\n",
       "min      4.000000e+03\n",
       "25%      4.300000e+04\n",
       "50%      6.000000e+04\n",
       "75%      8.400000e+04\n",
       "max      7.446395e+06\n",
       "Name: annual_inc, dtype: float64"
      ]
     },
     "execution_count": 188,
     "metadata": {},
     "output_type": "execute_result"
    }
   ],
   "source": [
    "data_rfe.annual_inc.describe()"
   ]
  },
  {
   "cell_type": "code",
   "execution_count": 189,
   "id": "fe9414c9",
   "metadata": {},
   "outputs": [
    {
     "data": {
      "image/png": "[encoded data removed]",
      "text/plain": [
       "<Figure size 432x288 with 1 Axes>"
      ]
     },
     "metadata": {
      "needs_background": "light"
     },
     "output_type": "display_data"
    }
   ],
   "source": [
    "box5=data_rfe.boxplot(column=\"annual_inc\",showmeans=True)"
   ]
  },
  {
   "cell_type": "code",
   "execution_count": 190,
   "id": "0c9e4002",
   "metadata": {},
   "outputs": [
    {
     "data": {
      "text/plain": [
       "<AxesSubplot:xlabel='annual_inc', ylabel='Density'>"
      ]
     },
     "execution_count": 190,
     "metadata": {},
     "output_type": "execute_result"
    },
    {
     "data": {
      "image/png": "[encoded data removed]",
      "text/plain": [
       "<Figure size 432x288 with 1 Axes>"
      ]
     },
     "metadata": {
      "needs_background": "light"
     },
     "output_type": "display_data"
    }
   ],
   "source": [
    "sns.distplot(data_rfe[\"annual_inc\"])"
   ]
  },
  {
   "cell_type": "code",
   "execution_count": 191,
   "id": "dba8d0a9",
   "metadata": {},
   "outputs": [
    {
     "data": {
      "text/plain": [
       "41000.0"
      ]
     },
     "execution_count": 191,
     "metadata": {},
     "output_type": "execute_result"
    }
   ],
   "source": [
    "iqr5=data_rfe.annual_inc.quantile(0.75)-data_rfe.annual_inc.quantile(0.25)\n",
    "iqr5"
   ]
  },
  {
   "cell_type": "code",
   "execution_count": 192,
   "id": "f3385c6e",
   "metadata": {},
   "outputs": [
    {
     "name": "stdout",
     "output_type": "stream",
     "text": [
      "207000.0 -80000.0\n"
     ]
    }
   ],
   "source": [
    "u5=data_rfe[\"annual_inc\"].quantile(0.75)+3*iqr5\n",
    "l5=data_rfe[\"annual_inc\"].quantile(0.25)-3*iqr5\n",
    "print(u5,l5)"
   ]
  },
  {
   "cell_type": "code",
   "execution_count": 193,
   "id": "e6b4e151",
   "metadata": {},
   "outputs": [],
   "source": [
    "data_rfe.loc[data_rfe[\"annual_inc\"]>207000.0,\"annual_inc\"]=207000.0"
   ]
  },
  {
   "cell_type": "code",
   "execution_count": 194,
   "id": "3b405593",
   "metadata": {},
   "outputs": [
    {
     "data": {
      "image/png": "[encoded data removed]",
      "text/plain": [
       "<Figure size 432x288 with 1 Axes>"
      ]
     },
     "metadata": {
      "needs_background": "light"
     },
     "output_type": "display_data"
    }
   ],
   "source": [
    "box5=data_rfe.boxplot(column=\"annual_inc\",showmeans=True)"
   ]
  },
  {
   "cell_type": "code",
   "execution_count": 195,
   "id": "50e845bf",
   "metadata": {},
   "outputs": [
    {
     "data": {
      "text/plain": [
       "<AxesSubplot:xlabel='annual_inc', ylabel='Density'>"
      ]
     },
     "execution_count": 195,
     "metadata": {},
     "output_type": "execute_result"
    },
    {
     "data": {
      "image/png": "[encoded data removed]",
      "text/plain": [
       "<Figure size 432x288 with 1 Axes>"
      ]
     },
     "metadata": {
      "needs_background": "light"
     },
     "output_type": "display_data"
    }
   ],
   "source": [
    "sns.distplot(data_rfe[\"annual_inc\"])"
   ]
  },
  {
   "cell_type": "code",
   "execution_count": 196,
   "id": "475c8b66",
   "metadata": {},
   "outputs": [],
   "source": [
    "#for dti     # no outliers"
   ]
  },
  {
   "cell_type": "code",
   "execution_count": 197,
   "id": "0b80b311",
   "metadata": {},
   "outputs": [
    {
     "data": {
      "text/plain": [
       "count    86614.000000\n",
       "mean        17.679122\n",
       "std          7.875063\n",
       "min          0.000000\n",
       "25%         11.840000\n",
       "50%         17.450000\n",
       "75%         23.320000\n",
       "max         39.990000\n",
       "Name: dti, dtype: float64"
      ]
     },
     "execution_count": 197,
     "metadata": {},
     "output_type": "execute_result"
    }
   ],
   "source": [
    "data_rfe.dti.describe()"
   ]
  },
  {
   "cell_type": "code",
   "execution_count": 198,
   "id": "e00cf1d7",
   "metadata": {},
   "outputs": [
    {
     "data": {
      "image/png": "[encoded data removed]",
      "text/plain": [
       "<Figure size 432x288 with 1 Axes>"
      ]
     },
     "metadata": {
      "needs_background": "light"
     },
     "output_type": "display_data"
    }
   ],
   "source": [
    "box6=data_rfe.boxplot(column=\"dti\",showmeans=True)"
   ]
  },
  {
   "cell_type": "code",
   "execution_count": null,
   "id": "ce4ddd10",
   "metadata": {},
   "outputs": [],
   "source": [
    "#for total_pymnt_inv"
   ]
  },
  {
   "cell_type": "code",
   "execution_count": 199,
   "id": "0b26d5e0",
   "metadata": {},
   "outputs": [
    {
     "data": {
      "text/plain": [
       "count    86614.000000\n",
       "mean      9295.871261\n",
       "std       7584.192558\n",
       "min          0.000000\n",
       "25%       3912.685000\n",
       "50%       7196.855000\n",
       "75%      12422.455000\n",
       "max      55759.490000\n",
       "Name: total_pymnt_inv, dtype: float64"
      ]
     },
     "execution_count": 199,
     "metadata": {},
     "output_type": "execute_result"
    }
   ],
   "source": [
    "data_rfe.total_pymnt_inv.describe()"
   ]
  },
  {
   "cell_type": "code",
   "execution_count": 200,
   "id": "98f02f9f",
   "metadata": {},
   "outputs": [
    {
     "data": {
      "image/png": "[encoded data removed]",
      "text/plain": [
       "<Figure size 432x288 with 1 Axes>"
      ]
     },
     "metadata": {
      "needs_background": "light"
     },
     "output_type": "display_data"
    }
   ],
   "source": [
    "box7=data_rfe.boxplot(column=\"total_pymnt_inv\",showmeans=True)"
   ]
  },
  {
   "cell_type": "code",
   "execution_count": 201,
   "id": "d86f1067",
   "metadata": {},
   "outputs": [
    {
     "data": {
      "text/plain": [
       "<AxesSubplot:xlabel='total_pymnt_inv', ylabel='Density'>"
      ]
     },
     "execution_count": 201,
     "metadata": {},
     "output_type": "execute_result"
    },
    {
     "data": {
      "image/png": "[encoded data removed]",
      "text/plain": [
       "<Figure size 432x288 with 1 Axes>"
      ]
     },
     "metadata": {
      "needs_background": "light"
     },
     "output_type": "display_data"
    }
   ],
   "source": [
    "sns.distplot(data_rfe[\"total_pymnt_inv\"])"
   ]
  },
  {
   "cell_type": "code",
   "execution_count": 202,
   "id": "9390372b",
   "metadata": {},
   "outputs": [
    {
     "data": {
      "text/plain": [
       "8509.77"
      ]
     },
     "execution_count": 202,
     "metadata": {},
     "output_type": "execute_result"
    }
   ],
   "source": [
    "iqr7=data_rfe.total_pymnt_inv.quantile(0.75)-data_rfe.total_pymnt_inv.quantile(0.25)\n",
    "iqr7"
   ]
  },
  {
   "cell_type": "code",
   "execution_count": 203,
   "id": "b7337011",
   "metadata": {
    "scrolled": false
   },
   "outputs": [
    {
     "name": "stdout",
     "output_type": "stream",
     "text": [
      "37951.765 -21616.625\n"
     ]
    }
   ],
   "source": [
    "u7=data_rfe[\"total_pymnt_inv\"].quantile(0.75)+3*iqr7\n",
    "l7=data_rfe[\"total_pymnt_inv\"].quantile(0.25)-3*iqr7\n",
    "print(u7,l7)"
   ]
  },
  {
   "cell_type": "code",
   "execution_count": 204,
   "id": "ee5b54d0",
   "metadata": {},
   "outputs": [],
   "source": [
    "data_rfe.loc[data_rfe[\"total_pymnt_inv\"]>37951.765,\"total_pymnt_inv\"]=37951.765"
   ]
  },
  {
   "cell_type": "code",
   "execution_count": 205,
   "id": "6c538cd6",
   "metadata": {},
   "outputs": [
    {
     "data": {
      "image/png": "[encoded data removed]",
      "text/plain": [
       "<Figure size 432x288 with 1 Axes>"
      ]
     },
     "metadata": {
      "needs_background": "light"
     },
     "output_type": "display_data"
    }
   ],
   "source": [
    "box7=data_rfe.boxplot(column=\"total_pymnt_inv\",showmeans=True)"
   ]
  },
  {
   "cell_type": "code",
   "execution_count": 206,
   "id": "69ad09fb",
   "metadata": {},
   "outputs": [
    {
     "data": {
      "text/plain": [
       "<AxesSubplot:xlabel='total_pymnt_inv', ylabel='Density'>"
      ]
     },
     "execution_count": 206,
     "metadata": {},
     "output_type": "execute_result"
    },
    {
     "data": {
      "image/png": "[encoded data removed]",
      "text/plain": [
       "<Figure size 432x288 with 1 Axes>"
      ]
     },
     "metadata": {
      "needs_background": "light"
     },
     "output_type": "display_data"
    }
   ],
   "source": [
    "sns.distplot(data_rfe[\"total_pymnt_inv\"])"
   ]
  },
  {
   "cell_type": "code",
   "execution_count": 207,
   "id": "b2486bf0",
   "metadata": {},
   "outputs": [],
   "source": [
    "#for total_pyment"
   ]
  },
  {
   "cell_type": "code",
   "execution_count": 208,
   "id": "6087058f",
   "metadata": {},
   "outputs": [
    {
     "data": {
      "text/plain": [
       "count    86614.000000\n",
       "mean      9357.358094\n",
       "std       7601.542318\n",
       "min          0.000000\n",
       "25%       3963.785000\n",
       "50%       7254.450000\n",
       "75%      12498.140000\n",
       "max      55759.489944\n",
       "Name: total_pymnt, dtype: float64"
      ]
     },
     "execution_count": 208,
     "metadata": {},
     "output_type": "execute_result"
    }
   ],
   "source": [
    "data_rfe.total_pymnt.describe()"
   ]
  },
  {
   "cell_type": "code",
   "execution_count": 209,
   "id": "96b89e45",
   "metadata": {},
   "outputs": [
    {
     "data": {
      "image/png": "[encoded data removed]",
      "text/plain": [
       "<Figure size 432x288 with 1 Axes>"
      ]
     },
     "metadata": {
      "needs_background": "light"
     },
     "output_type": "display_data"
    }
   ],
   "source": [
    "box8=data_rfe.boxplot(column=\"total_pymnt\",showmeans=True)"
   ]
  },
  {
   "cell_type": "code",
   "execution_count": 210,
   "id": "a2c31875",
   "metadata": {},
   "outputs": [
    {
     "data": {
      "text/plain": [
       "<AxesSubplot:xlabel='total_pymnt', ylabel='Density'>"
      ]
     },
     "execution_count": 210,
     "metadata": {},
     "output_type": "execute_result"
    },
    {
     "data": {
      "image/png": "[encoded data removed]",
      "text/plain": [
       "<Figure size 432x288 with 1 Axes>"
      ]
     },
     "metadata": {
      "needs_background": "light"
     },
     "output_type": "display_data"
    }
   ],
   "source": [
    "sns.distplot(data_rfe[\"total_pymnt\"])"
   ]
  },
  {
   "cell_type": "code",
   "execution_count": 211,
   "id": "df1eb103",
   "metadata": {},
   "outputs": [
    {
     "data": {
      "text/plain": [
       "8534.355"
      ]
     },
     "execution_count": 211,
     "metadata": {},
     "output_type": "execute_result"
    }
   ],
   "source": [
    "iqr8=data_rfe.total_pymnt.quantile(0.75)-data_rfe.total_pymnt.quantile(0.25)\n",
    "iqr8"
   ]
  },
  {
   "cell_type": "code",
   "execution_count": 212,
   "id": "2bc299d1",
   "metadata": {},
   "outputs": [
    {
     "name": "stdout",
     "output_type": "stream",
     "text": [
      "38101.205 -21639.28\n"
     ]
    }
   ],
   "source": [
    "u8=data_rfe[\"total_pymnt\"].quantile(0.75)+3*iqr8\n",
    "l8=data_rfe[\"total_pymnt\"].quantile(0.25)-3*iqr8\n",
    "print(u8,l8)"
   ]
  },
  {
   "cell_type": "code",
   "execution_count": 213,
   "id": "8e96131d",
   "metadata": {},
   "outputs": [],
   "source": [
    "data_rfe.loc[data_rfe[\"total_pymnt\"]>38101.205,\"total_pymnt\"]=38101.205"
   ]
  },
  {
   "cell_type": "code",
   "execution_count": 214,
   "id": "4329f0c3",
   "metadata": {},
   "outputs": [
    {
     "data": {
      "image/png": "[encoded data removed]",
      "text/plain": [
       "<Figure size 432x288 with 1 Axes>"
      ]
     },
     "metadata": {
      "needs_background": "light"
     },
     "output_type": "display_data"
    }
   ],
   "source": [
    "box8=data_rfe.boxplot(column=\"total_pymnt\",showmeans=True)"
   ]
  },
  {
   "cell_type": "code",
   "execution_count": 215,
   "id": "59effdc8",
   "metadata": {},
   "outputs": [
    {
     "data": {
      "text/plain": [
       "<AxesSubplot:xlabel='total_pymnt', ylabel='Density'>"
      ]
     },
     "execution_count": 215,
     "metadata": {},
     "output_type": "execute_result"
    },
    {
     "data": {
      "image/png": "[encoded data removed]",
      "text/plain": [
       "<Figure size 432x288 with 1 Axes>"
      ]
     },
     "metadata": {
      "needs_background": "light"
     },
     "output_type": "display_data"
    }
   ],
   "source": [
    "sns.distplot(data_rfe[\"total_pymnt\"])"
   ]
  },
  {
   "cell_type": "code",
   "execution_count": 216,
   "id": "fb1945e7",
   "metadata": {},
   "outputs": [],
   "source": [
    "# for total_rec_prncp"
   ]
  },
  {
   "cell_type": "code",
   "execution_count": 217,
   "id": "e7d01965",
   "metadata": {},
   "outputs": [
    {
     "data": {
      "text/plain": [
       "count    86614.000000\n",
       "mean      6475.972942\n",
       "std       6328.067641\n",
       "min          0.000000\n",
       "25%       2121.462500\n",
       "50%       4414.140000\n",
       "75%       8666.197500\n",
       "max      35000.010000\n",
       "Name: total_rec_prncp, dtype: float64"
      ]
     },
     "execution_count": 217,
     "metadata": {},
     "output_type": "execute_result"
    }
   ],
   "source": [
    "data_rfe.total_rec_prncp.describe()"
   ]
  },
  {
   "cell_type": "code",
   "execution_count": 218,
   "id": "b25e8533",
   "metadata": {},
   "outputs": [
    {
     "data": {
      "image/png": "[encoded data removed]",
      "text/plain": [
       "<Figure size 432x288 with 1 Axes>"
      ]
     },
     "metadata": {
      "needs_background": "light"
     },
     "output_type": "display_data"
    }
   ],
   "source": [
    "box9=data_rfe.boxplot(column=\"total_rec_prncp\",showmeans=True)"
   ]
  },
  {
   "cell_type": "code",
   "execution_count": 219,
   "id": "041b9a7d",
   "metadata": {
    "scrolled": true
   },
   "outputs": [
    {
     "data": {
      "text/plain": [
       "<AxesSubplot:xlabel='total_rec_prncp', ylabel='Density'>"
      ]
     },
     "execution_count": 219,
     "metadata": {},
     "output_type": "execute_result"
    },
    {
     "data": {
      "image/png": "[encoded data removed]",
      "text/plain": [
       "<Figure size 432x288 with 1 Axes>"
      ]
     },
     "metadata": {
      "needs_background": "light"
     },
     "output_type": "display_data"
    }
   ],
   "source": [
    "sns.distplot(data_rfe[\"total_rec_prncp\"])"
   ]
  },
  {
   "cell_type": "code",
   "execution_count": 220,
   "id": "5cf75022",
   "metadata": {},
   "outputs": [
    {
     "data": {
      "text/plain": [
       "6544.735000000001"
      ]
     },
     "execution_count": 220,
     "metadata": {},
     "output_type": "execute_result"
    }
   ],
   "source": [
    "iqr9=data_rfe.total_rec_prncp.quantile(0.75)-data_rfe.total_rec_prncp.quantile(0.25)\n",
    "iqr9"
   ]
  },
  {
   "cell_type": "code",
   "execution_count": 221,
   "id": "d6326cc9",
   "metadata": {},
   "outputs": [
    {
     "name": "stdout",
     "output_type": "stream",
     "text": [
      "28300.402500000004 -17512.7425\n"
     ]
    }
   ],
   "source": [
    "u9=data_rfe[\"total_rec_prncp\"].quantile(0.75)+3*iqr9\n",
    "l9=data_rfe[\"total_rec_prncp\"].quantile(0.25)-3*iqr9\n",
    "print(u9,l9)"
   ]
  },
  {
   "cell_type": "code",
   "execution_count": 222,
   "id": "73fc20e2",
   "metadata": {},
   "outputs": [],
   "source": [
    "data_rfe.loc[data_rfe[\"total_rec_prncp\"]>28300.402500000004,\"total_pymnt\"]=28300.402500000004"
   ]
  },
  {
   "cell_type": "code",
   "execution_count": 223,
   "id": "dd1c084b",
   "metadata": {},
   "outputs": [
    {
     "data": {
      "image/png": "[encoded data removed]",
      "text/plain": [
       "<Figure size 432x288 with 1 Axes>"
      ]
     },
     "metadata": {
      "needs_background": "light"
     },
     "output_type": "display_data"
    }
   ],
   "source": [
    "box9=data_rfe.boxplot(column=\"total_rec_prncp\",showmeans=True)"
   ]
  },
  {
   "cell_type": "code",
   "execution_count": 224,
   "id": "753c14b1",
   "metadata": {},
   "outputs": [
    {
     "data": {
      "text/plain": [
       "<AxesSubplot:xlabel='total_rec_prncp', ylabel='Density'>"
      ]
     },
     "execution_count": 224,
     "metadata": {},
     "output_type": "execute_result"
    },
    {
     "data": {
      "image/png": "[encoded data removed]",
      "text/plain": [
       "<Figure size 432x288 with 1 Axes>"
      ]
     },
     "metadata": {
      "needs_background": "light"
     },
     "output_type": "display_data"
    }
   ],
   "source": [
    "sns.distplot(data_rfe[\"total_rec_prncp\"])"
   ]
  },
  {
   "cell_type": "code",
   "execution_count": 225,
   "id": "ce3bc8cf",
   "metadata": {},
   "outputs": [],
   "source": [
    "#for total_rec_int"
   ]
  },
  {
   "cell_type": "code",
   "execution_count": 226,
   "id": "10eef796",
   "metadata": {},
   "outputs": [
    {
     "data": {
      "text/plain": [
       "count    86614.000000\n",
       "mean      2425.590479\n",
       "std       2401.067006\n",
       "min          0.000000\n",
       "25%        846.862500\n",
       "50%       1680.930000\n",
       "75%       3119.370000\n",
       "max      21503.130000\n",
       "Name: total_rec_int, dtype: float64"
      ]
     },
     "execution_count": 226,
     "metadata": {},
     "output_type": "execute_result"
    }
   ],
   "source": [
    "data_rfe.total_rec_int.describe()"
   ]
  },
  {
   "cell_type": "code",
   "execution_count": 227,
   "id": "9ee45e9a",
   "metadata": {},
   "outputs": [
    {
     "data": {
      "image/png": "[encoded data removed]",
      "text/plain": [
       "<Figure size 432x288 with 1 Axes>"
      ]
     },
     "metadata": {
      "needs_background": "light"
     },
     "output_type": "display_data"
    }
   ],
   "source": [
    "box10=data_rfe.boxplot(column=\"total_rec_int\",showmeans=True)"
   ]
  },
  {
   "cell_type": "code",
   "execution_count": 228,
   "id": "8156af02",
   "metadata": {},
   "outputs": [
    {
     "data": {
      "text/plain": [
       "<AxesSubplot:xlabel='total_rec_int', ylabel='Density'>"
      ]
     },
     "execution_count": 228,
     "metadata": {},
     "output_type": "execute_result"
    },
    {
     "data": {
      "image/png": "[encoded data removed]",
      "text/plain": [
       "<Figure size 432x288 with 1 Axes>"
      ]
     },
     "metadata": {
      "needs_background": "light"
     },
     "output_type": "display_data"
    }
   ],
   "source": [
    "sns.distplot(data_rfe[\"total_rec_int\"])"
   ]
  },
  {
   "cell_type": "code",
   "execution_count": 229,
   "id": "4bdbb7c2",
   "metadata": {},
   "outputs": [
    {
     "data": {
      "text/plain": [
       "2272.5074999999997"
      ]
     },
     "execution_count": 229,
     "metadata": {},
     "output_type": "execute_result"
    }
   ],
   "source": [
    "iqr10=data_rfe.total_rec_int.quantile(0.75)-data_rfe.total_rec_int.quantile(0.25)\n",
    "iqr10"
   ]
  },
  {
   "cell_type": "code",
   "execution_count": 230,
   "id": "d2da7c18",
   "metadata": {},
   "outputs": [
    {
     "name": "stdout",
     "output_type": "stream",
     "text": [
      "9936.892499999998 -5970.659999999999\n"
     ]
    }
   ],
   "source": [
    "u10=data_rfe[\"total_rec_int\"].quantile(0.75)+3*iqr10\n",
    "l10=data_rfe[\"total_rec_int\"].quantile(0.25)-3*iqr10\n",
    "print(u10,l10)"
   ]
  },
  {
   "cell_type": "code",
   "execution_count": 231,
   "id": "bb2eb066",
   "metadata": {},
   "outputs": [],
   "source": [
    "data_rfe.loc[data_rfe[\"total_rec_int\"]>9936.892499999998,\"total_rec_int\"]=9936.892499999998"
   ]
  },
  {
   "cell_type": "code",
   "execution_count": 232,
   "id": "0f7a1310",
   "metadata": {},
   "outputs": [
    {
     "data": {
      "image/png": "[encoded data removed]",
      "text/plain": [
       "<Figure size 432x288 with 1 Axes>"
      ]
     },
     "metadata": {
      "needs_background": "light"
     },
     "output_type": "display_data"
    }
   ],
   "source": [
    "box10=data_rfe.boxplot(column=\"total_rec_int\",showmeans=True)"
   ]
  },
  {
   "cell_type": "code",
   "execution_count": 233,
   "id": "9705bc93",
   "metadata": {},
   "outputs": [
    {
     "data": {
      "text/plain": [
       "<AxesSubplot:xlabel='total_rec_int', ylabel='Density'>"
      ]
     },
     "execution_count": 233,
     "metadata": {},
     "output_type": "execute_result"
    },
    {
     "data": {
      "image/png": "[encoded data removed]",
      "text/plain": [
       "<Figure size 432x288 with 1 Axes>"
      ]
     },
     "metadata": {
      "needs_background": "light"
     },
     "output_type": "display_data"
    }
   ],
   "source": [
    "sns.distplot(data_rfe[\"total_rec_int\"])"
   ]
  },
  {
   "cell_type": "code",
   "execution_count": 234,
   "id": "fcf51174",
   "metadata": {},
   "outputs": [],
   "source": [
    "#for last_pymnt_amnt"
   ]
  },
  {
   "cell_type": "code",
   "execution_count": 235,
   "id": "d59aa3bf",
   "metadata": {},
   "outputs": [
    {
     "data": {
      "text/plain": [
       "count    86614.000000\n",
       "mean      1952.813477\n",
       "std       4395.188626\n",
       "min          0.000000\n",
       "25%        273.780000\n",
       "50%        452.890000\n",
       "75%        806.092500\n",
       "max      35814.330000\n",
       "Name: last_pymnt_amnt, dtype: float64"
      ]
     },
     "execution_count": 235,
     "metadata": {},
     "output_type": "execute_result"
    }
   ],
   "source": [
    "data_rfe.last_pymnt_amnt.describe()"
   ]
  },
  {
   "cell_type": "code",
   "execution_count": 236,
   "id": "7b942b24",
   "metadata": {},
   "outputs": [
    {
     "data": {
      "image/png": "[encoded data removed]",
      "text/plain": [
       "<Figure size 432x288 with 1 Axes>"
      ]
     },
     "metadata": {
      "needs_background": "light"
     },
     "output_type": "display_data"
    }
   ],
   "source": [
    "box12=data_rfe.boxplot(column=\"last_pymnt_amnt\",showmeans=True)"
   ]
  },
  {
   "cell_type": "code",
   "execution_count": 237,
   "id": "168153a6",
   "metadata": {},
   "outputs": [
    {
     "data": {
      "text/plain": [
       "<AxesSubplot:xlabel='last_pymnt_amnt', ylabel='Density'>"
      ]
     },
     "execution_count": 237,
     "metadata": {},
     "output_type": "execute_result"
    },
    {
     "data": {
      "image/png": "[encoded data removed]",
      "text/plain": [
       "<Figure size 432x288 with 1 Axes>"
      ]
     },
     "metadata": {
      "needs_background": "light"
     },
     "output_type": "display_data"
    }
   ],
   "source": [
    "sns.distplot(data_rfe[\"last_pymnt_amnt\"])"
   ]
  },
  {
   "cell_type": "code",
   "execution_count": 238,
   "id": "08c8128f",
   "metadata": {},
   "outputs": [
    {
     "data": {
      "text/plain": [
       "532.3125"
      ]
     },
     "execution_count": 238,
     "metadata": {},
     "output_type": "execute_result"
    }
   ],
   "source": [
    "iqr12=data_rfe.last_pymnt_amnt.quantile(0.75)-data_rfe.last_pymnt_amnt.quantile(0.25)\n",
    "iqr12"
   ]
  },
  {
   "cell_type": "code",
   "execution_count": 239,
   "id": "39b0e389",
   "metadata": {},
   "outputs": [
    {
     "name": "stdout",
     "output_type": "stream",
     "text": [
      "2403.0299999999997 -1323.1575\n"
     ]
    }
   ],
   "source": [
    "u12=data_rfe[\"last_pymnt_amnt\"].quantile(0.75)+3*iqr12\n",
    "l12=data_rfe[\"last_pymnt_amnt\"].quantile(0.25)-3*iqr12\n",
    "print(u12,l12)"
   ]
  },
  {
   "cell_type": "code",
   "execution_count": 241,
   "id": "bc1920fe",
   "metadata": {},
   "outputs": [],
   "source": [
    "data_rfe.loc[data_rfe[\"last_pymnt_amnt\"]>2403.0299999999997,\"last_pymnt_amnt\"]=2403.0299999999997"
   ]
  },
  {
   "cell_type": "code",
   "execution_count": 242,
   "id": "7da911c6",
   "metadata": {},
   "outputs": [
    {
     "data": {
      "image/png": "[encoded data removed]",
      "text/plain": [
       "<Figure size 432x288 with 1 Axes>"
      ]
     },
     "metadata": {
      "needs_background": "light"
     },
     "output_type": "display_data"
    }
   ],
   "source": [
    "box12=data_rfe.boxplot(column=\"last_pymnt_amnt\",showmeans=True)"
   ]
  },
  {
   "cell_type": "code",
   "execution_count": 243,
   "id": "508c96c0",
   "metadata": {},
   "outputs": [
    {
     "data": {
      "text/plain": [
       "<AxesSubplot:xlabel='last_pymnt_amnt', ylabel='Density'>"
      ]
     },
     "execution_count": 243,
     "metadata": {},
     "output_type": "execute_result"
    },
    {
     "data": {
      "image/png": "[encoded data removed]",
      "text/plain": [
       "<Figure size 432x288 with 1 Axes>"
      ]
     },
     "metadata": {
      "needs_background": "light"
     },
     "output_type": "display_data"
    }
   ],
   "source": [
    "sns.distplot(data_rfe[\"last_pymnt_amnt\"])"
   ]
  },
  {
   "cell_type": "code",
   "execution_count": null,
   "id": "bb9c739d",
   "metadata": {},
   "outputs": [],
   "source": [
    "#for revol_bal "
   ]
  },
  {
   "cell_type": "code",
   "execution_count": 244,
   "id": "c79093be",
   "metadata": {
    "scrolled": true
   },
   "outputs": [
    {
     "data": {
      "text/plain": [
       "count    8.661400e+04\n",
       "mean     1.557648e+04\n",
       "std      1.773889e+04\n",
       "min      0.000000e+00\n",
       "25%      6.381000e+03\n",
       "50%      1.160400e+04\n",
       "75%      1.986575e+04\n",
       "max      1.746716e+06\n",
       "Name: revol_bal, dtype: float64"
      ]
     },
     "execution_count": 244,
     "metadata": {},
     "output_type": "execute_result"
    }
   ],
   "source": [
    "data_rfe.revol_bal.describe()"
   ]
  },
  {
   "cell_type": "code",
   "execution_count": 245,
   "id": "660d3238",
   "metadata": {
    "scrolled": true
   },
   "outputs": [
    {
     "data": {
      "image/png": "[encoded data removed]",
      "text/plain": [
       "<Figure size 432x288 with 1 Axes>"
      ]
     },
     "metadata": {
      "needs_background": "light"
     },
     "output_type": "display_data"
    }
   ],
   "source": [
    "box13=data_rfe.boxplot(column=\"revol_bal\",showmeans=True)"
   ]
  },
  {
   "cell_type": "code",
   "execution_count": 246,
   "id": "5ad35469",
   "metadata": {},
   "outputs": [
    {
     "data": {
      "text/plain": [
       "<AxesSubplot:xlabel='revol_bal', ylabel='Density'>"
      ]
     },
     "execution_count": 246,
     "metadata": {},
     "output_type": "execute_result"
    },
    {
     "data": {
      "image/png": "[encoded data removed]",
      "text/plain": [
       "<Figure size 432x288 with 1 Axes>"
      ]
     },
     "metadata": {
      "needs_background": "light"
     },
     "output_type": "display_data"
    }
   ],
   "source": [
    "sns.distplot(data_rfe[\"revol_bal\"])"
   ]
  },
  {
   "cell_type": "code",
   "execution_count": 247,
   "id": "27a2ecd7",
   "metadata": {},
   "outputs": [
    {
     "data": {
      "text/plain": [
       "13484.75"
      ]
     },
     "execution_count": 247,
     "metadata": {},
     "output_type": "execute_result"
    }
   ],
   "source": [
    "iqr13=data_rfe.revol_bal.quantile(0.75)-data_rfe.revol_bal.quantile(0.25)\n",
    "iqr13"
   ]
  },
  {
   "cell_type": "code",
   "execution_count": 248,
   "id": "ae848584",
   "metadata": {},
   "outputs": [
    {
     "name": "stdout",
     "output_type": "stream",
     "text": [
      "60320.0 -34073.25\n"
     ]
    }
   ],
   "source": [
    "u13=data_rfe[\"revol_bal\"].quantile(0.75)+3*iqr13\n",
    "l13=data_rfe[\"revol_bal\"].quantile(0.25)-3*iqr13\n",
    "print(u13,l13)"
   ]
  },
  {
   "cell_type": "code",
   "execution_count": 249,
   "id": "548a7ba0",
   "metadata": {},
   "outputs": [],
   "source": [
    "data_rfe.loc[data_rfe[\"revol_bal\"]>60320.0,\"revol_bal\"]=60320.0"
   ]
  },
  {
   "cell_type": "code",
   "execution_count": 250,
   "id": "d2496f79",
   "metadata": {},
   "outputs": [
    {
     "data": {
      "image/png": "[encoded data removed]",
      "text/plain": [
       "<Figure size 432x288 with 1 Axes>"
      ]
     },
     "metadata": {
      "needs_background": "light"
     },
     "output_type": "display_data"
    }
   ],
   "source": [
    "box13=data_rfe.boxplot(column=\"revol_bal\",showmeans=True)"
   ]
  },
  {
   "cell_type": "code",
   "execution_count": 251,
   "id": "d30119d8",
   "metadata": {},
   "outputs": [
    {
     "data": {
      "text/plain": [
       "<AxesSubplot:xlabel='revol_bal', ylabel='Density'>"
      ]
     },
     "execution_count": 251,
     "metadata": {},
     "output_type": "execute_result"
    },
    {
     "data": {
      "image/png": "[encoded data removed]",
      "text/plain": [
       "<Figure size 432x288 with 1 Axes>"
      ]
     },
     "metadata": {
      "needs_background": "light"
     },
     "output_type": "display_data"
    }
   ],
   "source": [
    "sns.distplot(data_rfe[\"revol_bal\"])"
   ]
  },
  {
   "cell_type": "code",
   "execution_count": null,
   "id": "9989fd95",
   "metadata": {},
   "outputs": [],
   "source": [
    "#for int_rate  # "
   ]
  },
  {
   "cell_type": "code",
   "execution_count": 252,
   "id": "c733dbbb",
   "metadata": {},
   "outputs": [
    {
     "data": {
      "image/png": "[encoded data removed]",
      "text/plain": [
       "<Figure size 432x288 with 1 Axes>"
      ]
     },
     "metadata": {
      "needs_background": "light"
     },
     "output_type": "display_data"
    }
   ],
   "source": [
    "box14=data_rfe.boxplot(column=\"int_rate\",showmeans=True)"
   ]
  },
  {
   "cell_type": "code",
   "execution_count": 253,
   "id": "010c5322",
   "metadata": {},
   "outputs": [
    {
     "data": {
      "text/plain": [
       "<AxesSubplot:xlabel='int_rate', ylabel='Density'>"
      ]
     },
     "execution_count": 253,
     "metadata": {},
     "output_type": "execute_result"
    },
    {
     "data": {
      "image/png": "[encoded data removed]",
      "text/plain": [
       "<Figure size 432x288 with 1 Axes>"
      ]
     },
     "metadata": {
      "needs_background": "light"
     },
     "output_type": "display_data"
    }
   ],
   "source": [
    "sns.distplot(data_rfe[\"int_rate\"])"
   ]
  },
  {
   "cell_type": "code",
   "execution_count": 270,
   "id": "56148c81",
   "metadata": {},
   "outputs": [
    {
     "data": {
      "text/plain": [
       "28.179065113309925"
      ]
     },
     "execution_count": 270,
     "metadata": {},
     "output_type": "execute_result"
    }
   ],
   "source": [
    "u14=data_rfe[\"int_rate\"].mean()+3*data_rfe[\"int_rate\"].std()\n",
    "u14"
   ]
  },
  {
   "cell_type": "code",
   "execution_count": 271,
   "id": "b5241fe6",
   "metadata": {},
   "outputs": [],
   "source": [
    "data_rfe.loc[data_rfe[\"int_rate\"]>28.179065113309925,\"int_rate\"]=28.179065113309925"
   ]
  },
  {
   "cell_type": "code",
   "execution_count": 272,
   "id": "8497bb6b",
   "metadata": {},
   "outputs": [
    {
     "data": {
      "image/png": "[encoded data removed]",
      "text/plain": [
       "<Figure size 432x288 with 1 Axes>"
      ]
     },
     "metadata": {
      "needs_background": "light"
     },
     "output_type": "display_data"
    }
   ],
   "source": [
    "box14=data_rfe.boxplot(column=\"int_rate\",showmeans=True)"
   ]
  },
  {
   "cell_type": "code",
   "execution_count": 273,
   "id": "097f11e5",
   "metadata": {},
   "outputs": [
    {
     "data": {
      "text/plain": [
       "<AxesSubplot:xlabel='int_rate', ylabel='Density'>"
      ]
     },
     "execution_count": 273,
     "metadata": {},
     "output_type": "execute_result"
    },
    {
     "data": {
      "image/png": "[encoded data removed]",
      "text/plain": [
       "<Figure size 432x288 with 1 Axes>"
      ]
     },
     "metadata": {
      "needs_background": "light"
     },
     "output_type": "display_data"
    }
   ],
   "source": [
    "sns.distplot(data_rfe[\"int_rate\"])"
   ]
  },
  {
   "cell_type": "code",
   "execution_count": null,
   "id": "b7ba1820",
   "metadata": {},
   "outputs": [],
   "source": [
    "# for loan_amnt    # no outliers"
   ]
  },
  {
   "cell_type": "code",
   "execution_count": 254,
   "id": "9626db1e",
   "metadata": {},
   "outputs": [
    {
     "data": {
      "image/png": "[encoded data removed]",
      "text/plain": [
       "<Figure size 432x288 with 1 Axes>"
      ]
     },
     "metadata": {
      "needs_background": "light"
     },
     "output_type": "display_data"
    }
   ],
   "source": [
    "box15=data_rfe.boxplot(column=\"loan_amnt\",showmeans=True)"
   ]
  },
  {
   "cell_type": "code",
   "execution_count": null,
   "id": "16404b40",
   "metadata": {},
   "outputs": [],
   "source": [
    "#for out_prncp"
   ]
  },
  {
   "cell_type": "code",
   "execution_count": 255,
   "id": "c4f5564c",
   "metadata": {},
   "outputs": [
    {
     "data": {
      "image/png": "[encoded data removed]",
      "text/plain": [
       "<Figure size 432x288 with 1 Axes>"
      ]
     },
     "metadata": {
      "needs_background": "light"
     },
     "output_type": "display_data"
    }
   ],
   "source": [
    "box16=data_rfe.boxplot(column=\"out_prncp\",showmeans=True)"
   ]
  },
  {
   "cell_type": "code",
   "execution_count": 256,
   "id": "a808c19e",
   "metadata": {},
   "outputs": [
    {
     "data": {
      "text/plain": [
       "<AxesSubplot:xlabel='out_prncp', ylabel='Density'>"
      ]
     },
     "execution_count": 256,
     "metadata": {},
     "output_type": "execute_result"
    },
    {
     "data": {
      "image/png": "[encoded data removed]",
      "text/plain": [
       "<Figure size 432x288 with 1 Axes>"
      ]
     },
     "metadata": {
      "needs_background": "light"
     },
     "output_type": "display_data"
    }
   ],
   "source": [
    "sns.distplot(data_rfe[\"out_prncp\"])"
   ]
  },
  {
   "cell_type": "code",
   "execution_count": 257,
   "id": "fedfcd06",
   "metadata": {},
   "outputs": [
    {
     "data": {
      "text/plain": [
       "2060.87"
      ]
     },
     "execution_count": 257,
     "metadata": {},
     "output_type": "execute_result"
    }
   ],
   "source": [
    "iqr16=data_rfe.out_prncp.quantile(0.75)-data_rfe.out_prncp.quantile(0.25)\n",
    "iqr16"
   ]
  },
  {
   "cell_type": "code",
   "execution_count": 258,
   "id": "df22a533",
   "metadata": {},
   "outputs": [
    {
     "name": "stdout",
     "output_type": "stream",
     "text": [
      "8243.48 -6182.61\n"
     ]
    }
   ],
   "source": [
    "u16=data_rfe[\"out_prncp\"].quantile(0.75)+3*iqr16\n",
    "l16=data_rfe[\"out_prncp\"].quantile(0.25)-3*iqr16\n",
    "print(u16,l16)"
   ]
  },
  {
   "cell_type": "code",
   "execution_count": 259,
   "id": "213a2d44",
   "metadata": {},
   "outputs": [],
   "source": [
    "data_rfe.loc[data_rfe[\"out_prncp\"]>8243.48,\"out_prncp\"]=8243.48"
   ]
  },
  {
   "cell_type": "code",
   "execution_count": 260,
   "id": "b4bb736b",
   "metadata": {},
   "outputs": [
    {
     "data": {
      "image/png": "[encoded data removed]",
      "text/plain": [
       "<Figure size 432x288 with 1 Axes>"
      ]
     },
     "metadata": {
      "needs_background": "light"
     },
     "output_type": "display_data"
    }
   ],
   "source": [
    "box16=data_rfe.boxplot(column=\"out_prncp\",showmeans=True)"
   ]
  },
  {
   "cell_type": "code",
   "execution_count": 261,
   "id": "96f98171",
   "metadata": {},
   "outputs": [
    {
     "data": {
      "text/plain": [
       "<AxesSubplot:xlabel='out_prncp', ylabel='Density'>"
      ]
     },
     "execution_count": 261,
     "metadata": {},
     "output_type": "execute_result"
    },
    {
     "data": {
      "image/png": "[encoded data removed]",
      "text/plain": [
       "<Figure size 432x288 with 1 Axes>"
      ]
     },
     "metadata": {
      "needs_background": "light"
     },
     "output_type": "display_data"
    }
   ],
   "source": [
    "sns.distplot(data_rfe[\"out_prncp\"])"
   ]
  },
  {
   "cell_type": "code",
   "execution_count": null,
   "id": "6e8119a2",
   "metadata": {},
   "outputs": [],
   "source": [
    "#for recoveries"
   ]
  },
  {
   "cell_type": "code",
   "execution_count": 262,
   "id": "9e4cc7c6",
   "metadata": {},
   "outputs": [
    {
     "data": {
      "image/png": "[encoded data removed]",
      "text/plain": [
       "<Figure size 432x288 with 1 Axes>"
      ]
     },
     "metadata": {
      "needs_background": "light"
     },
     "output_type": "display_data"
    }
   ],
   "source": [
    "box17=data_rfe.boxplot(column=\"recoveries\",showmeans=True)"
   ]
  },
  {
   "cell_type": "code",
   "execution_count": 263,
   "id": "4bed9567",
   "metadata": {},
   "outputs": [
    {
     "data": {
      "text/plain": [
       "<AxesSubplot:xlabel='recoveries', ylabel='Density'>"
      ]
     },
     "execution_count": 263,
     "metadata": {},
     "output_type": "execute_result"
    },
    {
     "data": {
      "image/png": "[encoded data removed]",
      "text/plain": [
       "<Figure size 432x288 with 1 Axes>"
      ]
     },
     "metadata": {
      "needs_background": "light"
     },
     "output_type": "display_data"
    }
   ],
   "source": [
    "sns.distplot(data_rfe[\"recoveries\"])"
   ]
  },
  {
   "cell_type": "code",
   "execution_count": 264,
   "id": "261b4f60",
   "metadata": {},
   "outputs": [
    {
     "data": {
      "text/plain": [
       "113.495"
      ]
     },
     "execution_count": 264,
     "metadata": {},
     "output_type": "execute_result"
    }
   ],
   "source": [
    "iqr17=data_rfe.recoveries.quantile(0.75)-data_rfe.recoveries.quantile(0.25)\n",
    "iqr17"
   ]
  },
  {
   "cell_type": "code",
   "execution_count": 265,
   "id": "ce188c83",
   "metadata": {},
   "outputs": [
    {
     "name": "stdout",
     "output_type": "stream",
     "text": [
      "453.98 -340.485\n"
     ]
    }
   ],
   "source": [
    "u17=data_rfe[\"recoveries\"].quantile(0.75)+3*iqr17\n",
    "l17=data_rfe[\"recoveries\"].quantile(0.25)-3*iqr17\n",
    "print(u17,l17)"
   ]
  },
  {
   "cell_type": "code",
   "execution_count": 266,
   "id": "672a104e",
   "metadata": {},
   "outputs": [],
   "source": [
    "data_rfe.loc[data_rfe[\"recoveries\"]>453.98,\"recoveries\"]=453.98"
   ]
  },
  {
   "cell_type": "code",
   "execution_count": 267,
   "id": "a8b52b2b",
   "metadata": {},
   "outputs": [
    {
     "data": {
      "image/png": "[encoded data removed]",
      "text/plain": [
       "<Figure size 432x288 with 1 Axes>"
      ]
     },
     "metadata": {
      "needs_background": "light"
     },
     "output_type": "display_data"
    }
   ],
   "source": [
    "box17=data_rfe.boxplot(column=\"recoveries\",showmeans=True)"
   ]
  },
  {
   "cell_type": "code",
   "execution_count": 268,
   "id": "57fc014e",
   "metadata": {},
   "outputs": [
    {
     "data": {
      "text/plain": [
       "<AxesSubplot:xlabel='recoveries', ylabel='Density'>"
      ]
     },
     "execution_count": 268,
     "metadata": {},
     "output_type": "execute_result"
    },
    {
     "data": {
      "image/png": "[encoded data removed]",
      "text/plain": [
       "<Figure size 432x288 with 1 Axes>"
      ]
     },
     "metadata": {
      "needs_background": "light"
     },
     "output_type": "display_data"
    }
   ],
   "source": [
    "sns.distplot(data_rfe[\"recoveries\"])"
   ]
  },
  {
   "cell_type": "markdown",
   "id": "65633d37",
   "metadata": {},
   "source": [
    "# skewness"
   ]
  },
  {
   "cell_type": "code",
   "execution_count": 276,
   "id": "5ae3a9e5",
   "metadata": {},
   "outputs": [
    {
     "data": {
      "text/html": [
       "<div>\n",
       "<style scoped>\n",
       "    .dataframe tbody tr th:only-of-type {\n",
       "        vertical-align: middle;\n",
       "    }\n",
       "\n",
       "    .dataframe tbody tr th {\n",
       "        vertical-align: top;\n",
       "    }\n",
       "\n",
       "    .dataframe thead th {\n",
       "        text-align: right;\n",
       "    }\n",
       "</style>\n",
       "<table border=\"1\" class=\"dataframe\">\n",
       "  <thead>\n",
       "    <tr style=\"text-align: right;\">\n",
       "      <th></th>\n",
       "      <th>id</th>\n",
       "      <th>member_id</th>\n",
       "      <th>loan_amnt</th>\n",
       "      <th>funded_amnt</th>\n",
       "      <th>funded_amnt_inv</th>\n",
       "      <th>int_rate</th>\n",
       "      <th>installment</th>\n",
       "      <th>emp_title</th>\n",
       "      <th>annual_inc</th>\n",
       "      <th>title</th>\n",
       "      <th>...</th>\n",
       "      <th>out_prncp</th>\n",
       "      <th>total_pymnt</th>\n",
       "      <th>total_pymnt_inv</th>\n",
       "      <th>total_rec_prncp</th>\n",
       "      <th>total_rec_int</th>\n",
       "      <th>recoveries</th>\n",
       "      <th>last_pymnt_d</th>\n",
       "      <th>last_pymnt_amnt</th>\n",
       "      <th>total_rev_hi_lim</th>\n",
       "      <th>default_ind</th>\n",
       "    </tr>\n",
       "  </thead>\n",
       "  <tbody>\n",
       "    <tr>\n",
       "      <th>id</th>\n",
       "      <td>1.000000</td>\n",
       "      <td>0.997361</td>\n",
       "      <td>0.052847</td>\n",
       "      <td>0.056951</td>\n",
       "      <td>0.066861</td>\n",
       "      <td>-0.036173</td>\n",
       "      <td>0.035050</td>\n",
       "      <td>0.027811</td>\n",
       "      <td>0.055301</td>\n",
       "      <td>-0.284075</td>\n",
       "      <td>...</td>\n",
       "      <td>0.446622</td>\n",
       "      <td>-0.216484</td>\n",
       "      <td>-0.201540</td>\n",
       "      <td>-0.169677</td>\n",
       "      <td>-0.157270</td>\n",
       "      <td>-0.223376</td>\n",
       "      <td>-0.118316</td>\n",
       "      <td>-0.054357</td>\n",
       "      <td>-0.029019</td>\n",
       "      <td>-0.222413</td>\n",
       "    </tr>\n",
       "    <tr>\n",
       "      <th>member_id</th>\n",
       "      <td>0.997361</td>\n",
       "      <td>1.000000</td>\n",
       "      <td>0.055319</td>\n",
       "      <td>0.059570</td>\n",
       "      <td>0.069877</td>\n",
       "      <td>-0.033739</td>\n",
       "      <td>0.037661</td>\n",
       "      <td>0.028275</td>\n",
       "      <td>0.056319</td>\n",
       "      <td>-0.285989</td>\n",
       "      <td>...</td>\n",
       "      <td>0.448668</td>\n",
       "      <td>-0.214420</td>\n",
       "      <td>-0.199261</td>\n",
       "      <td>-0.168198</td>\n",
       "      <td>-0.155021</td>\n",
       "      <td>-0.224350</td>\n",
       "      <td>-0.119236</td>\n",
       "      <td>-0.052382</td>\n",
       "      <td>-0.031500</td>\n",
       "      <td>-0.223380</td>\n",
       "    </tr>\n",
       "    <tr>\n",
       "      <th>loan_amnt</th>\n",
       "      <td>0.052847</td>\n",
       "      <td>0.055319</td>\n",
       "      <td>1.000000</td>\n",
       "      <td>0.998073</td>\n",
       "      <td>0.991858</td>\n",
       "      <td>0.209227</td>\n",
       "      <td>0.948271</td>\n",
       "      <td>-0.039266</td>\n",
       "      <td>0.493665</td>\n",
       "      <td>-0.117894</td>\n",
       "      <td>...</td>\n",
       "      <td>0.224184</td>\n",
       "      <td>0.659481</td>\n",
       "      <td>0.660251</td>\n",
       "      <td>0.478571</td>\n",
       "      <td>0.713136</td>\n",
       "      <td>0.071047</td>\n",
       "      <td>-0.015170</td>\n",
       "      <td>0.233238</td>\n",
       "      <td>0.380247</td>\n",
       "      <td>0.012625</td>\n",
       "    </tr>\n",
       "    <tr>\n",
       "      <th>funded_amnt</th>\n",
       "      <td>0.056951</td>\n",
       "      <td>0.059570</td>\n",
       "      <td>0.998073</td>\n",
       "      <td>1.000000</td>\n",
       "      <td>0.994232</td>\n",
       "      <td>0.210089</td>\n",
       "      <td>0.951139</td>\n",
       "      <td>-0.039346</td>\n",
       "      <td>0.492889</td>\n",
       "      <td>-0.119360</td>\n",
       "      <td>...</td>\n",
       "      <td>0.226799</td>\n",
       "      <td>0.659884</td>\n",
       "      <td>0.661115</td>\n",
       "      <td>0.479255</td>\n",
       "      <td>0.713087</td>\n",
       "      <td>0.069977</td>\n",
       "      <td>-0.015463</td>\n",
       "      <td>0.234171</td>\n",
       "      <td>0.379949</td>\n",
       "      <td>0.010964</td>\n",
       "    </tr>\n",
       "    <tr>\n",
       "      <th>funded_amnt_inv</th>\n",
       "      <td>0.066861</td>\n",
       "      <td>0.069877</td>\n",
       "      <td>0.991858</td>\n",
       "      <td>0.994232</td>\n",
       "      <td>1.000000</td>\n",
       "      <td>0.213109</td>\n",
       "      <td>0.944937</td>\n",
       "      <td>-0.038062</td>\n",
       "      <td>0.489326</td>\n",
       "      <td>-0.123710</td>\n",
       "      <td>...</td>\n",
       "      <td>0.231666</td>\n",
       "      <td>0.656305</td>\n",
       "      <td>0.665220</td>\n",
       "      <td>0.476192</td>\n",
       "      <td>0.711473</td>\n",
       "      <td>0.067391</td>\n",
       "      <td>-0.015775</td>\n",
       "      <td>0.234014</td>\n",
       "      <td>0.376169</td>\n",
       "      <td>0.006368</td>\n",
       "    </tr>\n",
       "    <tr>\n",
       "      <th>int_rate</th>\n",
       "      <td>-0.036173</td>\n",
       "      <td>-0.033739</td>\n",
       "      <td>0.209227</td>\n",
       "      <td>0.210089</td>\n",
       "      <td>0.213109</td>\n",
       "      <td>1.000000</td>\n",
       "      <td>0.195408</td>\n",
       "      <td>0.019318</td>\n",
       "      <td>-0.037015</td>\n",
       "      <td>0.033399</td>\n",
       "      <td>...</td>\n",
       "      <td>-0.079906</td>\n",
       "      <td>0.040899</td>\n",
       "      <td>0.048070</td>\n",
       "      <td>-0.145470</td>\n",
       "      <td>0.427389</td>\n",
       "      <td>0.218997</td>\n",
       "      <td>0.030107</td>\n",
       "      <td>-0.056796</td>\n",
       "      <td>-0.192474</td>\n",
       "      <td>0.275447</td>\n",
       "    </tr>\n",
       "    <tr>\n",
       "      <th>installment</th>\n",
       "      <td>0.035050</td>\n",
       "      <td>0.037661</td>\n",
       "      <td>0.948271</td>\n",
       "      <td>0.951139</td>\n",
       "      <td>0.944937</td>\n",
       "      <td>0.195408</td>\n",
       "      <td>1.000000</td>\n",
       "      <td>-0.035757</td>\n",
       "      <td>0.482816</td>\n",
       "      <td>-0.109808</td>\n",
       "      <td>...</td>\n",
       "      <td>0.172924</td>\n",
       "      <td>0.671620</td>\n",
       "      <td>0.673540</td>\n",
       "      <td>0.523103</td>\n",
       "      <td>0.643620</td>\n",
       "      <td>0.077922</td>\n",
       "      <td>-0.007379</td>\n",
       "      <td>0.260192</td>\n",
       "      <td>0.341529</td>\n",
       "      <td>0.017685</td>\n",
       "    </tr>\n",
       "    <tr>\n",
       "      <th>emp_title</th>\n",
       "      <td>0.027811</td>\n",
       "      <td>0.028275</td>\n",
       "      <td>-0.039266</td>\n",
       "      <td>-0.039346</td>\n",
       "      <td>-0.038062</td>\n",
       "      <td>0.019318</td>\n",
       "      <td>-0.035757</td>\n",
       "      <td>1.000000</td>\n",
       "      <td>-0.055757</td>\n",
       "      <td>0.130185</td>\n",
       "      <td>...</td>\n",
       "      <td>-0.008719</td>\n",
       "      <td>-0.062176</td>\n",
       "      <td>-0.060742</td>\n",
       "      <td>-0.059671</td>\n",
       "      <td>-0.041003</td>\n",
       "      <td>0.016008</td>\n",
       "      <td>-0.001890</td>\n",
       "      <td>-0.036909</td>\n",
       "      <td>-0.038536</td>\n",
       "      <td>0.036884</td>\n",
       "    </tr>\n",
       "    <tr>\n",
       "      <th>annual_inc</th>\n",
       "      <td>0.055301</td>\n",
       "      <td>0.056319</td>\n",
       "      <td>0.493665</td>\n",
       "      <td>0.492889</td>\n",
       "      <td>0.489326</td>\n",
       "      <td>-0.037015</td>\n",
       "      <td>0.482816</td>\n",
       "      <td>-0.055757</td>\n",
       "      <td>1.000000</td>\n",
       "      <td>-0.081019</td>\n",
       "      <td>...</td>\n",
       "      <td>0.142087</td>\n",
       "      <td>0.383033</td>\n",
       "      <td>0.385711</td>\n",
       "      <td>0.332767</td>\n",
       "      <td>0.303779</td>\n",
       "      <td>-0.025684</td>\n",
       "      <td>-0.017114</td>\n",
       "      <td>0.205112</td>\n",
       "      <td>0.341331</td>\n",
       "      <td>-0.119733</td>\n",
       "    </tr>\n",
       "    <tr>\n",
       "      <th>title</th>\n",
       "      <td>-0.284075</td>\n",
       "      <td>-0.285989</td>\n",
       "      <td>-0.117894</td>\n",
       "      <td>-0.119360</td>\n",
       "      <td>-0.123710</td>\n",
       "      <td>0.033399</td>\n",
       "      <td>-0.109808</td>\n",
       "      <td>0.130185</td>\n",
       "      <td>-0.081019</td>\n",
       "      <td>1.000000</td>\n",
       "      <td>...</td>\n",
       "      <td>-0.175377</td>\n",
       "      <td>-0.034778</td>\n",
       "      <td>-0.038390</td>\n",
       "      <td>-0.035060</td>\n",
       "      <td>-0.028583</td>\n",
       "      <td>0.089371</td>\n",
       "      <td>0.039778</td>\n",
       "      <td>-0.051657</td>\n",
       "      <td>-0.027422</td>\n",
       "      <td>0.113170</td>\n",
       "    </tr>\n",
       "    <tr>\n",
       "      <th>dti</th>\n",
       "      <td>0.128411</td>\n",
       "      <td>0.128680</td>\n",
       "      <td>0.053536</td>\n",
       "      <td>0.055337</td>\n",
       "      <td>0.060761</td>\n",
       "      <td>0.154429</td>\n",
       "      <td>0.050454</td>\n",
       "      <td>0.006863</td>\n",
       "      <td>-0.211431</td>\n",
       "      <td>-0.065349</td>\n",
       "      <td>...</td>\n",
       "      <td>0.056404</td>\n",
       "      <td>-0.038377</td>\n",
       "      <td>-0.035411</td>\n",
       "      <td>-0.076824</td>\n",
       "      <td>0.064786</td>\n",
       "      <td>0.013511</td>\n",
       "      <td>-0.010543</td>\n",
       "      <td>-0.066608</td>\n",
       "      <td>0.090179</td>\n",
       "      <td>0.071199</td>\n",
       "    </tr>\n",
       "    <tr>\n",
       "      <th>earliest_cr_line</th>\n",
       "      <td>0.012647</td>\n",
       "      <td>0.012594</td>\n",
       "      <td>-0.008669</td>\n",
       "      <td>-0.008529</td>\n",
       "      <td>-0.008411</td>\n",
       "      <td>-0.000087</td>\n",
       "      <td>-0.008003</td>\n",
       "      <td>-0.005969</td>\n",
       "      <td>-0.014204</td>\n",
       "      <td>-0.014275</td>\n",
       "      <td>...</td>\n",
       "      <td>0.001831</td>\n",
       "      <td>-0.009990</td>\n",
       "      <td>-0.009501</td>\n",
       "      <td>-0.006274</td>\n",
       "      <td>-0.010330</td>\n",
       "      <td>-0.003574</td>\n",
       "      <td>-0.001500</td>\n",
       "      <td>0.003236</td>\n",
       "      <td>-0.012281</td>\n",
       "      <td>-0.004943</td>\n",
       "    </tr>\n",
       "    <tr>\n",
       "      <th>revol_bal</th>\n",
       "      <td>0.031707</td>\n",
       "      <td>0.032109</td>\n",
       "      <td>0.450159</td>\n",
       "      <td>0.449017</td>\n",
       "      <td>0.445574</td>\n",
       "      <td>0.015062</td>\n",
       "      <td>0.426801</td>\n",
       "      <td>-0.044276</td>\n",
       "      <td>0.419090</td>\n",
       "      <td>-0.078520</td>\n",
       "      <td>...</td>\n",
       "      <td>0.137182</td>\n",
       "      <td>0.314781</td>\n",
       "      <td>0.314479</td>\n",
       "      <td>0.249079</td>\n",
       "      <td>0.301215</td>\n",
       "      <td>-0.013570</td>\n",
       "      <td>-0.012093</td>\n",
       "      <td>0.108900</td>\n",
       "      <td>0.705087</td>\n",
       "      <td>-0.041034</td>\n",
       "    </tr>\n",
       "    <tr>\n",
       "      <th>out_prncp</th>\n",
       "      <td>0.446622</td>\n",
       "      <td>0.448668</td>\n",
       "      <td>0.224184</td>\n",
       "      <td>0.226799</td>\n",
       "      <td>0.231666</td>\n",
       "      <td>-0.079906</td>\n",
       "      <td>0.172924</td>\n",
       "      <td>-0.008719</td>\n",
       "      <td>0.142087</td>\n",
       "      <td>-0.175377</td>\n",
       "      <td>...</td>\n",
       "      <td>1.000000</td>\n",
       "      <td>0.074938</td>\n",
       "      <td>0.067868</td>\n",
       "      <td>0.010638</td>\n",
       "      <td>0.278559</td>\n",
       "      <td>-0.319523</td>\n",
       "      <td>-0.232961</td>\n",
       "      <td>-0.181819</td>\n",
       "      <td>0.109633</td>\n",
       "      <td>-0.517149</td>\n",
       "    </tr>\n",
       "    <tr>\n",
       "      <th>total_pymnt</th>\n",
       "      <td>-0.216484</td>\n",
       "      <td>-0.214420</td>\n",
       "      <td>0.659481</td>\n",
       "      <td>0.659884</td>\n",
       "      <td>0.656305</td>\n",
       "      <td>0.040899</td>\n",
       "      <td>0.671620</td>\n",
       "      <td>-0.062176</td>\n",
       "      <td>0.383033</td>\n",
       "      <td>-0.034778</td>\n",
       "      <td>...</td>\n",
       "      <td>0.074938</td>\n",
       "      <td>1.000000</td>\n",
       "      <td>0.987960</td>\n",
       "      <td>0.915247</td>\n",
       "      <td>0.684633</td>\n",
       "      <td>-0.126766</td>\n",
       "      <td>0.018545</td>\n",
       "      <td>0.538957</td>\n",
       "      <td>0.280528</td>\n",
       "      <td>-0.357407</td>\n",
       "    </tr>\n",
       "    <tr>\n",
       "      <th>total_pymnt_inv</th>\n",
       "      <td>-0.201540</td>\n",
       "      <td>-0.199261</td>\n",
       "      <td>0.660251</td>\n",
       "      <td>0.661115</td>\n",
       "      <td>0.665220</td>\n",
       "      <td>0.048070</td>\n",
       "      <td>0.673540</td>\n",
       "      <td>-0.060742</td>\n",
       "      <td>0.385711</td>\n",
       "      <td>-0.038390</td>\n",
       "      <td>...</td>\n",
       "      <td>0.067868</td>\n",
       "      <td>0.987960</td>\n",
       "      <td>1.000000</td>\n",
       "      <td>0.930497</td>\n",
       "      <td>0.676851</td>\n",
       "      <td>-0.129947</td>\n",
       "      <td>0.020746</td>\n",
       "      <td>0.539469</td>\n",
       "      <td>0.278585</td>\n",
       "      <td>-0.355954</td>\n",
       "    </tr>\n",
       "    <tr>\n",
       "      <th>total_rec_prncp</th>\n",
       "      <td>-0.169677</td>\n",
       "      <td>-0.168198</td>\n",
       "      <td>0.478571</td>\n",
       "      <td>0.479255</td>\n",
       "      <td>0.476192</td>\n",
       "      <td>-0.145470</td>\n",
       "      <td>0.523103</td>\n",
       "      <td>-0.059671</td>\n",
       "      <td>0.332767</td>\n",
       "      <td>-0.035060</td>\n",
       "      <td>...</td>\n",
       "      <td>0.010638</td>\n",
       "      <td>0.915247</td>\n",
       "      <td>0.930497</td>\n",
       "      <td>1.000000</td>\n",
       "      <td>0.420287</td>\n",
       "      <td>-0.278023</td>\n",
       "      <td>0.029082</td>\n",
       "      <td>0.620257</td>\n",
       "      <td>0.254158</td>\n",
       "      <td>-0.468841</td>\n",
       "    </tr>\n",
       "    <tr>\n",
       "      <th>total_rec_int</th>\n",
       "      <td>-0.157270</td>\n",
       "      <td>-0.155021</td>\n",
       "      <td>0.713136</td>\n",
       "      <td>0.713087</td>\n",
       "      <td>0.711473</td>\n",
       "      <td>0.427389</td>\n",
       "      <td>0.643620</td>\n",
       "      <td>-0.041003</td>\n",
       "      <td>0.303779</td>\n",
       "      <td>-0.028583</td>\n",
       "      <td>...</td>\n",
       "      <td>0.278559</td>\n",
       "      <td>0.684633</td>\n",
       "      <td>0.676851</td>\n",
       "      <td>0.420287</td>\n",
       "      <td>1.000000</td>\n",
       "      <td>-0.019591</td>\n",
       "      <td>-0.035128</td>\n",
       "      <td>0.112890</td>\n",
       "      <td>0.192657</td>\n",
       "      <td>-0.071027</td>\n",
       "    </tr>\n",
       "    <tr>\n",
       "      <th>recoveries</th>\n",
       "      <td>-0.223376</td>\n",
       "      <td>-0.224350</td>\n",
       "      <td>0.071047</td>\n",
       "      <td>0.069977</td>\n",
       "      <td>0.067391</td>\n",
       "      <td>0.218997</td>\n",
       "      <td>0.077922</td>\n",
       "      <td>0.016008</td>\n",
       "      <td>-0.025684</td>\n",
       "      <td>0.089371</td>\n",
       "      <td>...</td>\n",
       "      <td>-0.319523</td>\n",
       "      <td>-0.126766</td>\n",
       "      <td>-0.129947</td>\n",
       "      <td>-0.278023</td>\n",
       "      <td>-0.019591</td>\n",
       "      <td>1.000000</td>\n",
       "      <td>0.083373</td>\n",
       "      <td>-0.226897</td>\n",
       "      <td>-0.030464</td>\n",
       "      <td>0.571764</td>\n",
       "    </tr>\n",
       "    <tr>\n",
       "      <th>last_pymnt_d</th>\n",
       "      <td>-0.118316</td>\n",
       "      <td>-0.119236</td>\n",
       "      <td>-0.015170</td>\n",
       "      <td>-0.015463</td>\n",
       "      <td>-0.015775</td>\n",
       "      <td>0.030107</td>\n",
       "      <td>-0.007379</td>\n",
       "      <td>-0.001890</td>\n",
       "      <td>-0.017114</td>\n",
       "      <td>0.039778</td>\n",
       "      <td>...</td>\n",
       "      <td>-0.232961</td>\n",
       "      <td>0.018545</td>\n",
       "      <td>0.020746</td>\n",
       "      <td>0.029082</td>\n",
       "      <td>-0.035128</td>\n",
       "      <td>0.083373</td>\n",
       "      <td>1.000000</td>\n",
       "      <td>0.093780</td>\n",
       "      <td>-0.006840</td>\n",
       "      <td>0.122785</td>\n",
       "    </tr>\n",
       "    <tr>\n",
       "      <th>last_pymnt_amnt</th>\n",
       "      <td>-0.054357</td>\n",
       "      <td>-0.052382</td>\n",
       "      <td>0.233238</td>\n",
       "      <td>0.234171</td>\n",
       "      <td>0.234014</td>\n",
       "      <td>-0.056796</td>\n",
       "      <td>0.260192</td>\n",
       "      <td>-0.036909</td>\n",
       "      <td>0.205112</td>\n",
       "      <td>-0.051657</td>\n",
       "      <td>...</td>\n",
       "      <td>-0.181819</td>\n",
       "      <td>0.538957</td>\n",
       "      <td>0.539469</td>\n",
       "      <td>0.620257</td>\n",
       "      <td>0.112890</td>\n",
       "      <td>-0.226897</td>\n",
       "      <td>0.093780</td>\n",
       "      <td>1.000000</td>\n",
       "      <td>0.113066</td>\n",
       "      <td>-0.416807</td>\n",
       "    </tr>\n",
       "    <tr>\n",
       "      <th>total_rev_hi_lim</th>\n",
       "      <td>-0.029019</td>\n",
       "      <td>-0.031500</td>\n",
       "      <td>0.380247</td>\n",
       "      <td>0.379949</td>\n",
       "      <td>0.376169</td>\n",
       "      <td>-0.192474</td>\n",
       "      <td>0.341529</td>\n",
       "      <td>-0.038536</td>\n",
       "      <td>0.341331</td>\n",
       "      <td>-0.027422</td>\n",
       "      <td>...</td>\n",
       "      <td>0.109633</td>\n",
       "      <td>0.280528</td>\n",
       "      <td>0.278585</td>\n",
       "      <td>0.254158</td>\n",
       "      <td>0.192657</td>\n",
       "      <td>-0.030464</td>\n",
       "      <td>-0.006840</td>\n",
       "      <td>0.113066</td>\n",
       "      <td>1.000000</td>\n",
       "      <td>-0.064910</td>\n",
       "    </tr>\n",
       "    <tr>\n",
       "      <th>default_ind</th>\n",
       "      <td>-0.222413</td>\n",
       "      <td>-0.223380</td>\n",
       "      <td>0.012625</td>\n",
       "      <td>0.010964</td>\n",
       "      <td>0.006368</td>\n",
       "      <td>0.275447</td>\n",
       "      <td>0.017685</td>\n",
       "      <td>0.036884</td>\n",
       "      <td>-0.119733</td>\n",
       "      <td>0.113170</td>\n",
       "      <td>...</td>\n",
       "      <td>-0.517149</td>\n",
       "      <td>-0.357407</td>\n",
       "      <td>-0.355954</td>\n",
       "      <td>-0.468841</td>\n",
       "      <td>-0.071027</td>\n",
       "      <td>0.571764</td>\n",
       "      <td>0.122785</td>\n",
       "      <td>-0.416807</td>\n",
       "      <td>-0.064910</td>\n",
       "      <td>1.000000</td>\n",
       "    </tr>\n",
       "  </tbody>\n",
       "</table>\n",
       "<p>23 rows × 23 columns</p>\n",
       "</div>"
      ],
      "text/plain": [
       "                        id  member_id  loan_amnt  funded_amnt  \\\n",
       "id                1.000000   0.997361   0.052847     0.056951   \n",
       "member_id         0.997361   1.000000   0.055319     0.059570   \n",
       "loan_amnt         0.052847   0.055319   1.000000     0.998073   \n",
       "funded_amnt       0.056951   0.059570   0.998073     1.000000   \n",
       "funded_amnt_inv   0.066861   0.069877   0.991858     0.994232   \n",
       "int_rate         -0.036173  -0.033739   0.209227     0.210089   \n",
       "installment       0.035050   0.037661   0.948271     0.951139   \n",
       "emp_title         0.027811   0.028275  -0.039266    -0.039346   \n",
       "annual_inc        0.055301   0.056319   0.493665     0.492889   \n",
       "title            -0.284075  -0.285989  -0.117894    -0.119360   \n",
       "dti               0.128411   0.128680   0.053536     0.055337   \n",
       "earliest_cr_line  0.012647   0.012594  -0.008669    -0.008529   \n",
       "revol_bal         0.031707   0.032109   0.450159     0.449017   \n",
       "out_prncp         0.446622   0.448668   0.224184     0.226799   \n",
       "total_pymnt      -0.216484  -0.214420   0.659481     0.659884   \n",
       "total_pymnt_inv  -0.201540  -0.199261   0.660251     0.661115   \n",
       "total_rec_prncp  -0.169677  -0.168198   0.478571     0.479255   \n",
       "total_rec_int    -0.157270  -0.155021   0.713136     0.713087   \n",
       "recoveries       -0.223376  -0.224350   0.071047     0.069977   \n",
       "last_pymnt_d     -0.118316  -0.119236  -0.015170    -0.015463   \n",
       "last_pymnt_amnt  -0.054357  -0.052382   0.233238     0.234171   \n",
       "total_rev_hi_lim -0.029019  -0.031500   0.380247     0.379949   \n",
       "default_ind      -0.222413  -0.223380   0.012625     0.010964   \n",
       "\n",
       "                  funded_amnt_inv  int_rate  installment  emp_title  \\\n",
       "id                       0.066861 -0.036173     0.035050   0.027811   \n",
       "member_id                0.069877 -0.033739     0.037661   0.028275   \n",
       "loan_amnt                0.991858  0.209227     0.948271  -0.039266   \n",
       "funded_amnt              0.994232  0.210089     0.951139  -0.039346   \n",
       "funded_amnt_inv          1.000000  0.213109     0.944937  -0.038062   \n",
       "int_rate                 0.213109  1.000000     0.195408   0.019318   \n",
       "installment              0.944937  0.195408     1.000000  -0.035757   \n",
       "emp_title               -0.038062  0.019318    -0.035757   1.000000   \n",
       "annual_inc               0.489326 -0.037015     0.482816  -0.055757   \n",
       "title                   -0.123710  0.033399    -0.109808   0.130185   \n",
       "dti                      0.060761  0.154429     0.050454   0.006863   \n",
       "earliest_cr_line        -0.008411 -0.000087    -0.008003  -0.005969   \n",
       "revol_bal                0.445574  0.015062     0.426801  -0.044276   \n",
       "out_prncp                0.231666 -0.079906     0.172924  -0.008719   \n",
       "total_pymnt              0.656305  0.040899     0.671620  -0.062176   \n",
       "total_pymnt_inv          0.665220  0.048070     0.673540  -0.060742   \n",
       "total_rec_prncp          0.476192 -0.145470     0.523103  -0.059671   \n",
       "total_rec_int            0.711473  0.427389     0.643620  -0.041003   \n",
       "recoveries               0.067391  0.218997     0.077922   0.016008   \n",
       "last_pymnt_d            -0.015775  0.030107    -0.007379  -0.001890   \n",
       "last_pymnt_amnt          0.234014 -0.056796     0.260192  -0.036909   \n",
       "total_rev_hi_lim         0.376169 -0.192474     0.341529  -0.038536   \n",
       "default_ind              0.006368  0.275447     0.017685   0.036884   \n",
       "\n",
       "                  annual_inc     title  ...  out_prncp  total_pymnt  \\\n",
       "id                  0.055301 -0.284075  ...   0.446622    -0.216484   \n",
       "member_id           0.056319 -0.285989  ...   0.448668    -0.214420   \n",
       "loan_amnt           0.493665 -0.117894  ...   0.224184     0.659481   \n",
       "funded_amnt         0.492889 -0.119360  ...   0.226799     0.659884   \n",
       "funded_amnt_inv     0.489326 -0.123710  ...   0.231666     0.656305   \n",
       "int_rate           -0.037015  0.033399  ...  -0.079906     0.040899   \n",
       "installment         0.482816 -0.109808  ...   0.172924     0.671620   \n",
       "emp_title          -0.055757  0.130185  ...  -0.008719    -0.062176   \n",
       "annual_inc          1.000000 -0.081019  ...   0.142087     0.383033   \n",
       "title              -0.081019  1.000000  ...  -0.175377    -0.034778   \n",
       "dti                -0.211431 -0.065349  ...   0.056404    -0.038377   \n",
       "earliest_cr_line   -0.014204 -0.014275  ...   0.001831    -0.009990   \n",
       "revol_bal           0.419090 -0.078520  ...   0.137182     0.314781   \n",
       "out_prncp           0.142087 -0.175377  ...   1.000000     0.074938   \n",
       "total_pymnt         0.383033 -0.034778  ...   0.074938     1.000000   \n",
       "total_pymnt_inv     0.385711 -0.038390  ...   0.067868     0.987960   \n",
       "total_rec_prncp     0.332767 -0.035060  ...   0.010638     0.915247   \n",
       "total_rec_int       0.303779 -0.028583  ...   0.278559     0.684633   \n",
       "recoveries         -0.025684  0.089371  ...  -0.319523    -0.126766   \n",
       "last_pymnt_d       -0.017114  0.039778  ...  -0.232961     0.018545   \n",
       "last_pymnt_amnt     0.205112 -0.051657  ...  -0.181819     0.538957   \n",
       "total_rev_hi_lim    0.341331 -0.027422  ...   0.109633     0.280528   \n",
       "default_ind        -0.119733  0.113170  ...  -0.517149    -0.357407   \n",
       "\n",
       "                  total_pymnt_inv  total_rec_prncp  total_rec_int  recoveries  \\\n",
       "id                      -0.201540        -0.169677      -0.157270   -0.223376   \n",
       "member_id               -0.199261        -0.168198      -0.155021   -0.224350   \n",
       "loan_amnt                0.660251         0.478571       0.713136    0.071047   \n",
       "funded_amnt              0.661115         0.479255       0.713087    0.069977   \n",
       "funded_amnt_inv          0.665220         0.476192       0.711473    0.067391   \n",
       "int_rate                 0.048070        -0.145470       0.427389    0.218997   \n",
       "installment              0.673540         0.523103       0.643620    0.077922   \n",
       "emp_title               -0.060742        -0.059671      -0.041003    0.016008   \n",
       "annual_inc               0.385711         0.332767       0.303779   -0.025684   \n",
       "title                   -0.038390        -0.035060      -0.028583    0.089371   \n",
       "dti                     -0.035411        -0.076824       0.064786    0.013511   \n",
       "earliest_cr_line        -0.009501        -0.006274      -0.010330   -0.003574   \n",
       "revol_bal                0.314479         0.249079       0.301215   -0.013570   \n",
       "out_prncp                0.067868         0.010638       0.278559   -0.319523   \n",
       "total_pymnt              0.987960         0.915247       0.684633   -0.126766   \n",
       "total_pymnt_inv          1.000000         0.930497       0.676851   -0.129947   \n",
       "total_rec_prncp          0.930497         1.000000       0.420287   -0.278023   \n",
       "total_rec_int            0.676851         0.420287       1.000000   -0.019591   \n",
       "recoveries              -0.129947        -0.278023      -0.019591    1.000000   \n",
       "last_pymnt_d             0.020746         0.029082      -0.035128    0.083373   \n",
       "last_pymnt_amnt          0.539469         0.620257       0.112890   -0.226897   \n",
       "total_rev_hi_lim         0.278585         0.254158       0.192657   -0.030464   \n",
       "default_ind             -0.355954        -0.468841      -0.071027    0.571764   \n",
       "\n",
       "                  last_pymnt_d  last_pymnt_amnt  total_rev_hi_lim  default_ind  \n",
       "id                   -0.118316        -0.054357         -0.029019    -0.222413  \n",
       "member_id            -0.119236        -0.052382         -0.031500    -0.223380  \n",
       "loan_amnt            -0.015170         0.233238          0.380247     0.012625  \n",
       "funded_amnt          -0.015463         0.234171          0.379949     0.010964  \n",
       "funded_amnt_inv      -0.015775         0.234014          0.376169     0.006368  \n",
       "int_rate              0.030107        -0.056796         -0.192474     0.275447  \n",
       "installment          -0.007379         0.260192          0.341529     0.017685  \n",
       "emp_title            -0.001890        -0.036909         -0.038536     0.036884  \n",
       "annual_inc           -0.017114         0.205112          0.341331    -0.119733  \n",
       "title                 0.039778        -0.051657         -0.027422     0.113170  \n",
       "dti                  -0.010543        -0.066608          0.090179     0.071199  \n",
       "earliest_cr_line     -0.001500         0.003236         -0.012281    -0.004943  \n",
       "revol_bal            -0.012093         0.108900          0.705087    -0.041034  \n",
       "out_prncp            -0.232961        -0.181819          0.109633    -0.517149  \n",
       "total_pymnt           0.018545         0.538957          0.280528    -0.357407  \n",
       "total_pymnt_inv       0.020746         0.539469          0.278585    -0.355954  \n",
       "total_rec_prncp       0.029082         0.620257          0.254158    -0.468841  \n",
       "total_rec_int        -0.035128         0.112890          0.192657    -0.071027  \n",
       "recoveries            0.083373        -0.226897         -0.030464     0.571764  \n",
       "last_pymnt_d          1.000000         0.093780         -0.006840     0.122785  \n",
       "last_pymnt_amnt       0.093780         1.000000          0.113066    -0.416807  \n",
       "total_rev_hi_lim     -0.006840         0.113066          1.000000    -0.064910  \n",
       "default_ind           0.122785        -0.416807         -0.064910     1.000000  \n",
       "\n",
       "[23 rows x 23 columns]"
      ]
     },
     "execution_count": 276,
     "metadata": {},
     "output_type": "execute_result"
    }
   ],
   "source": [
    "data_rfe.corr()"
   ]
  },
  {
   "cell_type": "code",
   "execution_count": 277,
   "id": "4a55c890",
   "metadata": {},
   "outputs": [
    {
     "data": {
      "text/plain": [
       "id                  1.331581\n",
       "member_id           1.247434\n",
       "loan_amnt           0.712793\n",
       "funded_amnt         0.717280\n",
       "funded_amnt_inv     0.716330\n",
       "int_rate            0.213545\n",
       "installment         0.936728\n",
       "emp_title          -0.165903\n",
       "annual_inc          1.498611\n",
       "title               1.134186\n",
       "dti                 0.118313\n",
       "earliest_cr_line   -0.029265\n",
       "revol_bal           1.576566\n",
       "out_prncp           1.448148\n",
       "total_pymnt         1.249715\n",
       "total_pymnt_inv     1.489740\n",
       "total_rec_prncp     1.870059\n",
       "total_rec_int       1.643873\n",
       "recoveries          1.239227\n",
       "last_pymnt_d        0.364249\n",
       "last_pymnt_amnt     1.434128\n",
       "total_rev_hi_lim    0.704857\n",
       "default_ind         0.000000\n",
       "dtype: float64"
      ]
     },
     "execution_count": 277,
     "metadata": {},
     "output_type": "execute_result"
    }
   ],
   "source": [
    "data_rfe.skew()"
   ]
  },
  {
   "cell_type": "code",
   "execution_count": null,
   "id": "faa94416",
   "metadata": {},
   "outputs": [],
   "source": [
    "#ML models"
   ]
  },
  {
   "cell_type": "markdown",
   "id": "83f0087d",
   "metadata": {},
   "source": [
    "# Logistic regression  EDA"
   ]
  },
  {
   "cell_type": "code",
   "execution_count": 299,
   "id": "c45d516e",
   "metadata": {},
   "outputs": [],
   "source": [
    "#lg.fit(xrfe_train,yrfe_train)"
   ]
  },
  {
   "cell_type": "code",
   "execution_count": 300,
   "id": "c686ab61",
   "metadata": {},
   "outputs": [],
   "source": [
    "#lg_rfe=lg.predict(xrfe_test)\n",
    "#lg_rfe"
   ]
  },
  {
   "cell_type": "code",
   "execution_count": 301,
   "id": "e1f8b9fc",
   "metadata": {},
   "outputs": [],
   "source": [
    "#c_rfe=confusion_matrix(lg_rfe,yrfe_test)\n",
    "#c_rfe"
   ]
  },
  {
   "cell_type": "code",
   "execution_count": 302,
   "id": "d781732f",
   "metadata": {},
   "outputs": [],
   "source": [
    "#Ac_rfe=c_rfe.diagonal().sum()/c_rfe.sum()*100  #99 % accuracy\n",
    "#Ac_rfe"
   ]
  },
  {
   "cell_type": "code",
   "execution_count": 303,
   "id": "d65ffd07",
   "metadata": {},
   "outputs": [],
   "source": [
    "#print(classification_report(lg_rfe,yrfe_test)) "
   ]
  },
  {
   "cell_type": "markdown",
   "id": "d623ac4f",
   "metadata": {},
   "source": [
    "# Naive bayes with  EDA"
   ]
  },
  {
   "cell_type": "code",
   "execution_count": 285,
   "id": "10276b72",
   "metadata": {},
   "outputs": [
    {
     "data": {
      "text/html": [
       "<style>#sk-container-id-15 {color: black;background-color: white;}#sk-container-id-15 pre{padding: 0;}#sk-container-id-15 div.sk-toggleable {background-color: white;}#sk-container-id-15 label.sk-toggleable__label {cursor: pointer;display: block;width: 100%;margin-bottom: 0;padding: 0.3em;box-sizing: border-box;text-align: center;}#sk-container-id-15 label.sk-toggleable__label-arrow:before {content: \"▸\";float: left;margin-right: 0.25em;color: #696969;}#sk-container-id-15 label.sk-toggleable__label-arrow:hover:before {color: black;}#sk-container-id-15 div.sk-estimator:hover label.sk-toggleable__label-arrow:before {color: black;}#sk-container-id-15 div.sk-toggleable__content {max-height: 0;max-width: 0;overflow: hidden;text-align: left;background-color: #f0f8ff;}#sk-container-id-15 div.sk-toggleable__content pre {margin: 0.2em;color: black;border-radius: 0.25em;background-color: #f0f8ff;}#sk-container-id-15 input.sk-toggleable__control:checked~div.sk-toggleable__content {max-height: 200px;max-width: 100%;overflow: auto;}#sk-container-id-15 input.sk-toggleable__control:checked~label.sk-toggleable__label-arrow:before {content: \"▾\";}#sk-container-id-15 div.sk-estimator input.sk-toggleable__control:checked~label.sk-toggleable__label {background-color: #d4ebff;}#sk-container-id-15 div.sk-label input.sk-toggleable__control:checked~label.sk-toggleable__label {background-color: #d4ebff;}#sk-container-id-15 input.sk-hidden--visually {border: 0;clip: rect(1px 1px 1px 1px);clip: rect(1px, 1px, 1px, 1px);height: 1px;margin: -1px;overflow: hidden;padding: 0;position: absolute;width: 1px;}#sk-container-id-15 div.sk-estimator {font-family: monospace;background-color: #f0f8ff;border: 1px dotted black;border-radius: 0.25em;box-sizing: border-box;margin-bottom: 0.5em;}#sk-container-id-15 div.sk-estimator:hover {background-color: #d4ebff;}#sk-container-id-15 div.sk-parallel-item::after {content: \"\";width: 100%;border-bottom: 1px solid gray;flex-grow: 1;}#sk-container-id-15 div.sk-label:hover label.sk-toggleable__label {background-color: #d4ebff;}#sk-container-id-15 div.sk-serial::before {content: \"\";position: absolute;border-left: 1px solid gray;box-sizing: border-box;top: 0;bottom: 0;left: 50%;z-index: 0;}#sk-container-id-15 div.sk-serial {display: flex;flex-direction: column;align-items: center;background-color: white;padding-right: 0.2em;padding-left: 0.2em;position: relative;}#sk-container-id-15 div.sk-item {position: relative;z-index: 1;}#sk-container-id-15 div.sk-parallel {display: flex;align-items: stretch;justify-content: center;background-color: white;position: relative;}#sk-container-id-15 div.sk-item::before, #sk-container-id-15 div.sk-parallel-item::before {content: \"\";position: absolute;border-left: 1px solid gray;box-sizing: border-box;top: 0;bottom: 0;left: 50%;z-index: -1;}#sk-container-id-15 div.sk-parallel-item {display: flex;flex-direction: column;z-index: 1;position: relative;background-color: white;}#sk-container-id-15 div.sk-parallel-item:first-child::after {align-self: flex-end;width: 50%;}#sk-container-id-15 div.sk-parallel-item:last-child::after {align-self: flex-start;width: 50%;}#sk-container-id-15 div.sk-parallel-item:only-child::after {width: 0;}#sk-container-id-15 div.sk-dashed-wrapped {border: 1px dashed gray;margin: 0 0.4em 0.5em 0.4em;box-sizing: border-box;padding-bottom: 0.4em;background-color: white;}#sk-container-id-15 div.sk-label label {font-family: monospace;font-weight: bold;display: inline-block;line-height: 1.2em;}#sk-container-id-15 div.sk-label-container {text-align: center;}#sk-container-id-15 div.sk-container {/* jupyter's `normalize.less` sets `[hidden] { display: none; }` but bootstrap.min.css set `[hidden] { display: none !important; }` so we also need the `!important` here to be able to override the default hidden behavior on the sphinx rendered scikit-learn.org. See: https://github.com/scikit-learn/scikit-learn/issues/21755 */display: inline-block !important;position: relative;}#sk-container-id-15 div.sk-text-repr-fallback {display: none;}</style><div id=\"sk-container-id-15\" class=\"sk-top-container\"><div class=\"sk-text-repr-fallback\"><pre>MultinomialNB()</pre><b>In a Jupyter environment, please rerun this cell to show the HTML representation or trust the notebook. <br />On GitHub, the HTML representation is unable to render, please try loading this page with nbviewer.org.</b></div><div class=\"sk-container\" hidden><div class=\"sk-item\"><div class=\"sk-estimator sk-toggleable\"><input class=\"sk-toggleable__control sk-hidden--visually\" id=\"sk-estimator-id-17\" type=\"checkbox\" checked><label for=\"sk-estimator-id-17\" class=\"sk-toggleable__label sk-toggleable__label-arrow\">MultinomialNB</label><div class=\"sk-toggleable__content\"><pre>MultinomialNB()</pre></div></div></div></div></div>"
      ],
      "text/plain": [
       "MultinomialNB()"
      ]
     },
     "execution_count": 285,
     "metadata": {},
     "output_type": "execute_result"
    }
   ],
   "source": [
    "nb.fit(xrfe_train,yrfe_train)"
   ]
  },
  {
   "cell_type": "code",
   "execution_count": 286,
   "id": "a40fe6a2",
   "metadata": {},
   "outputs": [],
   "source": [
    "ni=nb.predict(xrfe_test)"
   ]
  },
  {
   "cell_type": "code",
   "execution_count": 287,
   "id": "c6da4c04",
   "metadata": {},
   "outputs": [
    {
     "data": {
      "text/plain": [
       "array([[10318,  1189],\n",
       "       [ 2712, 11766]], dtype=int64)"
      ]
     },
     "execution_count": 287,
     "metadata": {},
     "output_type": "execute_result"
    }
   ],
   "source": [
    "n_rfe4=confusion_matrix(ni,yrfe_test)\n",
    "n_rfe4"
   ]
  },
  {
   "cell_type": "code",
   "execution_count": 288,
   "id": "ca539358",
   "metadata": {},
   "outputs": [
    {
     "data": {
      "text/plain": [
       "84.98749278429864"
      ]
     },
     "execution_count": 288,
     "metadata": {},
     "output_type": "execute_result"
    }
   ],
   "source": [
    "acc_rfe4=n_rfe4.diagonal().sum()/n_rfe4.sum()*100\n",
    "acc_rfe4"
   ]
  },
  {
   "cell_type": "code",
   "execution_count": 289,
   "id": "28c78eaf",
   "metadata": {},
   "outputs": [
    {
     "name": "stdout",
     "output_type": "stream",
     "text": [
      "              precision    recall  f1-score   support\n",
      "\n",
      "           0       0.79      0.90      0.84     11507\n",
      "           1       0.91      0.81      0.86     14478\n",
      "\n",
      "    accuracy                           0.85     25985\n",
      "   macro avg       0.85      0.85      0.85     25985\n",
      "weighted avg       0.86      0.85      0.85     25985\n",
      "\n"
     ]
    }
   ],
   "source": [
    "print(classification_report(ni,yrfe_test))"
   ]
  },
  {
   "cell_type": "markdown",
   "id": "ce55819d",
   "metadata": {},
   "source": [
    "# Decision tree with EDA"
   ]
  },
  {
   "cell_type": "code",
   "execution_count": 304,
   "id": "1b80eba3",
   "metadata": {},
   "outputs": [],
   "source": [
    "#dt.fit(xrfe_train,yrfe_train)"
   ]
  },
  {
   "cell_type": "code",
   "execution_count": 305,
   "id": "53d2532d",
   "metadata": {},
   "outputs": [],
   "source": [
    "#dt_rfe1=dt.predict(xrfe_test)\n",
    "#dt_rfe1"
   ]
  },
  {
   "cell_type": "code",
   "execution_count": 306,
   "id": "ff72d3c3",
   "metadata": {},
   "outputs": [],
   "source": [
    "#c_rfe1=confusion_matrix(dt_rfe1,yrfe_test)\n",
    "#c_rfe1"
   ]
  },
  {
   "cell_type": "code",
   "execution_count": 307,
   "id": "696e3e84",
   "metadata": {},
   "outputs": [],
   "source": [
    "#Acc_rfe1=c_rfe1.diagonal().sum()/c_rfe1.sum()*100\n",
    "#Acc_rfe1"
   ]
  },
  {
   "cell_type": "code",
   "execution_count": 308,
   "id": "7e04f9d1",
   "metadata": {},
   "outputs": [],
   "source": [
    "#print(classification_report(dt_rfe1,yrfe_test))"
   ]
  },
  {
   "cell_type": "markdown",
   "id": "477358f2",
   "metadata": {},
   "source": [
    "# Random Forest with  EDA"
   ]
  },
  {
   "cell_type": "code",
   "execution_count": 309,
   "id": "87989628",
   "metadata": {},
   "outputs": [],
   "source": [
    "#rf.fit(xrfe_train,yrfe_train)"
   ]
  },
  {
   "cell_type": "code",
   "execution_count": 310,
   "id": "d92e4f33",
   "metadata": {},
   "outputs": [],
   "source": [
    "#rf_rfe2=rf.predict(xrfe_test)\n",
    "#rf_rfe2"
   ]
  },
  {
   "cell_type": "code",
   "execution_count": 311,
   "id": "06a0230d",
   "metadata": {},
   "outputs": [],
   "source": [
    "#c_rfe2=confusion_matrix(rf_rfe2,yrfe_test)\n",
    "#c_rfe2"
   ]
  },
  {
   "cell_type": "code",
   "execution_count": 312,
   "id": "31f99d17",
   "metadata": {},
   "outputs": [],
   "source": [
    "#Acc_rfe2=c_rfe2.diagonal().sum()/c_rfe2.sum()*100\n",
    "#Acc_rfe2"
   ]
  },
  {
   "cell_type": "code",
   "execution_count": 298,
   "id": "6406b2ad",
   "metadata": {},
   "outputs": [
    {
     "name": "stdout",
     "output_type": "stream",
     "text": [
      "              precision    recall  f1-score   support\n",
      "\n",
      "           0       1.00      0.99      1.00     13105\n",
      "           1       0.99      1.00      1.00     12880\n",
      "\n",
      "    accuracy                           1.00     25985\n",
      "   macro avg       1.00      1.00      1.00     25985\n",
      "weighted avg       1.00      1.00      1.00     25985\n",
      "\n"
     ]
    }
   ],
   "source": [
    "#print(classification_report(rf_rfe2,yrfe_test))"
   ]
  },
  {
   "cell_type": "code",
   "execution_count": null,
   "id": "896d52d4",
   "metadata": {},
   "outputs": [],
   "source": [
    "# from Model using class imbalanced technique ( Random Undersampling ) + EDA accuracy\n",
    "#from Random Oversampling accuracy \n",
    "# 1.  Logistic Regression = 98%  accuracy\n",
    "# 2.  Decision tree = 99% \n",
    "# 3.  Naive Bayes = 84% accuracy\n",
    "# 4.  Random Forest = 99%accuracy"
   ]
  },
  {
   "cell_type": "markdown",
   "id": "0643ed08",
   "metadata": {},
   "source": [
    "# Result =  Navie bayes with Random undersampling gives 86.97% accuracy.\n",
    "precision    recall  f1-score   support\n",
    "\n",
    "           0       0.80      0.93      0.86      7433\n",
    "           1       0.94      0.82      0.88      9890\n",
    "\n",
    "    accuracy                           0.87     17323\n",
    "   macro avg       0.87      0.88      0.87     17323\n",
    "weighted avg       0.88      0.87      0.87     17323"
   ]
  }
 ],
 "metadata": {
  "kernelspec": {
   "display_name": "Python 3 (ipykernel)",
   "language": "python",
   "name": "python3"
  },
  "language_info": {
   "codemirror_mode": {
    "name": "ipython",
    "version": 3
   },
   "file_extension": ".py",
   "mimetype": "text/x-python",
   "name": "python",
   "nbconvert_exporter": "python",
   "pygments_lexer": "ipython3",
   "version": "3.9.7"
  }
 },
 "nbformat": 4,
 "nbformat_minor": 5
}
